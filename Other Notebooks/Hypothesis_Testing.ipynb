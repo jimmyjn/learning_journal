{
 "cells": [
  {
   "cell_type": "markdown",
   "metadata": {},
   "source": [
    "First Project - Exploratory Data Analysis\n",
    "\n",
    "Jimmy Jaya Nugraha\n"
   ]
  },
  {
   "cell_type": "markdown",
   "metadata": {},
   "source": [
    "### Objective\n",
    "Increase sales in store C especially in fashion and accessories\n"
   ]
  },
  {
   "cell_type": "markdown",
   "metadata": {},
   "source": [
    "### 1. Import Library dan Load Data"
   ]
  },
  {
   "cell_type": "code",
   "execution_count": 1,
   "metadata": {},
   "outputs": [],
   "source": [
    "# Import Libraries\n",
    "import pandas as pd\n",
    "import numpy as np\n",
    "import matplotlib.pyplot as plt\n",
    "import seaborn as sns\n",
    "from scipy import stats\n",
    "from scipy.stats import norm\n",
    "import plotly.express as px\n",
    "from statsmodels.stats import multicomp"
   ]
  },
  {
   "cell_type": "code",
   "execution_count": 2,
   "metadata": {},
   "outputs": [
    {
     "data": {
      "text/html": [
       "<div>\n",
       "<style scoped>\n",
       "    .dataframe tbody tr th:only-of-type {\n",
       "        vertical-align: middle;\n",
       "    }\n",
       "\n",
       "    .dataframe tbody tr th {\n",
       "        vertical-align: top;\n",
       "    }\n",
       "\n",
       "    .dataframe thead th {\n",
       "        text-align: right;\n",
       "    }\n",
       "</style>\n",
       "<table border=\"1\" class=\"dataframe\">\n",
       "  <thead>\n",
       "    <tr style=\"text-align: right;\">\n",
       "      <th></th>\n",
       "      <th>Invoice ID</th>\n",
       "      <th>Branch</th>\n",
       "      <th>City</th>\n",
       "      <th>Customer type</th>\n",
       "      <th>Gender</th>\n",
       "      <th>Product line</th>\n",
       "      <th>Unit price</th>\n",
       "      <th>Quantity</th>\n",
       "      <th>Tax 5%</th>\n",
       "      <th>Total</th>\n",
       "      <th>Date</th>\n",
       "      <th>Time</th>\n",
       "      <th>Payment</th>\n",
       "      <th>cogs</th>\n",
       "      <th>gross margin percentage</th>\n",
       "      <th>gross income</th>\n",
       "      <th>Rating</th>\n",
       "    </tr>\n",
       "  </thead>\n",
       "  <tbody>\n",
       "    <tr>\n",
       "      <th>0</th>\n",
       "      <td>750-67-8428</td>\n",
       "      <td>A</td>\n",
       "      <td>Yangon</td>\n",
       "      <td>Member</td>\n",
       "      <td>Female</td>\n",
       "      <td>Health and beauty</td>\n",
       "      <td>74.69</td>\n",
       "      <td>7</td>\n",
       "      <td>26.1415</td>\n",
       "      <td>548.9715</td>\n",
       "      <td>1/5/2019</td>\n",
       "      <td>13:08</td>\n",
       "      <td>Ewallet</td>\n",
       "      <td>522.83</td>\n",
       "      <td>4.761905</td>\n",
       "      <td>26.1415</td>\n",
       "      <td>9.1</td>\n",
       "    </tr>\n",
       "    <tr>\n",
       "      <th>1</th>\n",
       "      <td>226-31-3081</td>\n",
       "      <td>C</td>\n",
       "      <td>Naypyitaw</td>\n",
       "      <td>Normal</td>\n",
       "      <td>Female</td>\n",
       "      <td>Electronic accessories</td>\n",
       "      <td>15.28</td>\n",
       "      <td>5</td>\n",
       "      <td>3.8200</td>\n",
       "      <td>80.2200</td>\n",
       "      <td>3/8/2019</td>\n",
       "      <td>10:29</td>\n",
       "      <td>Cash</td>\n",
       "      <td>76.40</td>\n",
       "      <td>4.761905</td>\n",
       "      <td>3.8200</td>\n",
       "      <td>9.6</td>\n",
       "    </tr>\n",
       "    <tr>\n",
       "      <th>2</th>\n",
       "      <td>631-41-3108</td>\n",
       "      <td>A</td>\n",
       "      <td>Yangon</td>\n",
       "      <td>Normal</td>\n",
       "      <td>Male</td>\n",
       "      <td>Home and lifestyle</td>\n",
       "      <td>46.33</td>\n",
       "      <td>7</td>\n",
       "      <td>16.2155</td>\n",
       "      <td>340.5255</td>\n",
       "      <td>3/3/2019</td>\n",
       "      <td>13:23</td>\n",
       "      <td>Credit card</td>\n",
       "      <td>324.31</td>\n",
       "      <td>4.761905</td>\n",
       "      <td>16.2155</td>\n",
       "      <td>7.4</td>\n",
       "    </tr>\n",
       "    <tr>\n",
       "      <th>3</th>\n",
       "      <td>123-19-1176</td>\n",
       "      <td>A</td>\n",
       "      <td>Yangon</td>\n",
       "      <td>Member</td>\n",
       "      <td>Male</td>\n",
       "      <td>Health and beauty</td>\n",
       "      <td>58.22</td>\n",
       "      <td>8</td>\n",
       "      <td>23.2880</td>\n",
       "      <td>489.0480</td>\n",
       "      <td>1/27/2019</td>\n",
       "      <td>20:33</td>\n",
       "      <td>Ewallet</td>\n",
       "      <td>465.76</td>\n",
       "      <td>4.761905</td>\n",
       "      <td>23.2880</td>\n",
       "      <td>8.4</td>\n",
       "    </tr>\n",
       "    <tr>\n",
       "      <th>4</th>\n",
       "      <td>373-73-7910</td>\n",
       "      <td>A</td>\n",
       "      <td>Yangon</td>\n",
       "      <td>Normal</td>\n",
       "      <td>Male</td>\n",
       "      <td>Sports and travel</td>\n",
       "      <td>86.31</td>\n",
       "      <td>7</td>\n",
       "      <td>30.2085</td>\n",
       "      <td>634.3785</td>\n",
       "      <td>2/8/2019</td>\n",
       "      <td>10:37</td>\n",
       "      <td>Ewallet</td>\n",
       "      <td>604.17</td>\n",
       "      <td>4.761905</td>\n",
       "      <td>30.2085</td>\n",
       "      <td>5.3</td>\n",
       "    </tr>\n",
       "  </tbody>\n",
       "</table>\n",
       "</div>"
      ],
      "text/plain": [
       "    Invoice ID Branch       City Customer type  Gender  \\\n",
       "0  750-67-8428      A     Yangon        Member  Female   \n",
       "1  226-31-3081      C  Naypyitaw        Normal  Female   \n",
       "2  631-41-3108      A     Yangon        Normal    Male   \n",
       "3  123-19-1176      A     Yangon        Member    Male   \n",
       "4  373-73-7910      A     Yangon        Normal    Male   \n",
       "\n",
       "             Product line  Unit price  Quantity   Tax 5%     Total       Date  \\\n",
       "0       Health and beauty       74.69         7  26.1415  548.9715   1/5/2019   \n",
       "1  Electronic accessories       15.28         5   3.8200   80.2200   3/8/2019   \n",
       "2      Home and lifestyle       46.33         7  16.2155  340.5255   3/3/2019   \n",
       "3       Health and beauty       58.22         8  23.2880  489.0480  1/27/2019   \n",
       "4       Sports and travel       86.31         7  30.2085  634.3785   2/8/2019   \n",
       "\n",
       "    Time      Payment    cogs  gross margin percentage  gross income  Rating  \n",
       "0  13:08      Ewallet  522.83                 4.761905       26.1415     9.1  \n",
       "1  10:29         Cash   76.40                 4.761905        3.8200     9.6  \n",
       "2  13:23  Credit card  324.31                 4.761905       16.2155     7.4  \n",
       "3  20:33      Ewallet  465.76                 4.761905       23.2880     8.4  \n",
       "4  10:37      Ewallet  604.17                 4.761905       30.2085     5.3  "
      ]
     },
     "execution_count": 2,
     "metadata": {},
     "output_type": "execute_result"
    }
   ],
   "source": [
    "# Data Loading\n",
    "df= pd.read_csv('supermarket_sales - Sheet1.csv')\n",
    "df.head()"
   ]
  },
  {
   "cell_type": "markdown",
   "metadata": {},
   "source": [
    "### 2. Data Preprocessing"
   ]
  },
  {
   "cell_type": "markdown",
   "metadata": {},
   "source": [
    "#### 2.1 Pengecekan Data"
   ]
  },
  {
   "cell_type": "code",
   "execution_count": 3,
   "metadata": {},
   "outputs": [
    {
     "name": "stdout",
     "output_type": "stream",
     "text": [
      "<class 'pandas.core.frame.DataFrame'>\n",
      "RangeIndex: 1000 entries, 0 to 999\n",
      "Data columns (total 17 columns):\n",
      " #   Column                   Non-Null Count  Dtype  \n",
      "---  ------                   --------------  -----  \n",
      " 0   Invoice ID               1000 non-null   object \n",
      " 1   Branch                   1000 non-null   object \n",
      " 2   City                     1000 non-null   object \n",
      " 3   Customer type            1000 non-null   object \n",
      " 4   Gender                   1000 non-null   object \n",
      " 5   Product line             1000 non-null   object \n",
      " 6   Unit price               1000 non-null   float64\n",
      " 7   Quantity                 1000 non-null   int64  \n",
      " 8   Tax 5%                   1000 non-null   float64\n",
      " 9   Total                    1000 non-null   float64\n",
      " 10  Date                     1000 non-null   object \n",
      " 11  Time                     1000 non-null   object \n",
      " 12  Payment                  1000 non-null   object \n",
      " 13  cogs                     1000 non-null   float64\n",
      " 14  gross margin percentage  1000 non-null   float64\n",
      " 15  gross income             1000 non-null   float64\n",
      " 16  Rating                   1000 non-null   float64\n",
      "dtypes: float64(7), int64(1), object(9)\n",
      "memory usage: 132.9+ KB\n"
     ]
    }
   ],
   "source": [
    "# Cek info dari setiap kolom, melihat dtype dan non null count nya\n",
    "df.info()"
   ]
  },
  {
   "cell_type": "code",
   "execution_count": 4,
   "metadata": {},
   "outputs": [
    {
     "data": {
      "text/plain": [
       "Invoice ID                 0\n",
       "Branch                     0\n",
       "City                       0\n",
       "Customer type              0\n",
       "Gender                     0\n",
       "Product line               0\n",
       "Unit price                 0\n",
       "Quantity                   0\n",
       "Tax 5%                     0\n",
       "Total                      0\n",
       "Date                       0\n",
       "Time                       0\n",
       "Payment                    0\n",
       "cogs                       0\n",
       "gross margin percentage    0\n",
       "gross income               0\n",
       "Rating                     0\n",
       "dtype: int64"
      ]
     },
     "execution_count": 4,
     "metadata": {},
     "output_type": "execute_result"
    }
   ],
   "source": [
    "# Melihat jumlah expected missing value\n",
    "df.isnull().sum()"
   ]
  },
  {
   "cell_type": "code",
   "execution_count": 5,
   "metadata": {},
   "outputs": [
    {
     "data": {
      "text/html": [
       "<div>\n",
       "<style scoped>\n",
       "    .dataframe tbody tr th:only-of-type {\n",
       "        vertical-align: middle;\n",
       "    }\n",
       "\n",
       "    .dataframe tbody tr th {\n",
       "        vertical-align: top;\n",
       "    }\n",
       "\n",
       "    .dataframe thead th {\n",
       "        text-align: right;\n",
       "    }\n",
       "</style>\n",
       "<table border=\"1\" class=\"dataframe\">\n",
       "  <thead>\n",
       "    <tr style=\"text-align: right;\">\n",
       "      <th></th>\n",
       "      <th>Invoice ID</th>\n",
       "      <th>Branch</th>\n",
       "      <th>City</th>\n",
       "      <th>Customer type</th>\n",
       "      <th>Gender</th>\n",
       "      <th>Product line</th>\n",
       "      <th>Unit price</th>\n",
       "      <th>Quantity</th>\n",
       "      <th>Tax 5%</th>\n",
       "      <th>Total</th>\n",
       "      <th>Date</th>\n",
       "      <th>Time</th>\n",
       "      <th>Payment</th>\n",
       "      <th>cogs</th>\n",
       "      <th>gross margin percentage</th>\n",
       "      <th>gross income</th>\n",
       "      <th>Rating</th>\n",
       "    </tr>\n",
       "  </thead>\n",
       "  <tbody>\n",
       "    <tr>\n",
       "      <th>count</th>\n",
       "      <td>1000</td>\n",
       "      <td>1000</td>\n",
       "      <td>1000</td>\n",
       "      <td>1000</td>\n",
       "      <td>1000</td>\n",
       "      <td>1000</td>\n",
       "      <td>1000.000000</td>\n",
       "      <td>1000.000000</td>\n",
       "      <td>1000.000000</td>\n",
       "      <td>1000.000000</td>\n",
       "      <td>1000</td>\n",
       "      <td>1000</td>\n",
       "      <td>1000</td>\n",
       "      <td>1000.00000</td>\n",
       "      <td>1.000000e+03</td>\n",
       "      <td>1000.000000</td>\n",
       "      <td>1000.00000</td>\n",
       "    </tr>\n",
       "    <tr>\n",
       "      <th>unique</th>\n",
       "      <td>1000</td>\n",
       "      <td>3</td>\n",
       "      <td>3</td>\n",
       "      <td>2</td>\n",
       "      <td>2</td>\n",
       "      <td>6</td>\n",
       "      <td>NaN</td>\n",
       "      <td>NaN</td>\n",
       "      <td>NaN</td>\n",
       "      <td>NaN</td>\n",
       "      <td>89</td>\n",
       "      <td>506</td>\n",
       "      <td>3</td>\n",
       "      <td>NaN</td>\n",
       "      <td>NaN</td>\n",
       "      <td>NaN</td>\n",
       "      <td>NaN</td>\n",
       "    </tr>\n",
       "    <tr>\n",
       "      <th>top</th>\n",
       "      <td>750-67-8428</td>\n",
       "      <td>A</td>\n",
       "      <td>Yangon</td>\n",
       "      <td>Member</td>\n",
       "      <td>Female</td>\n",
       "      <td>Fashion accessories</td>\n",
       "      <td>NaN</td>\n",
       "      <td>NaN</td>\n",
       "      <td>NaN</td>\n",
       "      <td>NaN</td>\n",
       "      <td>2/7/2019</td>\n",
       "      <td>19:48</td>\n",
       "      <td>Ewallet</td>\n",
       "      <td>NaN</td>\n",
       "      <td>NaN</td>\n",
       "      <td>NaN</td>\n",
       "      <td>NaN</td>\n",
       "    </tr>\n",
       "    <tr>\n",
       "      <th>freq</th>\n",
       "      <td>1</td>\n",
       "      <td>340</td>\n",
       "      <td>340</td>\n",
       "      <td>501</td>\n",
       "      <td>501</td>\n",
       "      <td>178</td>\n",
       "      <td>NaN</td>\n",
       "      <td>NaN</td>\n",
       "      <td>NaN</td>\n",
       "      <td>NaN</td>\n",
       "      <td>20</td>\n",
       "      <td>7</td>\n",
       "      <td>345</td>\n",
       "      <td>NaN</td>\n",
       "      <td>NaN</td>\n",
       "      <td>NaN</td>\n",
       "      <td>NaN</td>\n",
       "    </tr>\n",
       "    <tr>\n",
       "      <th>mean</th>\n",
       "      <td>NaN</td>\n",
       "      <td>NaN</td>\n",
       "      <td>NaN</td>\n",
       "      <td>NaN</td>\n",
       "      <td>NaN</td>\n",
       "      <td>NaN</td>\n",
       "      <td>55.672130</td>\n",
       "      <td>5.510000</td>\n",
       "      <td>15.379369</td>\n",
       "      <td>322.966749</td>\n",
       "      <td>NaN</td>\n",
       "      <td>NaN</td>\n",
       "      <td>NaN</td>\n",
       "      <td>307.58738</td>\n",
       "      <td>4.761905e+00</td>\n",
       "      <td>15.379369</td>\n",
       "      <td>6.97270</td>\n",
       "    </tr>\n",
       "    <tr>\n",
       "      <th>std</th>\n",
       "      <td>NaN</td>\n",
       "      <td>NaN</td>\n",
       "      <td>NaN</td>\n",
       "      <td>NaN</td>\n",
       "      <td>NaN</td>\n",
       "      <td>NaN</td>\n",
       "      <td>26.494628</td>\n",
       "      <td>2.923431</td>\n",
       "      <td>11.708825</td>\n",
       "      <td>245.885335</td>\n",
       "      <td>NaN</td>\n",
       "      <td>NaN</td>\n",
       "      <td>NaN</td>\n",
       "      <td>234.17651</td>\n",
       "      <td>6.131498e-14</td>\n",
       "      <td>11.708825</td>\n",
       "      <td>1.71858</td>\n",
       "    </tr>\n",
       "    <tr>\n",
       "      <th>min</th>\n",
       "      <td>NaN</td>\n",
       "      <td>NaN</td>\n",
       "      <td>NaN</td>\n",
       "      <td>NaN</td>\n",
       "      <td>NaN</td>\n",
       "      <td>NaN</td>\n",
       "      <td>10.080000</td>\n",
       "      <td>1.000000</td>\n",
       "      <td>0.508500</td>\n",
       "      <td>10.678500</td>\n",
       "      <td>NaN</td>\n",
       "      <td>NaN</td>\n",
       "      <td>NaN</td>\n",
       "      <td>10.17000</td>\n",
       "      <td>4.761905e+00</td>\n",
       "      <td>0.508500</td>\n",
       "      <td>4.00000</td>\n",
       "    </tr>\n",
       "    <tr>\n",
       "      <th>25%</th>\n",
       "      <td>NaN</td>\n",
       "      <td>NaN</td>\n",
       "      <td>NaN</td>\n",
       "      <td>NaN</td>\n",
       "      <td>NaN</td>\n",
       "      <td>NaN</td>\n",
       "      <td>32.875000</td>\n",
       "      <td>3.000000</td>\n",
       "      <td>5.924875</td>\n",
       "      <td>124.422375</td>\n",
       "      <td>NaN</td>\n",
       "      <td>NaN</td>\n",
       "      <td>NaN</td>\n",
       "      <td>118.49750</td>\n",
       "      <td>4.761905e+00</td>\n",
       "      <td>5.924875</td>\n",
       "      <td>5.50000</td>\n",
       "    </tr>\n",
       "    <tr>\n",
       "      <th>50%</th>\n",
       "      <td>NaN</td>\n",
       "      <td>NaN</td>\n",
       "      <td>NaN</td>\n",
       "      <td>NaN</td>\n",
       "      <td>NaN</td>\n",
       "      <td>NaN</td>\n",
       "      <td>55.230000</td>\n",
       "      <td>5.000000</td>\n",
       "      <td>12.088000</td>\n",
       "      <td>253.848000</td>\n",
       "      <td>NaN</td>\n",
       "      <td>NaN</td>\n",
       "      <td>NaN</td>\n",
       "      <td>241.76000</td>\n",
       "      <td>4.761905e+00</td>\n",
       "      <td>12.088000</td>\n",
       "      <td>7.00000</td>\n",
       "    </tr>\n",
       "    <tr>\n",
       "      <th>75%</th>\n",
       "      <td>NaN</td>\n",
       "      <td>NaN</td>\n",
       "      <td>NaN</td>\n",
       "      <td>NaN</td>\n",
       "      <td>NaN</td>\n",
       "      <td>NaN</td>\n",
       "      <td>77.935000</td>\n",
       "      <td>8.000000</td>\n",
       "      <td>22.445250</td>\n",
       "      <td>471.350250</td>\n",
       "      <td>NaN</td>\n",
       "      <td>NaN</td>\n",
       "      <td>NaN</td>\n",
       "      <td>448.90500</td>\n",
       "      <td>4.761905e+00</td>\n",
       "      <td>22.445250</td>\n",
       "      <td>8.50000</td>\n",
       "    </tr>\n",
       "    <tr>\n",
       "      <th>max</th>\n",
       "      <td>NaN</td>\n",
       "      <td>NaN</td>\n",
       "      <td>NaN</td>\n",
       "      <td>NaN</td>\n",
       "      <td>NaN</td>\n",
       "      <td>NaN</td>\n",
       "      <td>99.960000</td>\n",
       "      <td>10.000000</td>\n",
       "      <td>49.650000</td>\n",
       "      <td>1042.650000</td>\n",
       "      <td>NaN</td>\n",
       "      <td>NaN</td>\n",
       "      <td>NaN</td>\n",
       "      <td>993.00000</td>\n",
       "      <td>4.761905e+00</td>\n",
       "      <td>49.650000</td>\n",
       "      <td>10.00000</td>\n",
       "    </tr>\n",
       "  </tbody>\n",
       "</table>\n",
       "</div>"
      ],
      "text/plain": [
       "         Invoice ID Branch    City Customer type  Gender         Product line  \\\n",
       "count          1000   1000    1000          1000    1000                 1000   \n",
       "unique         1000      3       3             2       2                    6   \n",
       "top     750-67-8428      A  Yangon        Member  Female  Fashion accessories   \n",
       "freq              1    340     340           501     501                  178   \n",
       "mean            NaN    NaN     NaN           NaN     NaN                  NaN   \n",
       "std             NaN    NaN     NaN           NaN     NaN                  NaN   \n",
       "min             NaN    NaN     NaN           NaN     NaN                  NaN   \n",
       "25%             NaN    NaN     NaN           NaN     NaN                  NaN   \n",
       "50%             NaN    NaN     NaN           NaN     NaN                  NaN   \n",
       "75%             NaN    NaN     NaN           NaN     NaN                  NaN   \n",
       "max             NaN    NaN     NaN           NaN     NaN                  NaN   \n",
       "\n",
       "         Unit price     Quantity       Tax 5%        Total      Date   Time  \\\n",
       "count   1000.000000  1000.000000  1000.000000  1000.000000      1000   1000   \n",
       "unique          NaN          NaN          NaN          NaN        89    506   \n",
       "top             NaN          NaN          NaN          NaN  2/7/2019  19:48   \n",
       "freq            NaN          NaN          NaN          NaN        20      7   \n",
       "mean      55.672130     5.510000    15.379369   322.966749       NaN    NaN   \n",
       "std       26.494628     2.923431    11.708825   245.885335       NaN    NaN   \n",
       "min       10.080000     1.000000     0.508500    10.678500       NaN    NaN   \n",
       "25%       32.875000     3.000000     5.924875   124.422375       NaN    NaN   \n",
       "50%       55.230000     5.000000    12.088000   253.848000       NaN    NaN   \n",
       "75%       77.935000     8.000000    22.445250   471.350250       NaN    NaN   \n",
       "max       99.960000    10.000000    49.650000  1042.650000       NaN    NaN   \n",
       "\n",
       "        Payment        cogs  gross margin percentage  gross income      Rating  \n",
       "count      1000  1000.00000             1.000000e+03   1000.000000  1000.00000  \n",
       "unique        3         NaN                      NaN           NaN         NaN  \n",
       "top     Ewallet         NaN                      NaN           NaN         NaN  \n",
       "freq        345         NaN                      NaN           NaN         NaN  \n",
       "mean        NaN   307.58738             4.761905e+00     15.379369     6.97270  \n",
       "std         NaN   234.17651             6.131498e-14     11.708825     1.71858  \n",
       "min         NaN    10.17000             4.761905e+00      0.508500     4.00000  \n",
       "25%         NaN   118.49750             4.761905e+00      5.924875     5.50000  \n",
       "50%         NaN   241.76000             4.761905e+00     12.088000     7.00000  \n",
       "75%         NaN   448.90500             4.761905e+00     22.445250     8.50000  \n",
       "max         NaN   993.00000             4.761905e+00     49.650000    10.00000  "
      ]
     },
     "execution_count": 5,
     "metadata": {},
     "output_type": "execute_result"
    }
   ],
   "source": [
    "# Melihat describenya\n",
    "df.describe(include='all')"
   ]
  },
  {
   "cell_type": "markdown",
   "metadata": {},
   "source": [
    "Pengecekan dari describe , isnull, dan info untuk setiap kolom:\n",
    "- Invoice ID : jumlah data 1000, dan tidak ada yang sama karena uniquenya 1000 juga, tidak ada yang null, tanpa expected missing value\n",
    "- Branch : sesuai ada 3 branch, dengan 3 unique values, tanpa expected missing value\n",
    "- City : berjumlah 3 unique values, tanpa expected missing values\n",
    "- Customer type : Sesuai ada 2 unique values karen aharusnya isinya member dan normal, tanpa expected missing values\n",
    "- Gender : Sesuai terdapat 2 jenis gender, tanpa expected missing values\n",
    "- Unit Price : Sesuai karena jenis datanya float, sekilas terlihat dari mean dan median data terlihat normal, tanpa expected missing values\n",
    "- Quantity : Sesuai karena tipenya integer, sekilas terlihat dari mean dan median data terlihat normal, tanpa expected missing values\n",
    "- Tax 5% : Sesuai karena tipenya float, sekilas terlihat dari mean dan median data terlihat TIDAK NORMAL, tanpa expected missing values\n",
    "- Total : Sesuai karena tipenya float, sekilas terlihat dari mean dan median data terlihat TIDAK NORMAL, tanpa expected missing values\n",
    "- Date : tipenya object, tanpa expected missing values\n",
    "- Time : tipenya object, tanpa expected missing values\n",
    "- Payment : Sesuai ada 3 jenis pembayaran, karena ada 3 unique values, tanpa expected missing values\n",
    "- cogs : Sesuai karena tipenya float, sekilas terlihat dari mean dan median data terlihat TIDAK NORMAL, tanpa expected missing values, nilainya juga lebih kecil daripada total\n",
    "- gross margin percentage : Sesuai karena tipenya float, sekilas terlihat dari mean dan median data terlihat normal, tanpa expected missing values\n",
    "- gross income : Sesuai karena tipenya float, sekilas terlihat dari mean dan median data terlihat TIDAK NORMAL, tanpa expected missing values\n",
    "- Rating : tipe data float berarti customer memberikan rating hingga desimal atau mungkin yang ada di data adalah rata-rata dari beberapa penilaian. Sekilas rata-rata dan mediannta cukup kecil dan juga agak terlihat TIDAK NORMAL, tanpa expected missing values\n"
   ]
  },
  {
   "cell_type": "markdown",
   "metadata": {},
   "source": [
    "#### 2.2 Analisa Skewness dan Kenormalan Data"
   ]
  },
  {
   "cell_type": "code",
   "execution_count": 6,
   "metadata": {},
   "outputs": [
    {
     "name": "stderr",
     "output_type": "stream",
     "text": [
      "C:\\Users\\Jimmy\\AppData\\Local\\Temp/ipykernel_11316/1665899112.py:1: FutureWarning: Dropping of nuisance columns in DataFrame reductions (with 'numeric_only=None') is deprecated; in a future version this will raise TypeError.  Select only valid columns before calling the reduction.\n",
      "  df.skew()\n"
     ]
    },
    {
     "data": {
      "text/plain": [
       "Unit price                 0.007077\n",
       "Quantity                   0.012941\n",
       "Tax 5%                     0.892570\n",
       "Total                      0.892570\n",
       "cogs                       0.892570\n",
       "gross margin percentage    0.000000\n",
       "gross income               0.892570\n",
       "Rating                     0.009010\n",
       "dtype: float64"
      ]
     },
     "execution_count": 6,
     "metadata": {},
     "output_type": "execute_result"
    }
   ],
   "source": [
    "df.skew()"
   ]
  },
  {
   "cell_type": "markdown",
   "metadata": {},
   "source": [
    "Terlihat datanya banyak yang cukup right skewed, khususnya pada kolom Tax 5%, Total, cogs, dan gross income"
   ]
  },
  {
   "cell_type": "code",
   "execution_count": 7,
   "metadata": {},
   "outputs": [
    {
     "data": {
      "text/html": [
       "<div>\n",
       "<style scoped>\n",
       "    .dataframe tbody tr th:only-of-type {\n",
       "        vertical-align: middle;\n",
       "    }\n",
       "\n",
       "    .dataframe tbody tr th {\n",
       "        vertical-align: top;\n",
       "    }\n",
       "\n",
       "    .dataframe thead th {\n",
       "        text-align: right;\n",
       "    }\n",
       "</style>\n",
       "<table border=\"1\" class=\"dataframe\">\n",
       "  <thead>\n",
       "    <tr style=\"text-align: right;\">\n",
       "      <th></th>\n",
       "      <th>Invoice ID</th>\n",
       "      <th>Branch</th>\n",
       "      <th>City</th>\n",
       "      <th>Customer type</th>\n",
       "      <th>Gender</th>\n",
       "      <th>Product line</th>\n",
       "      <th>Unit price</th>\n",
       "      <th>Quantity</th>\n",
       "      <th>Tax 5%</th>\n",
       "      <th>Total</th>\n",
       "      <th>Date</th>\n",
       "      <th>Time</th>\n",
       "      <th>Payment</th>\n",
       "      <th>cogs</th>\n",
       "      <th>gross margin percentage</th>\n",
       "      <th>gross income</th>\n",
       "      <th>Rating</th>\n",
       "    </tr>\n",
       "  </thead>\n",
       "  <tbody>\n",
       "    <tr>\n",
       "      <th>822</th>\n",
       "      <td>784-21-9238</td>\n",
       "      <td>C</td>\n",
       "      <td>Naypyitaw</td>\n",
       "      <td>Member</td>\n",
       "      <td>Male</td>\n",
       "      <td>Sports and travel</td>\n",
       "      <td>10.17</td>\n",
       "      <td>1</td>\n",
       "      <td>0.5085</td>\n",
       "      <td>10.6785</td>\n",
       "      <td>2/7/2019</td>\n",
       "      <td>14:15</td>\n",
       "      <td>Cash</td>\n",
       "      <td>10.17</td>\n",
       "      <td>4.761905</td>\n",
       "      <td>0.5085</td>\n",
       "      <td>5.9</td>\n",
       "    </tr>\n",
       "    <tr>\n",
       "      <th>629</th>\n",
       "      <td>308-39-1707</td>\n",
       "      <td>A</td>\n",
       "      <td>Yangon</td>\n",
       "      <td>Normal</td>\n",
       "      <td>Female</td>\n",
       "      <td>Fashion accessories</td>\n",
       "      <td>12.09</td>\n",
       "      <td>1</td>\n",
       "      <td>0.6045</td>\n",
       "      <td>12.6945</td>\n",
       "      <td>1/26/2019</td>\n",
       "      <td>18:19</td>\n",
       "      <td>Credit card</td>\n",
       "      <td>12.09</td>\n",
       "      <td>4.761905</td>\n",
       "      <td>0.6045</td>\n",
       "      <td>8.2</td>\n",
       "    </tr>\n",
       "    <tr>\n",
       "      <th>223</th>\n",
       "      <td>279-62-1445</td>\n",
       "      <td>C</td>\n",
       "      <td>Naypyitaw</td>\n",
       "      <td>Member</td>\n",
       "      <td>Female</td>\n",
       "      <td>Fashion accessories</td>\n",
       "      <td>12.54</td>\n",
       "      <td>1</td>\n",
       "      <td>0.6270</td>\n",
       "      <td>13.1670</td>\n",
       "      <td>2/21/2019</td>\n",
       "      <td>12:38</td>\n",
       "      <td>Cash</td>\n",
       "      <td>12.54</td>\n",
       "      <td>4.761905</td>\n",
       "      <td>0.6270</td>\n",
       "      <td>8.2</td>\n",
       "    </tr>\n",
       "    <tr>\n",
       "      <th>443</th>\n",
       "      <td>192-98-7397</td>\n",
       "      <td>C</td>\n",
       "      <td>Naypyitaw</td>\n",
       "      <td>Normal</td>\n",
       "      <td>Male</td>\n",
       "      <td>Fashion accessories</td>\n",
       "      <td>12.78</td>\n",
       "      <td>1</td>\n",
       "      <td>0.6390</td>\n",
       "      <td>13.4190</td>\n",
       "      <td>1/8/2019</td>\n",
       "      <td>14:11</td>\n",
       "      <td>Ewallet</td>\n",
       "      <td>12.78</td>\n",
       "      <td>4.761905</td>\n",
       "      <td>0.6390</td>\n",
       "      <td>9.5</td>\n",
       "    </tr>\n",
       "    <tr>\n",
       "      <th>402</th>\n",
       "      <td>236-86-3015</td>\n",
       "      <td>C</td>\n",
       "      <td>Naypyitaw</td>\n",
       "      <td>Member</td>\n",
       "      <td>Male</td>\n",
       "      <td>Home and lifestyle</td>\n",
       "      <td>13.98</td>\n",
       "      <td>1</td>\n",
       "      <td>0.6990</td>\n",
       "      <td>14.6790</td>\n",
       "      <td>2/4/2019</td>\n",
       "      <td>13:38</td>\n",
       "      <td>Ewallet</td>\n",
       "      <td>13.98</td>\n",
       "      <td>4.761905</td>\n",
       "      <td>0.6990</td>\n",
       "      <td>9.8</td>\n",
       "    </tr>\n",
       "  </tbody>\n",
       "</table>\n",
       "</div>"
      ],
      "text/plain": [
       "      Invoice ID Branch       City Customer type  Gender         Product line  \\\n",
       "822  784-21-9238      C  Naypyitaw        Member    Male    Sports and travel   \n",
       "629  308-39-1707      A     Yangon        Normal  Female  Fashion accessories   \n",
       "223  279-62-1445      C  Naypyitaw        Member  Female  Fashion accessories   \n",
       "443  192-98-7397      C  Naypyitaw        Normal    Male  Fashion accessories   \n",
       "402  236-86-3015      C  Naypyitaw        Member    Male   Home and lifestyle   \n",
       "\n",
       "     Unit price  Quantity  Tax 5%    Total       Date   Time      Payment  \\\n",
       "822       10.17         1  0.5085  10.6785   2/7/2019  14:15         Cash   \n",
       "629       12.09         1  0.6045  12.6945  1/26/2019  18:19  Credit card   \n",
       "223       12.54         1  0.6270  13.1670  2/21/2019  12:38         Cash   \n",
       "443       12.78         1  0.6390  13.4190   1/8/2019  14:11      Ewallet   \n",
       "402       13.98         1  0.6990  14.6790   2/4/2019  13:38      Ewallet   \n",
       "\n",
       "      cogs  gross margin percentage  gross income  Rating  \n",
       "822  10.17                 4.761905        0.5085     5.9  \n",
       "629  12.09                 4.761905        0.6045     8.2  \n",
       "223  12.54                 4.761905        0.6270     8.2  \n",
       "443  12.78                 4.761905        0.6390     9.5  \n",
       "402  13.98                 4.761905        0.6990     9.8  "
      ]
     },
     "execution_count": 7,
     "metadata": {},
     "output_type": "execute_result"
    }
   ],
   "source": [
    "# Melihat data teratas jika diurutkan dari kolom Total\n",
    "df.sort_values(by='Total', ascending=True).head()"
   ]
  },
  {
   "cell_type": "code",
   "execution_count": 8,
   "metadata": {},
   "outputs": [
    {
     "data": {
      "text/html": [
       "<div>\n",
       "<style scoped>\n",
       "    .dataframe tbody tr th:only-of-type {\n",
       "        vertical-align: middle;\n",
       "    }\n",
       "\n",
       "    .dataframe tbody tr th {\n",
       "        vertical-align: top;\n",
       "    }\n",
       "\n",
       "    .dataframe thead th {\n",
       "        text-align: right;\n",
       "    }\n",
       "</style>\n",
       "<table border=\"1\" class=\"dataframe\">\n",
       "  <thead>\n",
       "    <tr style=\"text-align: right;\">\n",
       "      <th></th>\n",
       "      <th>Invoice ID</th>\n",
       "      <th>Branch</th>\n",
       "      <th>City</th>\n",
       "      <th>Customer type</th>\n",
       "      <th>Gender</th>\n",
       "      <th>Product line</th>\n",
       "      <th>Unit price</th>\n",
       "      <th>Quantity</th>\n",
       "      <th>Tax 5%</th>\n",
       "      <th>Total</th>\n",
       "      <th>Date</th>\n",
       "      <th>Time</th>\n",
       "      <th>Payment</th>\n",
       "      <th>cogs</th>\n",
       "      <th>gross margin percentage</th>\n",
       "      <th>gross income</th>\n",
       "      <th>Rating</th>\n",
       "    </tr>\n",
       "  </thead>\n",
       "  <tbody>\n",
       "    <tr>\n",
       "      <th>996</th>\n",
       "      <td>303-96-2227</td>\n",
       "      <td>B</td>\n",
       "      <td>Mandalay</td>\n",
       "      <td>Normal</td>\n",
       "      <td>Female</td>\n",
       "      <td>Home and lifestyle</td>\n",
       "      <td>97.38</td>\n",
       "      <td>10</td>\n",
       "      <td>48.69</td>\n",
       "      <td>1022.49</td>\n",
       "      <td>3/2/2019</td>\n",
       "      <td>17:16</td>\n",
       "      <td>Ewallet</td>\n",
       "      <td>973.8</td>\n",
       "      <td>4.761905</td>\n",
       "      <td>48.69</td>\n",
       "      <td>4.4</td>\n",
       "    </tr>\n",
       "    <tr>\n",
       "      <th>699</th>\n",
       "      <td>751-41-9720</td>\n",
       "      <td>C</td>\n",
       "      <td>Naypyitaw</td>\n",
       "      <td>Normal</td>\n",
       "      <td>Male</td>\n",
       "      <td>Home and lifestyle</td>\n",
       "      <td>97.50</td>\n",
       "      <td>10</td>\n",
       "      <td>48.75</td>\n",
       "      <td>1023.75</td>\n",
       "      <td>1/12/2019</td>\n",
       "      <td>16:18</td>\n",
       "      <td>Ewallet</td>\n",
       "      <td>975.0</td>\n",
       "      <td>4.761905</td>\n",
       "      <td>48.75</td>\n",
       "      <td>8.0</td>\n",
       "    </tr>\n",
       "    <tr>\n",
       "      <th>557</th>\n",
       "      <td>283-26-5248</td>\n",
       "      <td>C</td>\n",
       "      <td>Naypyitaw</td>\n",
       "      <td>Member</td>\n",
       "      <td>Female</td>\n",
       "      <td>Food and beverages</td>\n",
       "      <td>98.52</td>\n",
       "      <td>10</td>\n",
       "      <td>49.26</td>\n",
       "      <td>1034.46</td>\n",
       "      <td>1/30/2019</td>\n",
       "      <td>20:23</td>\n",
       "      <td>Ewallet</td>\n",
       "      <td>985.2</td>\n",
       "      <td>4.761905</td>\n",
       "      <td>49.26</td>\n",
       "      <td>4.5</td>\n",
       "    </tr>\n",
       "    <tr>\n",
       "      <th>167</th>\n",
       "      <td>687-47-8271</td>\n",
       "      <td>A</td>\n",
       "      <td>Yangon</td>\n",
       "      <td>Normal</td>\n",
       "      <td>Male</td>\n",
       "      <td>Fashion accessories</td>\n",
       "      <td>98.98</td>\n",
       "      <td>10</td>\n",
       "      <td>49.49</td>\n",
       "      <td>1039.29</td>\n",
       "      <td>2/8/2019</td>\n",
       "      <td>16:20</td>\n",
       "      <td>Credit card</td>\n",
       "      <td>989.8</td>\n",
       "      <td>4.761905</td>\n",
       "      <td>49.49</td>\n",
       "      <td>8.7</td>\n",
       "    </tr>\n",
       "    <tr>\n",
       "      <th>350</th>\n",
       "      <td>860-79-0874</td>\n",
       "      <td>C</td>\n",
       "      <td>Naypyitaw</td>\n",
       "      <td>Member</td>\n",
       "      <td>Female</td>\n",
       "      <td>Fashion accessories</td>\n",
       "      <td>99.30</td>\n",
       "      <td>10</td>\n",
       "      <td>49.65</td>\n",
       "      <td>1042.65</td>\n",
       "      <td>2/15/2019</td>\n",
       "      <td>14:53</td>\n",
       "      <td>Credit card</td>\n",
       "      <td>993.0</td>\n",
       "      <td>4.761905</td>\n",
       "      <td>49.65</td>\n",
       "      <td>6.6</td>\n",
       "    </tr>\n",
       "  </tbody>\n",
       "</table>\n",
       "</div>"
      ],
      "text/plain": [
       "      Invoice ID Branch       City Customer type  Gender         Product line  \\\n",
       "996  303-96-2227      B   Mandalay        Normal  Female   Home and lifestyle   \n",
       "699  751-41-9720      C  Naypyitaw        Normal    Male   Home and lifestyle   \n",
       "557  283-26-5248      C  Naypyitaw        Member  Female   Food and beverages   \n",
       "167  687-47-8271      A     Yangon        Normal    Male  Fashion accessories   \n",
       "350  860-79-0874      C  Naypyitaw        Member  Female  Fashion accessories   \n",
       "\n",
       "     Unit price  Quantity  Tax 5%    Total       Date   Time      Payment  \\\n",
       "996       97.38        10   48.69  1022.49   3/2/2019  17:16      Ewallet   \n",
       "699       97.50        10   48.75  1023.75  1/12/2019  16:18      Ewallet   \n",
       "557       98.52        10   49.26  1034.46  1/30/2019  20:23      Ewallet   \n",
       "167       98.98        10   49.49  1039.29   2/8/2019  16:20  Credit card   \n",
       "350       99.30        10   49.65  1042.65  2/15/2019  14:53  Credit card   \n",
       "\n",
       "      cogs  gross margin percentage  gross income  Rating  \n",
       "996  973.8                 4.761905         48.69     4.4  \n",
       "699  975.0                 4.761905         48.75     8.0  \n",
       "557  985.2                 4.761905         49.26     4.5  \n",
       "167  989.8                 4.761905         49.49     8.7  \n",
       "350  993.0                 4.761905         49.65     6.6  "
      ]
     },
     "execution_count": 8,
     "metadata": {},
     "output_type": "execute_result"
    }
   ],
   "source": [
    "# Melihat data terbawah jika diurutkan dari kolom Total\n",
    "df.sort_values(by='Total', ascending=True).tail()"
   ]
  },
  {
   "cell_type": "code",
   "execution_count": 9,
   "metadata": {},
   "outputs": [
    {
     "data": {
      "text/html": [
       "<div>\n",
       "<style scoped>\n",
       "    .dataframe tbody tr th:only-of-type {\n",
       "        vertical-align: middle;\n",
       "    }\n",
       "\n",
       "    .dataframe tbody tr th {\n",
       "        vertical-align: top;\n",
       "    }\n",
       "\n",
       "    .dataframe thead th {\n",
       "        text-align: right;\n",
       "    }\n",
       "</style>\n",
       "<table border=\"1\" class=\"dataframe\">\n",
       "  <thead>\n",
       "    <tr style=\"text-align: right;\">\n",
       "      <th></th>\n",
       "      <th>Invoice ID</th>\n",
       "      <th>Branch</th>\n",
       "      <th>City</th>\n",
       "      <th>Customer type</th>\n",
       "      <th>Gender</th>\n",
       "      <th>Product line</th>\n",
       "      <th>Unit price</th>\n",
       "      <th>Quantity</th>\n",
       "      <th>Tax 5%</th>\n",
       "      <th>Total</th>\n",
       "      <th>Date</th>\n",
       "      <th>Time</th>\n",
       "      <th>Payment</th>\n",
       "      <th>cogs</th>\n",
       "      <th>gross margin percentage</th>\n",
       "      <th>gross income</th>\n",
       "      <th>Rating</th>\n",
       "      <th>cogs_per_unit</th>\n",
       "    </tr>\n",
       "  </thead>\n",
       "  <tbody>\n",
       "    <tr>\n",
       "      <th>0</th>\n",
       "      <td>750-67-8428</td>\n",
       "      <td>A</td>\n",
       "      <td>Yangon</td>\n",
       "      <td>Member</td>\n",
       "      <td>Female</td>\n",
       "      <td>Health and beauty</td>\n",
       "      <td>74.69</td>\n",
       "      <td>7</td>\n",
       "      <td>26.1415</td>\n",
       "      <td>548.9715</td>\n",
       "      <td>1/5/2019</td>\n",
       "      <td>13:08</td>\n",
       "      <td>Ewallet</td>\n",
       "      <td>522.83</td>\n",
       "      <td>4.761905</td>\n",
       "      <td>26.1415</td>\n",
       "      <td>9.1</td>\n",
       "      <td>74.69</td>\n",
       "    </tr>\n",
       "    <tr>\n",
       "      <th>1</th>\n",
       "      <td>226-31-3081</td>\n",
       "      <td>C</td>\n",
       "      <td>Naypyitaw</td>\n",
       "      <td>Normal</td>\n",
       "      <td>Female</td>\n",
       "      <td>Electronic accessories</td>\n",
       "      <td>15.28</td>\n",
       "      <td>5</td>\n",
       "      <td>3.8200</td>\n",
       "      <td>80.2200</td>\n",
       "      <td>3/8/2019</td>\n",
       "      <td>10:29</td>\n",
       "      <td>Cash</td>\n",
       "      <td>76.40</td>\n",
       "      <td>4.761905</td>\n",
       "      <td>3.8200</td>\n",
       "      <td>9.6</td>\n",
       "      <td>15.28</td>\n",
       "    </tr>\n",
       "    <tr>\n",
       "      <th>2</th>\n",
       "      <td>631-41-3108</td>\n",
       "      <td>A</td>\n",
       "      <td>Yangon</td>\n",
       "      <td>Normal</td>\n",
       "      <td>Male</td>\n",
       "      <td>Home and lifestyle</td>\n",
       "      <td>46.33</td>\n",
       "      <td>7</td>\n",
       "      <td>16.2155</td>\n",
       "      <td>340.5255</td>\n",
       "      <td>3/3/2019</td>\n",
       "      <td>13:23</td>\n",
       "      <td>Credit card</td>\n",
       "      <td>324.31</td>\n",
       "      <td>4.761905</td>\n",
       "      <td>16.2155</td>\n",
       "      <td>7.4</td>\n",
       "      <td>46.33</td>\n",
       "    </tr>\n",
       "    <tr>\n",
       "      <th>3</th>\n",
       "      <td>123-19-1176</td>\n",
       "      <td>A</td>\n",
       "      <td>Yangon</td>\n",
       "      <td>Member</td>\n",
       "      <td>Male</td>\n",
       "      <td>Health and beauty</td>\n",
       "      <td>58.22</td>\n",
       "      <td>8</td>\n",
       "      <td>23.2880</td>\n",
       "      <td>489.0480</td>\n",
       "      <td>1/27/2019</td>\n",
       "      <td>20:33</td>\n",
       "      <td>Ewallet</td>\n",
       "      <td>465.76</td>\n",
       "      <td>4.761905</td>\n",
       "      <td>23.2880</td>\n",
       "      <td>8.4</td>\n",
       "      <td>58.22</td>\n",
       "    </tr>\n",
       "    <tr>\n",
       "      <th>4</th>\n",
       "      <td>373-73-7910</td>\n",
       "      <td>A</td>\n",
       "      <td>Yangon</td>\n",
       "      <td>Normal</td>\n",
       "      <td>Male</td>\n",
       "      <td>Sports and travel</td>\n",
       "      <td>86.31</td>\n",
       "      <td>7</td>\n",
       "      <td>30.2085</td>\n",
       "      <td>634.3785</td>\n",
       "      <td>2/8/2019</td>\n",
       "      <td>10:37</td>\n",
       "      <td>Ewallet</td>\n",
       "      <td>604.17</td>\n",
       "      <td>4.761905</td>\n",
       "      <td>30.2085</td>\n",
       "      <td>5.3</td>\n",
       "      <td>86.31</td>\n",
       "    </tr>\n",
       "  </tbody>\n",
       "</table>\n",
       "</div>"
      ],
      "text/plain": [
       "    Invoice ID Branch       City Customer type  Gender  \\\n",
       "0  750-67-8428      A     Yangon        Member  Female   \n",
       "1  226-31-3081      C  Naypyitaw        Normal  Female   \n",
       "2  631-41-3108      A     Yangon        Normal    Male   \n",
       "3  123-19-1176      A     Yangon        Member    Male   \n",
       "4  373-73-7910      A     Yangon        Normal    Male   \n",
       "\n",
       "             Product line  Unit price  Quantity   Tax 5%     Total       Date  \\\n",
       "0       Health and beauty       74.69         7  26.1415  548.9715   1/5/2019   \n",
       "1  Electronic accessories       15.28         5   3.8200   80.2200   3/8/2019   \n",
       "2      Home and lifestyle       46.33         7  16.2155  340.5255   3/3/2019   \n",
       "3       Health and beauty       58.22         8  23.2880  489.0480  1/27/2019   \n",
       "4       Sports and travel       86.31         7  30.2085  634.3785   2/8/2019   \n",
       "\n",
       "    Time      Payment    cogs  gross margin percentage  gross income  Rating  \\\n",
       "0  13:08      Ewallet  522.83                 4.761905       26.1415     9.1   \n",
       "1  10:29         Cash   76.40                 4.761905        3.8200     9.6   \n",
       "2  13:23  Credit card  324.31                 4.761905       16.2155     7.4   \n",
       "3  20:33      Ewallet  465.76                 4.761905       23.2880     8.4   \n",
       "4  10:37      Ewallet  604.17                 4.761905       30.2085     5.3   \n",
       "\n",
       "   cogs_per_unit  \n",
       "0          74.69  \n",
       "1          15.28  \n",
       "2          46.33  \n",
       "3          58.22  \n",
       "4          86.31  "
      ]
     },
     "execution_count": 9,
     "metadata": {},
     "output_type": "execute_result"
    }
   ],
   "source": [
    "# Membuat kolom cogs_per_unit\n",
    "df['cogs_per_unit'] = df['cogs'] / df['Quantity']\n",
    "df.head()"
   ]
  },
  {
   "cell_type": "code",
   "execution_count": 10,
   "metadata": {},
   "outputs": [],
   "source": [
    "# Melihat grafik dari data untuk cek apakah distribusi dari total, cogs, gross income tidak normal\n",
    "def show_plot(data):\n",
    "    fig, axes= plt.subplots(nrows=3, ncols=2, figsize=(10,12))\n",
    "    fig.suptitle(\"Grafik Sebaran Data\", fontsize=30)\n",
    "\n",
    "    sns.histplot(data['Unit price'],ax = axes[0,0], kde=True).set_title('Grafik per satuan Unit', fontsize=12)\n",
    "    sns.histplot(data['Total'],ax = axes[0,1], kde=True).set_title('Grafik per satuan Unit*Harga atau turunannya', fontsize=12)\n",
    "    sns.histplot(data['Quantity'],ax = axes[1,0], bins=10, kde=True)\n",
    "    sns.histplot(data['cogs'],ax = axes[1,1], kde=True)\n",
    "    sns.histplot(data['cogs_per_unit'],ax = axes[2,0], kde=True)\n",
    "    sns.histplot(data['gross income'],ax = axes[2,1], kde=True)\n",
    "\n",
    "    plt.show()"
   ]
  },
  {
   "cell_type": "code",
   "execution_count": 11,
   "metadata": {},
   "outputs": [
    {
     "data": {
      "image/png": "[encoded data removed]",
      "text/plain": [
       "<Figure size 720x864 with 6 Axes>"
      ]
     },
     "metadata": {
      "needs_background": "light"
     },
     "output_type": "display_data"
    }
   ],
   "source": [
    "show_plot(df)"
   ]
  },
  {
   "cell_type": "markdown",
   "metadata": {},
   "source": [
    "Terlihat tidak ada masalah ketidaknormal data tersebut, karena memang data total, cogs, gross income tersebut sangatlah wajar.<br>\n",
    "Nilai-nilai tersebut merupakan perkalian antara jumlah dan unit price serta produk turunannya sehingga dengan normalnya data unit price dan quantity, nilainya otomatis akan amplifies di tingkat harga yang tinggi."
   ]
  },
  {
   "cell_type": "markdown",
   "metadata": {},
   "source": [
    "#### 2.3 Pembuatan 4 Query Data Berdasarkan Unit Price"
   ]
  },
  {
   "cell_type": "code",
   "execution_count": 12,
   "metadata": {},
   "outputs": [
    {
     "data": {
      "text/html": [
       "<div>\n",
       "<style scoped>\n",
       "    .dataframe tbody tr th:only-of-type {\n",
       "        vertical-align: middle;\n",
       "    }\n",
       "\n",
       "    .dataframe tbody tr th {\n",
       "        vertical-align: top;\n",
       "    }\n",
       "\n",
       "    .dataframe thead th {\n",
       "        text-align: right;\n",
       "    }\n",
       "</style>\n",
       "<table border=\"1\" class=\"dataframe\">\n",
       "  <thead>\n",
       "    <tr style=\"text-align: right;\">\n",
       "      <th></th>\n",
       "      <th>Invoice ID</th>\n",
       "      <th>Branch</th>\n",
       "      <th>City</th>\n",
       "      <th>Customer type</th>\n",
       "      <th>Gender</th>\n",
       "      <th>Product line</th>\n",
       "      <th>Unit price</th>\n",
       "      <th>Quantity</th>\n",
       "      <th>Tax 5%</th>\n",
       "      <th>Total</th>\n",
       "      <th>Date</th>\n",
       "      <th>Time</th>\n",
       "      <th>Payment</th>\n",
       "      <th>cogs</th>\n",
       "      <th>gross margin percentage</th>\n",
       "      <th>gross income</th>\n",
       "      <th>Rating</th>\n",
       "      <th>cogs_per_unit</th>\n",
       "    </tr>\n",
       "  </thead>\n",
       "  <tbody>\n",
       "    <tr>\n",
       "      <th>0</th>\n",
       "      <td>750-67-8428</td>\n",
       "      <td>A</td>\n",
       "      <td>Yangon</td>\n",
       "      <td>Member</td>\n",
       "      <td>Female</td>\n",
       "      <td>Health and beauty</td>\n",
       "      <td>74.69</td>\n",
       "      <td>7</td>\n",
       "      <td>26.1415</td>\n",
       "      <td>548.9715</td>\n",
       "      <td>1/5/2019</td>\n",
       "      <td>13:08</td>\n",
       "      <td>Ewallet</td>\n",
       "      <td>522.83</td>\n",
       "      <td>4.761905</td>\n",
       "      <td>26.1415</td>\n",
       "      <td>9.1</td>\n",
       "      <td>74.69</td>\n",
       "    </tr>\n",
       "  </tbody>\n",
       "</table>\n",
       "</div>"
      ],
      "text/plain": [
       "    Invoice ID Branch    City Customer type  Gender       Product line  \\\n",
       "0  750-67-8428      A  Yangon        Member  Female  Health and beauty   \n",
       "\n",
       "   Unit price  Quantity   Tax 5%     Total      Date   Time  Payment    cogs  \\\n",
       "0       74.69         7  26.1415  548.9715  1/5/2019  13:08  Ewallet  522.83   \n",
       "\n",
       "   gross margin percentage  gross income  Rating  cogs_per_unit  \n",
       "0                 4.761905       26.1415     9.1          74.69  "
      ]
     },
     "execution_count": 12,
     "metadata": {},
     "output_type": "execute_result"
    }
   ],
   "source": [
    "df.head(1)"
   ]
  },
  {
   "cell_type": "code",
   "execution_count": 13,
   "metadata": {},
   "outputs": [],
   "source": [
    "# Pembuatan query data berdasarkan kelompok harga per unit\n",
    "murah = df[df['Unit price'] < df['Unit price'].quantile(0.25)]\n",
    "menengah_bawah = df[((df['Unit price'] < df['Unit price'].quantile(0.5)) & (df['Unit price'] >= df['Unit price'].quantile(0.25)))]\n",
    "menengah_atas = df[((df['Unit price'] < df['Unit price'].quantile(0.75)) & (df['Unit price'] >= df['Unit price'].quantile(0.5)))]\n",
    "mahal = df[df['Unit price'] >= df['Unit price'].quantile(0.75)] "
   ]
  },
  {
   "cell_type": "code",
   "execution_count": 14,
   "metadata": {},
   "outputs": [],
   "source": [
    "# Memasukan kelas produk ke database df\n",
    "product_class = []\n",
    "for i in range(len(df)):\n",
    "    if df['Unit price'][i] < df['Unit price'].quantile(0.25):\n",
    "        product_class.append('Murah')\n",
    "    elif df['Unit price'][i] < df['Unit price'].quantile(0.5) :\n",
    "        product_class.append('Menengah Bawah')\n",
    "    elif df['Unit price'][i] < df['Unit price'].quantile(0.75) :\n",
    "        product_class.append('Menengah Atas')\n",
    "    else:\n",
    "        product_class.append('Mahal')\n",
    "\n"
   ]
  },
  {
   "cell_type": "code",
   "execution_count": 15,
   "metadata": {},
   "outputs": [],
   "source": [
    "df.loc[:,'product_class'] = product_class"
   ]
  },
  {
   "cell_type": "code",
   "execution_count": 16,
   "metadata": {},
   "outputs": [
    {
     "data": {
      "text/html": [
       "<div>\n",
       "<style scoped>\n",
       "    .dataframe tbody tr th:only-of-type {\n",
       "        vertical-align: middle;\n",
       "    }\n",
       "\n",
       "    .dataframe tbody tr th {\n",
       "        vertical-align: top;\n",
       "    }\n",
       "\n",
       "    .dataframe thead th {\n",
       "        text-align: right;\n",
       "    }\n",
       "</style>\n",
       "<table border=\"1\" class=\"dataframe\">\n",
       "  <thead>\n",
       "    <tr style=\"text-align: right;\">\n",
       "      <th></th>\n",
       "      <th>Invoice ID</th>\n",
       "      <th>Branch</th>\n",
       "      <th>City</th>\n",
       "      <th>Customer type</th>\n",
       "      <th>Gender</th>\n",
       "      <th>Product line</th>\n",
       "      <th>Unit price</th>\n",
       "      <th>Quantity</th>\n",
       "      <th>Tax 5%</th>\n",
       "      <th>Total</th>\n",
       "      <th>Date</th>\n",
       "      <th>Time</th>\n",
       "      <th>Payment</th>\n",
       "      <th>cogs</th>\n",
       "      <th>gross margin percentage</th>\n",
       "      <th>gross income</th>\n",
       "      <th>Rating</th>\n",
       "      <th>cogs_per_unit</th>\n",
       "      <th>product_class</th>\n",
       "    </tr>\n",
       "  </thead>\n",
       "  <tbody>\n",
       "    <tr>\n",
       "      <th>0</th>\n",
       "      <td>750-67-8428</td>\n",
       "      <td>A</td>\n",
       "      <td>Yangon</td>\n",
       "      <td>Member</td>\n",
       "      <td>Female</td>\n",
       "      <td>Health and beauty</td>\n",
       "      <td>74.69</td>\n",
       "      <td>7</td>\n",
       "      <td>26.1415</td>\n",
       "      <td>548.9715</td>\n",
       "      <td>1/5/2019</td>\n",
       "      <td>13:08</td>\n",
       "      <td>Ewallet</td>\n",
       "      <td>522.83</td>\n",
       "      <td>4.761905</td>\n",
       "      <td>26.1415</td>\n",
       "      <td>9.1</td>\n",
       "      <td>74.69</td>\n",
       "      <td>Menengah Atas</td>\n",
       "    </tr>\n",
       "    <tr>\n",
       "      <th>1</th>\n",
       "      <td>226-31-3081</td>\n",
       "      <td>C</td>\n",
       "      <td>Naypyitaw</td>\n",
       "      <td>Normal</td>\n",
       "      <td>Female</td>\n",
       "      <td>Electronic accessories</td>\n",
       "      <td>15.28</td>\n",
       "      <td>5</td>\n",
       "      <td>3.8200</td>\n",
       "      <td>80.2200</td>\n",
       "      <td>3/8/2019</td>\n",
       "      <td>10:29</td>\n",
       "      <td>Cash</td>\n",
       "      <td>76.40</td>\n",
       "      <td>4.761905</td>\n",
       "      <td>3.8200</td>\n",
       "      <td>9.6</td>\n",
       "      <td>15.28</td>\n",
       "      <td>Murah</td>\n",
       "    </tr>\n",
       "    <tr>\n",
       "      <th>2</th>\n",
       "      <td>631-41-3108</td>\n",
       "      <td>A</td>\n",
       "      <td>Yangon</td>\n",
       "      <td>Normal</td>\n",
       "      <td>Male</td>\n",
       "      <td>Home and lifestyle</td>\n",
       "      <td>46.33</td>\n",
       "      <td>7</td>\n",
       "      <td>16.2155</td>\n",
       "      <td>340.5255</td>\n",
       "      <td>3/3/2019</td>\n",
       "      <td>13:23</td>\n",
       "      <td>Credit card</td>\n",
       "      <td>324.31</td>\n",
       "      <td>4.761905</td>\n",
       "      <td>16.2155</td>\n",
       "      <td>7.4</td>\n",
       "      <td>46.33</td>\n",
       "      <td>Menengah Bawah</td>\n",
       "    </tr>\n",
       "    <tr>\n",
       "      <th>3</th>\n",
       "      <td>123-19-1176</td>\n",
       "      <td>A</td>\n",
       "      <td>Yangon</td>\n",
       "      <td>Member</td>\n",
       "      <td>Male</td>\n",
       "      <td>Health and beauty</td>\n",
       "      <td>58.22</td>\n",
       "      <td>8</td>\n",
       "      <td>23.2880</td>\n",
       "      <td>489.0480</td>\n",
       "      <td>1/27/2019</td>\n",
       "      <td>20:33</td>\n",
       "      <td>Ewallet</td>\n",
       "      <td>465.76</td>\n",
       "      <td>4.761905</td>\n",
       "      <td>23.2880</td>\n",
       "      <td>8.4</td>\n",
       "      <td>58.22</td>\n",
       "      <td>Menengah Atas</td>\n",
       "    </tr>\n",
       "    <tr>\n",
       "      <th>4</th>\n",
       "      <td>373-73-7910</td>\n",
       "      <td>A</td>\n",
       "      <td>Yangon</td>\n",
       "      <td>Normal</td>\n",
       "      <td>Male</td>\n",
       "      <td>Sports and travel</td>\n",
       "      <td>86.31</td>\n",
       "      <td>7</td>\n",
       "      <td>30.2085</td>\n",
       "      <td>634.3785</td>\n",
       "      <td>2/8/2019</td>\n",
       "      <td>10:37</td>\n",
       "      <td>Ewallet</td>\n",
       "      <td>604.17</td>\n",
       "      <td>4.761905</td>\n",
       "      <td>30.2085</td>\n",
       "      <td>5.3</td>\n",
       "      <td>86.31</td>\n",
       "      <td>Mahal</td>\n",
       "    </tr>\n",
       "  </tbody>\n",
       "</table>\n",
       "</div>"
      ],
      "text/plain": [
       "    Invoice ID Branch       City Customer type  Gender  \\\n",
       "0  750-67-8428      A     Yangon        Member  Female   \n",
       "1  226-31-3081      C  Naypyitaw        Normal  Female   \n",
       "2  631-41-3108      A     Yangon        Normal    Male   \n",
       "3  123-19-1176      A     Yangon        Member    Male   \n",
       "4  373-73-7910      A     Yangon        Normal    Male   \n",
       "\n",
       "             Product line  Unit price  Quantity   Tax 5%     Total       Date  \\\n",
       "0       Health and beauty       74.69         7  26.1415  548.9715   1/5/2019   \n",
       "1  Electronic accessories       15.28         5   3.8200   80.2200   3/8/2019   \n",
       "2      Home and lifestyle       46.33         7  16.2155  340.5255   3/3/2019   \n",
       "3       Health and beauty       58.22         8  23.2880  489.0480  1/27/2019   \n",
       "4       Sports and travel       86.31         7  30.2085  634.3785   2/8/2019   \n",
       "\n",
       "    Time      Payment    cogs  gross margin percentage  gross income  Rating  \\\n",
       "0  13:08      Ewallet  522.83                 4.761905       26.1415     9.1   \n",
       "1  10:29         Cash   76.40                 4.761905        3.8200     9.6   \n",
       "2  13:23  Credit card  324.31                 4.761905       16.2155     7.4   \n",
       "3  20:33      Ewallet  465.76                 4.761905       23.2880     8.4   \n",
       "4  10:37      Ewallet  604.17                 4.761905       30.2085     5.3   \n",
       "\n",
       "   cogs_per_unit   product_class  \n",
       "0          74.69   Menengah Atas  \n",
       "1          15.28           Murah  \n",
       "2          46.33  Menengah Bawah  \n",
       "3          58.22   Menengah Atas  \n",
       "4          86.31           Mahal  "
      ]
     },
     "execution_count": 16,
     "metadata": {},
     "output_type": "execute_result"
    }
   ],
   "source": [
    "df.head()"
   ]
  },
  {
   "cell_type": "code",
   "execution_count": 17,
   "metadata": {},
   "outputs": [
    {
     "data": {
      "image/png": "[encoded data removed]",
      "text/plain": [
       "<Figure size 720x864 with 6 Axes>"
      ]
     },
     "metadata": {
      "needs_background": "light"
     },
     "output_type": "display_data"
    }
   ],
   "source": [
    "show_plot(murah)"
   ]
  },
  {
   "cell_type": "code",
   "execution_count": 18,
   "metadata": {},
   "outputs": [
    {
     "data": {
      "image/png": "[encoded data removed]",
      "text/plain": [
       "<Figure size 720x864 with 6 Axes>"
      ]
     },
     "metadata": {
      "needs_background": "light"
     },
     "output_type": "display_data"
    }
   ],
   "source": [
    "show_plot(menengah_bawah)"
   ]
  },
  {
   "cell_type": "code",
   "execution_count": 19,
   "metadata": {},
   "outputs": [
    {
     "data": {
      "image/png": "[encoded data removed]",
      "text/plain": [
       "<Figure size 720x864 with 6 Axes>"
      ]
     },
     "metadata": {
      "needs_background": "light"
     },
     "output_type": "display_data"
    }
   ],
   "source": [
    "show_plot(mahal)"
   ]
  },
  {
   "cell_type": "code",
   "execution_count": 20,
   "metadata": {},
   "outputs": [
    {
     "data": {
      "text/html": [
       "<div>\n",
       "<style scoped>\n",
       "    .dataframe tbody tr th:only-of-type {\n",
       "        vertical-align: middle;\n",
       "    }\n",
       "\n",
       "    .dataframe tbody tr th {\n",
       "        vertical-align: top;\n",
       "    }\n",
       "\n",
       "    .dataframe thead th {\n",
       "        text-align: right;\n",
       "    }\n",
       "</style>\n",
       "<table border=\"1\" class=\"dataframe\">\n",
       "  <thead>\n",
       "    <tr style=\"text-align: right;\">\n",
       "      <th></th>\n",
       "      <th>data_awal</th>\n",
       "      <th>murah</th>\n",
       "      <th>menengah_bawah</th>\n",
       "      <th>menengah_atas</th>\n",
       "      <th>mahal</th>\n",
       "    </tr>\n",
       "  </thead>\n",
       "  <tbody>\n",
       "    <tr>\n",
       "      <th>Unit price</th>\n",
       "      <td>0.007077</td>\n",
       "      <td>-0.003348</td>\n",
       "      <td>-0.037489</td>\n",
       "      <td>-0.173773</td>\n",
       "      <td>-0.131314</td>\n",
       "    </tr>\n",
       "    <tr>\n",
       "      <th>Tax 5%</th>\n",
       "      <td>0.892570</td>\n",
       "      <td>0.603524</td>\n",
       "      <td>0.230931</td>\n",
       "      <td>0.178321</td>\n",
       "      <td>0.005923</td>\n",
       "    </tr>\n",
       "    <tr>\n",
       "      <th>Total</th>\n",
       "      <td>0.892570</td>\n",
       "      <td>0.603524</td>\n",
       "      <td>0.230931</td>\n",
       "      <td>0.178321</td>\n",
       "      <td>0.005923</td>\n",
       "    </tr>\n",
       "    <tr>\n",
       "      <th>cogs</th>\n",
       "      <td>0.892570</td>\n",
       "      <td>0.603524</td>\n",
       "      <td>0.230931</td>\n",
       "      <td>0.178321</td>\n",
       "      <td>0.005923</td>\n",
       "    </tr>\n",
       "    <tr>\n",
       "      <th>gross margin percentage</th>\n",
       "      <td>0.000000</td>\n",
       "      <td>0.000000</td>\n",
       "      <td>0.000000</td>\n",
       "      <td>0.000000</td>\n",
       "      <td>0.000000</td>\n",
       "    </tr>\n",
       "    <tr>\n",
       "      <th>gross income</th>\n",
       "      <td>0.892570</td>\n",
       "      <td>0.603524</td>\n",
       "      <td>0.230931</td>\n",
       "      <td>0.178321</td>\n",
       "      <td>0.005923</td>\n",
       "    </tr>\n",
       "    <tr>\n",
       "      <th>Rating</th>\n",
       "      <td>0.009010</td>\n",
       "      <td>-0.017391</td>\n",
       "      <td>-0.041039</td>\n",
       "      <td>0.113434</td>\n",
       "      <td>-0.017926</td>\n",
       "    </tr>\n",
       "    <tr>\n",
       "      <th>cogs_per_unit</th>\n",
       "      <td>0.007077</td>\n",
       "      <td>-0.003348</td>\n",
       "      <td>-0.037489</td>\n",
       "      <td>-0.173773</td>\n",
       "      <td>-0.131314</td>\n",
       "    </tr>\n",
       "  </tbody>\n",
       "</table>\n",
       "</div>"
      ],
      "text/plain": [
       "                         data_awal     murah  menengah_bawah  menengah_atas  \\\n",
       "Unit price                0.007077 -0.003348       -0.037489      -0.173773   \n",
       "Tax 5%                    0.892570  0.603524        0.230931       0.178321   \n",
       "Total                     0.892570  0.603524        0.230931       0.178321   \n",
       "cogs                      0.892570  0.603524        0.230931       0.178321   \n",
       "gross margin percentage   0.000000  0.000000        0.000000       0.000000   \n",
       "gross income              0.892570  0.603524        0.230931       0.178321   \n",
       "Rating                    0.009010 -0.017391       -0.041039       0.113434   \n",
       "cogs_per_unit             0.007077 -0.003348       -0.037489      -0.173773   \n",
       "\n",
       "                            mahal  \n",
       "Unit price              -0.131314  \n",
       "Tax 5%                   0.005923  \n",
       "Total                    0.005923  \n",
       "cogs                     0.005923  \n",
       "gross margin percentage  0.000000  \n",
       "gross income             0.005923  \n",
       "Rating                  -0.017926  \n",
       "cogs_per_unit           -0.131314  "
      ]
     },
     "execution_count": 20,
     "metadata": {},
     "output_type": "execute_result"
    }
   ],
   "source": [
    "skew =pd.DataFrame()\n",
    "skew['data_awal'] = df.select_dtypes('float').skew()\n",
    "skew['murah']= murah.select_dtypes('float').skew()\n",
    "skew['menengah_bawah']= menengah_bawah.select_dtypes('float').skew()\n",
    "skew['menengah_atas']= menengah_atas.select_dtypes('float').skew()\n",
    "skew['mahal']= mahal.select_dtypes('float').skew()\n",
    "skew"
   ]
  },
  {
   "cell_type": "code",
   "execution_count": 21,
   "metadata": {},
   "outputs": [
    {
     "data": {
      "text/html": [
       "<div>\n",
       "<style scoped>\n",
       "    .dataframe tbody tr th:only-of-type {\n",
       "        vertical-align: middle;\n",
       "    }\n",
       "\n",
       "    .dataframe tbody tr th {\n",
       "        vertical-align: top;\n",
       "    }\n",
       "\n",
       "    .dataframe thead th {\n",
       "        text-align: right;\n",
       "    }\n",
       "</style>\n",
       "<table border=\"1\" class=\"dataframe\">\n",
       "  <thead>\n",
       "    <tr style=\"text-align: right;\">\n",
       "      <th></th>\n",
       "      <th>data_awal</th>\n",
       "      <th>murah</th>\n",
       "      <th>menengah_bawah</th>\n",
       "      <th>menengah_atas</th>\n",
       "      <th>mahal</th>\n",
       "    </tr>\n",
       "  </thead>\n",
       "  <tbody>\n",
       "    <tr>\n",
       "      <th>Unit price</th>\n",
       "      <td>NaN</td>\n",
       "      <td>NaN</td>\n",
       "      <td>NaN</td>\n",
       "      <td>NaN</td>\n",
       "      <td>NaN</td>\n",
       "    </tr>\n",
       "    <tr>\n",
       "      <th>Tax 5%</th>\n",
       "      <td>0.89257</td>\n",
       "      <td>0.603524</td>\n",
       "      <td>NaN</td>\n",
       "      <td>NaN</td>\n",
       "      <td>NaN</td>\n",
       "    </tr>\n",
       "    <tr>\n",
       "      <th>Total</th>\n",
       "      <td>0.89257</td>\n",
       "      <td>0.603524</td>\n",
       "      <td>NaN</td>\n",
       "      <td>NaN</td>\n",
       "      <td>NaN</td>\n",
       "    </tr>\n",
       "    <tr>\n",
       "      <th>cogs</th>\n",
       "      <td>0.89257</td>\n",
       "      <td>0.603524</td>\n",
       "      <td>NaN</td>\n",
       "      <td>NaN</td>\n",
       "      <td>NaN</td>\n",
       "    </tr>\n",
       "    <tr>\n",
       "      <th>gross margin percentage</th>\n",
       "      <td>NaN</td>\n",
       "      <td>NaN</td>\n",
       "      <td>NaN</td>\n",
       "      <td>NaN</td>\n",
       "      <td>NaN</td>\n",
       "    </tr>\n",
       "    <tr>\n",
       "      <th>gross income</th>\n",
       "      <td>0.89257</td>\n",
       "      <td>0.603524</td>\n",
       "      <td>NaN</td>\n",
       "      <td>NaN</td>\n",
       "      <td>NaN</td>\n",
       "    </tr>\n",
       "    <tr>\n",
       "      <th>Rating</th>\n",
       "      <td>NaN</td>\n",
       "      <td>NaN</td>\n",
       "      <td>NaN</td>\n",
       "      <td>NaN</td>\n",
       "      <td>NaN</td>\n",
       "    </tr>\n",
       "    <tr>\n",
       "      <th>cogs_per_unit</th>\n",
       "      <td>NaN</td>\n",
       "      <td>NaN</td>\n",
       "      <td>NaN</td>\n",
       "      <td>NaN</td>\n",
       "      <td>NaN</td>\n",
       "    </tr>\n",
       "  </tbody>\n",
       "</table>\n",
       "</div>"
      ],
      "text/plain": [
       "                         data_awal     murah  menengah_bawah  menengah_atas  \\\n",
       "Unit price                     NaN       NaN             NaN            NaN   \n",
       "Tax 5%                     0.89257  0.603524             NaN            NaN   \n",
       "Total                      0.89257  0.603524             NaN            NaN   \n",
       "cogs                       0.89257  0.603524             NaN            NaN   \n",
       "gross margin percentage        NaN       NaN             NaN            NaN   \n",
       "gross income               0.89257  0.603524             NaN            NaN   \n",
       "Rating                         NaN       NaN             NaN            NaN   \n",
       "cogs_per_unit                  NaN       NaN             NaN            NaN   \n",
       "\n",
       "                         mahal  \n",
       "Unit price                 NaN  \n",
       "Tax 5%                     NaN  \n",
       "Total                      NaN  \n",
       "cogs                       NaN  \n",
       "gross margin percentage    NaN  \n",
       "gross income               NaN  \n",
       "Rating                     NaN  \n",
       "cogs_per_unit              NaN  "
      ]
     },
     "execution_count": 21,
     "metadata": {},
     "output_type": "execute_result"
    }
   ],
   "source": [
    "# Melihat Skewness dari data yang lebih besar dari 0.5 atau lebih kecil dari -0.5\n",
    "skew[(skew>0.5)|(skew<-0.5)]"
   ]
  },
  {
   "cell_type": "markdown",
   "metadata": {},
   "source": [
    "Terlihat setelah dikelompokkan menjadi 4 kelompok, data penjualan tersebut menjadi jauh lebih normal distribusinya. Adapun data yang masih agak sedikit right skewed itu data produk harga murah, datanya sedikit skew di kolom Tax 5%, total, cogs, dan gross income. Akan tetapi data tersebut semuanya merupakan derivatif dari perkalian unit price dan quantity. Sedangkan, dari unit dan quantity sama sekali tidak skewed. Maka data tersebut dapat dianggap normal persebarannya.\n"
   ]
  },
  {
   "cell_type": "code",
   "execution_count": 22,
   "metadata": {},
   "outputs": [],
   "source": [
    "# Membuat fungsi outlayer mean\n",
    "def outlayer_mean(data, kolom):\n",
    "    mean = data[kolom].mean()\n",
    "    std = data[kolom].std()\n",
    "    outlayer1 = data[(data[kolom] < (mean - 3 * std)) | (data[kolom] > (mean + 3 * std))]\n",
    "    return outlayer1\n",
    "\n",
    "def jumlah_outlayer_mean(data, kolom):\n",
    "    jumlah = outlayer_mean(data, kolom).shape[0]\n",
    "    return jumlah"
   ]
  },
  {
   "cell_type": "code",
   "execution_count": 23,
   "metadata": {},
   "outputs": [],
   "source": [
    "# Membuat fungsi outlayer iqr\n",
    "def outlayer_iqr (data, kolom):\n",
    "    q1 = data[kolom].quantile(0.25)\n",
    "    q3 = data[kolom].quantile(0.75)\n",
    "    iqr = q3 - q1\n",
    "    outlayer2 = data[(data[kolom] < (q1 - 1.5 * iqr)) | (data[kolom] > (q3 + 1.5 * iqr))]\n",
    "    return outlayer2\n",
    "\n",
    "def jumlah_outlayer_iqr (data, kolom):\n",
    "    jumlah2 = outlayer_iqr(data, kolom).shape[0]\n",
    "    return jumlah2"
   ]
  },
  {
   "cell_type": "code",
   "execution_count": 24,
   "metadata": {},
   "outputs": [],
   "source": [
    "# Membuat fungsi untuk melihat jumlah outlayer\n",
    "def jumlah_outlayer (data):\n",
    "    rekap = pd.DataFrame({'kolom':[], 'outlayer_mean':[], 'outlayer_iqr':[]})\n",
    "    for i in data.select_dtypes('float').columns:\n",
    "        rekap = rekap.append({'kolom':i, 'outlayer_mean':jumlah_outlayer_mean(data, i), 'outlayer_iqr':jumlah_outlayer_iqr(data, i)}, ignore_index=True)\n",
    "    return rekap"
   ]
  },
  {
   "cell_type": "code",
   "execution_count": 25,
   "metadata": {},
   "outputs": [
    {
     "data": {
      "text/html": [
       "<div>\n",
       "<style scoped>\n",
       "    .dataframe tbody tr th:only-of-type {\n",
       "        vertical-align: middle;\n",
       "    }\n",
       "\n",
       "    .dataframe tbody tr th {\n",
       "        vertical-align: top;\n",
       "    }\n",
       "\n",
       "    .dataframe thead th {\n",
       "        text-align: right;\n",
       "    }\n",
       "</style>\n",
       "<table border=\"1\" class=\"dataframe\">\n",
       "  <thead>\n",
       "    <tr style=\"text-align: right;\">\n",
       "      <th></th>\n",
       "      <th>kolom</th>\n",
       "      <th>outlayer_mean</th>\n",
       "      <th>outlayer_iqr</th>\n",
       "    </tr>\n",
       "  </thead>\n",
       "  <tbody>\n",
       "    <tr>\n",
       "      <th>0</th>\n",
       "      <td>Unit price</td>\n",
       "      <td>0.0</td>\n",
       "      <td>0.0</td>\n",
       "    </tr>\n",
       "    <tr>\n",
       "      <th>1</th>\n",
       "      <td>Tax 5%</td>\n",
       "      <td>0.0</td>\n",
       "      <td>9.0</td>\n",
       "    </tr>\n",
       "    <tr>\n",
       "      <th>2</th>\n",
       "      <td>Total</td>\n",
       "      <td>0.0</td>\n",
       "      <td>9.0</td>\n",
       "    </tr>\n",
       "    <tr>\n",
       "      <th>3</th>\n",
       "      <td>cogs</td>\n",
       "      <td>0.0</td>\n",
       "      <td>9.0</td>\n",
       "    </tr>\n",
       "    <tr>\n",
       "      <th>4</th>\n",
       "      <td>gross margin percentage</td>\n",
       "      <td>0.0</td>\n",
       "      <td>0.0</td>\n",
       "    </tr>\n",
       "    <tr>\n",
       "      <th>5</th>\n",
       "      <td>gross income</td>\n",
       "      <td>0.0</td>\n",
       "      <td>9.0</td>\n",
       "    </tr>\n",
       "    <tr>\n",
       "      <th>6</th>\n",
       "      <td>Rating</td>\n",
       "      <td>0.0</td>\n",
       "      <td>0.0</td>\n",
       "    </tr>\n",
       "    <tr>\n",
       "      <th>7</th>\n",
       "      <td>cogs_per_unit</td>\n",
       "      <td>0.0</td>\n",
       "      <td>0.0</td>\n",
       "    </tr>\n",
       "  </tbody>\n",
       "</table>\n",
       "</div>"
      ],
      "text/plain": [
       "                     kolom  outlayer_mean  outlayer_iqr\n",
       "0               Unit price            0.0           0.0\n",
       "1                   Tax 5%            0.0           9.0\n",
       "2                    Total            0.0           9.0\n",
       "3                     cogs            0.0           9.0\n",
       "4  gross margin percentage            0.0           0.0\n",
       "5             gross income            0.0           9.0\n",
       "6                   Rating            0.0           0.0\n",
       "7            cogs_per_unit            0.0           0.0"
      ]
     },
     "execution_count": 25,
     "metadata": {},
     "output_type": "execute_result"
    }
   ],
   "source": [
    "jumlah_outlayer(df)"
   ]
  },
  {
   "cell_type": "code",
   "execution_count": 26,
   "metadata": {},
   "outputs": [
    {
     "data": {
      "text/html": [
       "<div>\n",
       "<style scoped>\n",
       "    .dataframe tbody tr th:only-of-type {\n",
       "        vertical-align: middle;\n",
       "    }\n",
       "\n",
       "    .dataframe tbody tr th {\n",
       "        vertical-align: top;\n",
       "    }\n",
       "\n",
       "    .dataframe thead th {\n",
       "        text-align: right;\n",
       "    }\n",
       "</style>\n",
       "<table border=\"1\" class=\"dataframe\">\n",
       "  <thead>\n",
       "    <tr style=\"text-align: right;\">\n",
       "      <th></th>\n",
       "      <th>kolom</th>\n",
       "      <th>outlayer_mean</th>\n",
       "      <th>outlayer_iqr</th>\n",
       "    </tr>\n",
       "  </thead>\n",
       "  <tbody>\n",
       "    <tr>\n",
       "      <th>0</th>\n",
       "      <td>Unit price</td>\n",
       "      <td>0.0</td>\n",
       "      <td>0.0</td>\n",
       "    </tr>\n",
       "    <tr>\n",
       "      <th>1</th>\n",
       "      <td>Tax 5%</td>\n",
       "      <td>0.0</td>\n",
       "      <td>1.0</td>\n",
       "    </tr>\n",
       "    <tr>\n",
       "      <th>2</th>\n",
       "      <td>Total</td>\n",
       "      <td>0.0</td>\n",
       "      <td>1.0</td>\n",
       "    </tr>\n",
       "    <tr>\n",
       "      <th>3</th>\n",
       "      <td>cogs</td>\n",
       "      <td>0.0</td>\n",
       "      <td>1.0</td>\n",
       "    </tr>\n",
       "    <tr>\n",
       "      <th>4</th>\n",
       "      <td>gross margin percentage</td>\n",
       "      <td>0.0</td>\n",
       "      <td>0.0</td>\n",
       "    </tr>\n",
       "    <tr>\n",
       "      <th>5</th>\n",
       "      <td>gross income</td>\n",
       "      <td>0.0</td>\n",
       "      <td>1.0</td>\n",
       "    </tr>\n",
       "    <tr>\n",
       "      <th>6</th>\n",
       "      <td>Rating</td>\n",
       "      <td>0.0</td>\n",
       "      <td>0.0</td>\n",
       "    </tr>\n",
       "    <tr>\n",
       "      <th>7</th>\n",
       "      <td>cogs_per_unit</td>\n",
       "      <td>0.0</td>\n",
       "      <td>0.0</td>\n",
       "    </tr>\n",
       "  </tbody>\n",
       "</table>\n",
       "</div>"
      ],
      "text/plain": [
       "                     kolom  outlayer_mean  outlayer_iqr\n",
       "0               Unit price            0.0           0.0\n",
       "1                   Tax 5%            0.0           1.0\n",
       "2                    Total            0.0           1.0\n",
       "3                     cogs            0.0           1.0\n",
       "4  gross margin percentage            0.0           0.0\n",
       "5             gross income            0.0           1.0\n",
       "6                   Rating            0.0           0.0\n",
       "7            cogs_per_unit            0.0           0.0"
      ]
     },
     "execution_count": 26,
     "metadata": {},
     "output_type": "execute_result"
    }
   ],
   "source": [
    "jumlah_outlayer(murah)"
   ]
  },
  {
   "cell_type": "code",
   "execution_count": 27,
   "metadata": {},
   "outputs": [
    {
     "data": {
      "text/html": [
       "<div>\n",
       "<style scoped>\n",
       "    .dataframe tbody tr th:only-of-type {\n",
       "        vertical-align: middle;\n",
       "    }\n",
       "\n",
       "    .dataframe tbody tr th {\n",
       "        vertical-align: top;\n",
       "    }\n",
       "\n",
       "    .dataframe thead th {\n",
       "        text-align: right;\n",
       "    }\n",
       "</style>\n",
       "<table border=\"1\" class=\"dataframe\">\n",
       "  <thead>\n",
       "    <tr style=\"text-align: right;\">\n",
       "      <th></th>\n",
       "      <th>Invoice ID</th>\n",
       "      <th>Branch</th>\n",
       "      <th>City</th>\n",
       "      <th>Customer type</th>\n",
       "      <th>Gender</th>\n",
       "      <th>Product line</th>\n",
       "      <th>Unit price</th>\n",
       "      <th>Quantity</th>\n",
       "      <th>Tax 5%</th>\n",
       "      <th>Total</th>\n",
       "      <th>Date</th>\n",
       "      <th>Time</th>\n",
       "      <th>Payment</th>\n",
       "      <th>cogs</th>\n",
       "      <th>gross margin percentage</th>\n",
       "      <th>gross income</th>\n",
       "      <th>Rating</th>\n",
       "      <th>cogs_per_unit</th>\n",
       "    </tr>\n",
       "  </thead>\n",
       "  <tbody>\n",
       "    <tr>\n",
       "      <th>481</th>\n",
       "      <td>246-11-3901</td>\n",
       "      <td>C</td>\n",
       "      <td>Naypyitaw</td>\n",
       "      <td>Normal</td>\n",
       "      <td>Female</td>\n",
       "      <td>Electronic accessories</td>\n",
       "      <td>32.8</td>\n",
       "      <td>10</td>\n",
       "      <td>16.4</td>\n",
       "      <td>344.4</td>\n",
       "      <td>2/15/2019</td>\n",
       "      <td>12:12</td>\n",
       "      <td>Cash</td>\n",
       "      <td>328.0</td>\n",
       "      <td>4.761905</td>\n",
       "      <td>16.4</td>\n",
       "      <td>6.2</td>\n",
       "      <td>32.8</td>\n",
       "    </tr>\n",
       "  </tbody>\n",
       "</table>\n",
       "</div>"
      ],
      "text/plain": [
       "      Invoice ID Branch       City Customer type  Gender  \\\n",
       "481  246-11-3901      C  Naypyitaw        Normal  Female   \n",
       "\n",
       "               Product line  Unit price  Quantity  Tax 5%  Total       Date  \\\n",
       "481  Electronic accessories        32.8        10    16.4  344.4  2/15/2019   \n",
       "\n",
       "      Time Payment   cogs  gross margin percentage  gross income  Rating  \\\n",
       "481  12:12    Cash  328.0                 4.761905          16.4     6.2   \n",
       "\n",
       "     cogs_per_unit  \n",
       "481           32.8  "
      ]
     },
     "execution_count": 27,
     "metadata": {},
     "output_type": "execute_result"
    }
   ],
   "source": [
    "outlayer_iqr(murah, 'Tax 5%')"
   ]
  },
  {
   "cell_type": "markdown",
   "metadata": {},
   "source": [
    "Terlihat kalau outlayer disini terlihat masih dapat digunakan karena nilainya hingga gross marginnya saja masih wajar, sehingga tidak diisolasi."
   ]
  },
  {
   "cell_type": "code",
   "execution_count": 28,
   "metadata": {},
   "outputs": [
    {
     "data": {
      "text/html": [
       "<div>\n",
       "<style scoped>\n",
       "    .dataframe tbody tr th:only-of-type {\n",
       "        vertical-align: middle;\n",
       "    }\n",
       "\n",
       "    .dataframe tbody tr th {\n",
       "        vertical-align: top;\n",
       "    }\n",
       "\n",
       "    .dataframe thead th {\n",
       "        text-align: right;\n",
       "    }\n",
       "</style>\n",
       "<table border=\"1\" class=\"dataframe\">\n",
       "  <thead>\n",
       "    <tr style=\"text-align: right;\">\n",
       "      <th></th>\n",
       "      <th>kolom</th>\n",
       "      <th>outlayer_mean</th>\n",
       "      <th>outlayer_iqr</th>\n",
       "    </tr>\n",
       "  </thead>\n",
       "  <tbody>\n",
       "    <tr>\n",
       "      <th>0</th>\n",
       "      <td>Unit price</td>\n",
       "      <td>0.0</td>\n",
       "      <td>0.0</td>\n",
       "    </tr>\n",
       "    <tr>\n",
       "      <th>1</th>\n",
       "      <td>Tax 5%</td>\n",
       "      <td>0.0</td>\n",
       "      <td>0.0</td>\n",
       "    </tr>\n",
       "    <tr>\n",
       "      <th>2</th>\n",
       "      <td>Total</td>\n",
       "      <td>0.0</td>\n",
       "      <td>0.0</td>\n",
       "    </tr>\n",
       "    <tr>\n",
       "      <th>3</th>\n",
       "      <td>cogs</td>\n",
       "      <td>0.0</td>\n",
       "      <td>0.0</td>\n",
       "    </tr>\n",
       "    <tr>\n",
       "      <th>4</th>\n",
       "      <td>gross margin percentage</td>\n",
       "      <td>0.0</td>\n",
       "      <td>0.0</td>\n",
       "    </tr>\n",
       "    <tr>\n",
       "      <th>5</th>\n",
       "      <td>gross income</td>\n",
       "      <td>0.0</td>\n",
       "      <td>0.0</td>\n",
       "    </tr>\n",
       "    <tr>\n",
       "      <th>6</th>\n",
       "      <td>Rating</td>\n",
       "      <td>0.0</td>\n",
       "      <td>0.0</td>\n",
       "    </tr>\n",
       "    <tr>\n",
       "      <th>7</th>\n",
       "      <td>cogs_per_unit</td>\n",
       "      <td>0.0</td>\n",
       "      <td>0.0</td>\n",
       "    </tr>\n",
       "  </tbody>\n",
       "</table>\n",
       "</div>"
      ],
      "text/plain": [
       "                     kolom  outlayer_mean  outlayer_iqr\n",
       "0               Unit price            0.0           0.0\n",
       "1                   Tax 5%            0.0           0.0\n",
       "2                    Total            0.0           0.0\n",
       "3                     cogs            0.0           0.0\n",
       "4  gross margin percentage            0.0           0.0\n",
       "5             gross income            0.0           0.0\n",
       "6                   Rating            0.0           0.0\n",
       "7            cogs_per_unit            0.0           0.0"
      ]
     },
     "execution_count": 28,
     "metadata": {},
     "output_type": "execute_result"
    }
   ],
   "source": [
    "jumlah_outlayer(menengah_bawah)"
   ]
  },
  {
   "cell_type": "code",
   "execution_count": 29,
   "metadata": {},
   "outputs": [
    {
     "data": {
      "text/html": [
       "<div>\n",
       "<style scoped>\n",
       "    .dataframe tbody tr th:only-of-type {\n",
       "        vertical-align: middle;\n",
       "    }\n",
       "\n",
       "    .dataframe tbody tr th {\n",
       "        vertical-align: top;\n",
       "    }\n",
       "\n",
       "    .dataframe thead th {\n",
       "        text-align: right;\n",
       "    }\n",
       "</style>\n",
       "<table border=\"1\" class=\"dataframe\">\n",
       "  <thead>\n",
       "    <tr style=\"text-align: right;\">\n",
       "      <th></th>\n",
       "      <th>kolom</th>\n",
       "      <th>outlayer_mean</th>\n",
       "      <th>outlayer_iqr</th>\n",
       "    </tr>\n",
       "  </thead>\n",
       "  <tbody>\n",
       "    <tr>\n",
       "      <th>0</th>\n",
       "      <td>Unit price</td>\n",
       "      <td>0.0</td>\n",
       "      <td>0.0</td>\n",
       "    </tr>\n",
       "    <tr>\n",
       "      <th>1</th>\n",
       "      <td>Tax 5%</td>\n",
       "      <td>0.0</td>\n",
       "      <td>0.0</td>\n",
       "    </tr>\n",
       "    <tr>\n",
       "      <th>2</th>\n",
       "      <td>Total</td>\n",
       "      <td>0.0</td>\n",
       "      <td>0.0</td>\n",
       "    </tr>\n",
       "    <tr>\n",
       "      <th>3</th>\n",
       "      <td>cogs</td>\n",
       "      <td>0.0</td>\n",
       "      <td>0.0</td>\n",
       "    </tr>\n",
       "    <tr>\n",
       "      <th>4</th>\n",
       "      <td>gross margin percentage</td>\n",
       "      <td>0.0</td>\n",
       "      <td>0.0</td>\n",
       "    </tr>\n",
       "    <tr>\n",
       "      <th>5</th>\n",
       "      <td>gross income</td>\n",
       "      <td>0.0</td>\n",
       "      <td>0.0</td>\n",
       "    </tr>\n",
       "    <tr>\n",
       "      <th>6</th>\n",
       "      <td>Rating</td>\n",
       "      <td>0.0</td>\n",
       "      <td>0.0</td>\n",
       "    </tr>\n",
       "    <tr>\n",
       "      <th>7</th>\n",
       "      <td>cogs_per_unit</td>\n",
       "      <td>0.0</td>\n",
       "      <td>0.0</td>\n",
       "    </tr>\n",
       "  </tbody>\n",
       "</table>\n",
       "</div>"
      ],
      "text/plain": [
       "                     kolom  outlayer_mean  outlayer_iqr\n",
       "0               Unit price            0.0           0.0\n",
       "1                   Tax 5%            0.0           0.0\n",
       "2                    Total            0.0           0.0\n",
       "3                     cogs            0.0           0.0\n",
       "4  gross margin percentage            0.0           0.0\n",
       "5             gross income            0.0           0.0\n",
       "6                   Rating            0.0           0.0\n",
       "7            cogs_per_unit            0.0           0.0"
      ]
     },
     "execution_count": 29,
     "metadata": {},
     "output_type": "execute_result"
    }
   ],
   "source": [
    "jumlah_outlayer(menengah_atas)"
   ]
  },
  {
   "cell_type": "code",
   "execution_count": 30,
   "metadata": {},
   "outputs": [
    {
     "data": {
      "text/html": [
       "<div>\n",
       "<style scoped>\n",
       "    .dataframe tbody tr th:only-of-type {\n",
       "        vertical-align: middle;\n",
       "    }\n",
       "\n",
       "    .dataframe tbody tr th {\n",
       "        vertical-align: top;\n",
       "    }\n",
       "\n",
       "    .dataframe thead th {\n",
       "        text-align: right;\n",
       "    }\n",
       "</style>\n",
       "<table border=\"1\" class=\"dataframe\">\n",
       "  <thead>\n",
       "    <tr style=\"text-align: right;\">\n",
       "      <th></th>\n",
       "      <th>kolom</th>\n",
       "      <th>outlayer_mean</th>\n",
       "      <th>outlayer_iqr</th>\n",
       "    </tr>\n",
       "  </thead>\n",
       "  <tbody>\n",
       "    <tr>\n",
       "      <th>0</th>\n",
       "      <td>Unit price</td>\n",
       "      <td>0.0</td>\n",
       "      <td>0.0</td>\n",
       "    </tr>\n",
       "    <tr>\n",
       "      <th>1</th>\n",
       "      <td>Tax 5%</td>\n",
       "      <td>0.0</td>\n",
       "      <td>0.0</td>\n",
       "    </tr>\n",
       "    <tr>\n",
       "      <th>2</th>\n",
       "      <td>Total</td>\n",
       "      <td>0.0</td>\n",
       "      <td>0.0</td>\n",
       "    </tr>\n",
       "    <tr>\n",
       "      <th>3</th>\n",
       "      <td>cogs</td>\n",
       "      <td>0.0</td>\n",
       "      <td>0.0</td>\n",
       "    </tr>\n",
       "    <tr>\n",
       "      <th>4</th>\n",
       "      <td>gross margin percentage</td>\n",
       "      <td>0.0</td>\n",
       "      <td>0.0</td>\n",
       "    </tr>\n",
       "    <tr>\n",
       "      <th>5</th>\n",
       "      <td>gross income</td>\n",
       "      <td>0.0</td>\n",
       "      <td>0.0</td>\n",
       "    </tr>\n",
       "    <tr>\n",
       "      <th>6</th>\n",
       "      <td>Rating</td>\n",
       "      <td>0.0</td>\n",
       "      <td>0.0</td>\n",
       "    </tr>\n",
       "    <tr>\n",
       "      <th>7</th>\n",
       "      <td>cogs_per_unit</td>\n",
       "      <td>0.0</td>\n",
       "      <td>0.0</td>\n",
       "    </tr>\n",
       "  </tbody>\n",
       "</table>\n",
       "</div>"
      ],
      "text/plain": [
       "                     kolom  outlayer_mean  outlayer_iqr\n",
       "0               Unit price            0.0           0.0\n",
       "1                   Tax 5%            0.0           0.0\n",
       "2                    Total            0.0           0.0\n",
       "3                     cogs            0.0           0.0\n",
       "4  gross margin percentage            0.0           0.0\n",
       "5             gross income            0.0           0.0\n",
       "6                   Rating            0.0           0.0\n",
       "7            cogs_per_unit            0.0           0.0"
      ]
     },
     "execution_count": 30,
     "metadata": {},
     "output_type": "execute_result"
    }
   ],
   "source": [
    "jumlah_outlayer(mahal)"
   ]
  },
  {
   "cell_type": "markdown",
   "metadata": {},
   "source": [
    "data sudah siap digunakan"
   ]
  },
  {
   "cell_type": "markdown",
   "metadata": {},
   "source": [
    "### 3. Eksplorasi Data"
   ]
  },
  {
   "cell_type": "code",
   "execution_count": 31,
   "metadata": {},
   "outputs": [
    {
     "data": {
      "text/html": [
       "<div>\n",
       "<style scoped>\n",
       "    .dataframe tbody tr th:only-of-type {\n",
       "        vertical-align: middle;\n",
       "    }\n",
       "\n",
       "    .dataframe tbody tr th {\n",
       "        vertical-align: top;\n",
       "    }\n",
       "\n",
       "    .dataframe thead th {\n",
       "        text-align: right;\n",
       "    }\n",
       "</style>\n",
       "<table border=\"1\" class=\"dataframe\">\n",
       "  <thead>\n",
       "    <tr style=\"text-align: right;\">\n",
       "      <th></th>\n",
       "      <th>Invoice ID</th>\n",
       "      <th>Branch</th>\n",
       "      <th>City</th>\n",
       "      <th>Customer type</th>\n",
       "      <th>Gender</th>\n",
       "      <th>Product line</th>\n",
       "      <th>Unit price</th>\n",
       "      <th>Quantity</th>\n",
       "      <th>Tax 5%</th>\n",
       "      <th>Total</th>\n",
       "      <th>Date</th>\n",
       "      <th>Time</th>\n",
       "      <th>Payment</th>\n",
       "      <th>cogs</th>\n",
       "      <th>gross margin percentage</th>\n",
       "      <th>gross income</th>\n",
       "      <th>Rating</th>\n",
       "      <th>cogs_per_unit</th>\n",
       "      <th>product_class</th>\n",
       "    </tr>\n",
       "  </thead>\n",
       "  <tbody>\n",
       "    <tr>\n",
       "      <th>0</th>\n",
       "      <td>750-67-8428</td>\n",
       "      <td>A</td>\n",
       "      <td>Yangon</td>\n",
       "      <td>Member</td>\n",
       "      <td>Female</td>\n",
       "      <td>Health and beauty</td>\n",
       "      <td>74.69</td>\n",
       "      <td>7</td>\n",
       "      <td>26.1415</td>\n",
       "      <td>548.9715</td>\n",
       "      <td>1/5/2019</td>\n",
       "      <td>13:08</td>\n",
       "      <td>Ewallet</td>\n",
       "      <td>522.83</td>\n",
       "      <td>4.761905</td>\n",
       "      <td>26.1415</td>\n",
       "      <td>9.1</td>\n",
       "      <td>74.69</td>\n",
       "      <td>Menengah Atas</td>\n",
       "    </tr>\n",
       "    <tr>\n",
       "      <th>1</th>\n",
       "      <td>226-31-3081</td>\n",
       "      <td>C</td>\n",
       "      <td>Naypyitaw</td>\n",
       "      <td>Normal</td>\n",
       "      <td>Female</td>\n",
       "      <td>Electronic accessories</td>\n",
       "      <td>15.28</td>\n",
       "      <td>5</td>\n",
       "      <td>3.8200</td>\n",
       "      <td>80.2200</td>\n",
       "      <td>3/8/2019</td>\n",
       "      <td>10:29</td>\n",
       "      <td>Cash</td>\n",
       "      <td>76.40</td>\n",
       "      <td>4.761905</td>\n",
       "      <td>3.8200</td>\n",
       "      <td>9.6</td>\n",
       "      <td>15.28</td>\n",
       "      <td>Murah</td>\n",
       "    </tr>\n",
       "  </tbody>\n",
       "</table>\n",
       "</div>"
      ],
      "text/plain": [
       "    Invoice ID Branch       City Customer type  Gender  \\\n",
       "0  750-67-8428      A     Yangon        Member  Female   \n",
       "1  226-31-3081      C  Naypyitaw        Normal  Female   \n",
       "\n",
       "             Product line  Unit price  Quantity   Tax 5%     Total      Date  \\\n",
       "0       Health and beauty       74.69         7  26.1415  548.9715  1/5/2019   \n",
       "1  Electronic accessories       15.28         5   3.8200   80.2200  3/8/2019   \n",
       "\n",
       "    Time  Payment    cogs  gross margin percentage  gross income  Rating  \\\n",
       "0  13:08  Ewallet  522.83                 4.761905       26.1415     9.1   \n",
       "1  10:29     Cash   76.40                 4.761905        3.8200     9.6   \n",
       "\n",
       "   cogs_per_unit  product_class  \n",
       "0          74.69  Menengah Atas  \n",
       "1          15.28          Murah  "
      ]
     },
     "execution_count": 31,
     "metadata": {},
     "output_type": "execute_result"
    }
   ],
   "source": [
    "# Melihat sample data\n",
    "df.head(2)"
   ]
  },
  {
   "cell_type": "code",
   "execution_count": 32,
   "metadata": {},
   "outputs": [],
   "source": [
    "# Melihat jumlah count per branch\n",
    "# def grafik_sales (data):\n",
    "#     fig, axes = plt.subplots(nrows=2, ncols=2, figsize=(20,16))\n",
    "\n",
    "#     data.groupby('Branch').size().plot(kind='pie', ax=axes[0,0], ylabel='Branch').set_title('Sales Count each Branch')\n",
    "#     data.groupby('Customer type').size().plot(kind='bar', ax=axes[1,1], ylabel='Count').set_title('Sales Count each Customer Type')\n",
    "#     data.groupby('Gender').size().plot(kind='pie', ax=axes[0,1], ylabel='Gender').set_title('Sales Count each Gender')\n",
    "#     data.groupby('Product line').size().plot(kind='barh', ax=axes[1,0], xlabel='Count').set_title('Sales Count each Product line')"
   ]
  },
  {
   "cell_type": "code",
   "execution_count": 33,
   "metadata": {},
   "outputs": [
    {
     "data": {
      "text/plain": [
       "<seaborn.axisgrid.FacetGrid at 0x26a72117f70>"
      ]
     },
     "execution_count": 33,
     "metadata": {},
     "output_type": "execute_result"
    },
    {
     "data": {
      "image/png": "[encoded data removed]",
      "text/plain": [
       "<Figure size 506.5x360 with 1 Axes>"
      ]
     },
     "metadata": {
      "needs_background": "light"
     },
     "output_type": "display_data"
    }
   ],
   "source": [
    "# Melihat perbandingan sales per Product Line di setiap cabang\n",
    "sns.catplot(x='Branch',hue='Product line', data=df, kind='count', order=['A','B','C'])"
   ]
  },
  {
   "cell_type": "markdown",
   "metadata": {},
   "source": [
    "Sebagai event manager di store C , terlihat store C sangat baik di penjualan Fashion accessories dan Food and beverages"
   ]
  },
  {
   "cell_type": "code",
   "execution_count": 34,
   "metadata": {},
   "outputs": [
    {
     "data": {
      "text/plain": [
       "<AxesSubplot:xlabel='Branch', ylabel='count'>"
      ]
     },
     "execution_count": 34,
     "metadata": {},
     "output_type": "execute_result"
    },
    {
     "data": {
      "image/png": "[encoded data removed]",
      "text/plain": [
       "<Figure size 432x288 with 1 Axes>"
      ]
     },
     "metadata": {
      "needs_background": "light"
     },
     "output_type": "display_data"
    }
   ],
   "source": [
    "# Membandingkan penjualan fashion accesories di setiap cabang\n",
    "sns.countplot(x='Branch', data = df[df['Product line']=='Fashion accessories'], order=['A','B','C'])"
   ]
  },
  {
   "cell_type": "code",
   "execution_count": 35,
   "metadata": {},
   "outputs": [],
   "source": [
    "# pembuatan query data cabang c produk line fashion accessories\n",
    "dfc= df[(df['Branch']=='C') & (df['Product line']=='Fashion accessories')]"
   ]
  },
  {
   "cell_type": "code",
   "execution_count": 36,
   "metadata": {},
   "outputs": [
    {
     "data": {
      "image/png": "[encoded data removed]",
      "text/plain": [
       "<Figure size 432x288 with 1 Axes>"
      ]
     },
     "metadata": {
      "needs_background": "light"
     },
     "output_type": "display_data"
    }
   ],
   "source": [
    "# Melihat jumlah penjualan di setiap kelas harga produk fashion di branch C\n",
    "sns.countplot(data = dfc, x= 'product_class', order= [ 'Murah', 'Menengah Bawah', 'Menengah Atas', 'Mahal'])\n",
    "locs, labels = plt.xticks()\n",
    "plt.setp(labels, rotation=45)\n",
    "plt.show()"
   ]
  },
  {
   "cell_type": "markdown",
   "metadata": {},
   "source": [
    "Store C sangat baik dalam menjual produk fashion yang mahal secara jumlah transaksi"
   ]
  },
  {
   "cell_type": "code",
   "execution_count": 37,
   "metadata": {},
   "outputs": [
    {
     "data": {
      "image/png": "[encoded data removed]",
      "text/plain": [
       "<Figure size 432x288 with 1 Axes>"
      ]
     },
     "metadata": {
      "needs_background": "light"
     },
     "output_type": "display_data"
    }
   ],
   "source": [
    "sns.barplot(data = dfc, x= 'product_class', order= [ 'Murah', 'Menengah Bawah', 'Menengah Atas', 'Mahal'], y = 'gross income')\n",
    "locs, labels = plt.xticks()\n",
    "plt.setp(labels, rotation=45)\n",
    "plt.show()"
   ]
  },
  {
   "cell_type": "markdown",
   "metadata": {},
   "source": [
    "secara jumlah gross income produk mahal juga memiliki gross income yang paling besar di store c"
   ]
  },
  {
   "cell_type": "code",
   "execution_count": 38,
   "metadata": {},
   "outputs": [
    {
     "data": {
      "text/plain": [
       "<Figure size 432x288 with 0 Axes>"
      ]
     },
     "metadata": {},
     "output_type": "display_data"
    },
    {
     "data": {
      "image/png": "[encoded data removed]",
      "text/plain": [
       "<Figure size 451.125x360 with 1 Axes>"
      ]
     },
     "metadata": {
      "needs_background": "light"
     },
     "output_type": "display_data"
    }
   ],
   "source": [
    "# Melihat perbandingan jenis pembayaran di setiap kelas harga produk\n",
    "fig = plt.figure()\n",
    "\n",
    "sns.catplot(data=dfc, x='product_class',order=['Murah','Menengah Bawah', 'Menengah Atas','Mahal'], hue='Payment', hue_order=['Cash','Credit card', 'Ewallet'],  kind='count')\n",
    "locs, labels = plt.xticks()\n",
    "plt.setp(labels, rotation=45)\n",
    "plt.show()"
   ]
  },
  {
   "cell_type": "markdown",
   "metadata": {},
   "source": [
    "Terlihat kalau \n",
    "- produk murah lebih banyak yang bayar secara credit card dan ewallet\n",
    "- produk menengah bawah lebih banyak menggunakan cash\n",
    "- produk menengah atas lebih banyak menggunakan cash\n",
    "- produk mahal sama banyak antara cash, credit card dan ewallet"
   ]
  },
  {
   "cell_type": "code",
   "execution_count": 39,
   "metadata": {},
   "outputs": [
    {
     "data": {
      "image/png": "[encoded data removed]",
      "text/plain": [
       "<Figure size 432x288 with 1 Axes>"
      ]
     },
     "metadata": {
      "needs_background": "light"
     },
     "output_type": "display_data"
    }
   ],
   "source": [
    "# Melihat perbandingan Total spending setiap customer type di setiap kelas harga produk\n",
    "sns.barplot(data=dfc, x='product_class',order=['Murah','Menengah Bawah', 'Menengah Atas','Mahal'],y='Total', hue='Customer type')\n",
    "locs, labels = plt.xticks()\n",
    "plt.setp(labels, rotation=45)\n",
    "plt.show()"
   ]
  },
  {
   "cell_type": "markdown",
   "metadata": {},
   "source": [
    "Terlihat member sangat tertarik dengan produk mahal"
   ]
  },
  {
   "cell_type": "code",
   "execution_count": 40,
   "metadata": {},
   "outputs": [
    {
     "data": {
      "text/plain": [
       "<AxesSubplot:ylabel='None'>"
      ]
     },
     "execution_count": 40,
     "metadata": {},
     "output_type": "execute_result"
    },
    {
     "data": {
      "image/png": "[encoded data removed]",
      "text/plain": [
       "<Figure size 432x288 with 1 Axes>"
      ]
     },
     "metadata": {},
     "output_type": "display_data"
    }
   ],
   "source": [
    "# Melihat perbandingan gender secara keseluruhan di dfc\n",
    "dfc.groupby('Gender').size().plot(kind='pie')"
   ]
  },
  {
   "cell_type": "markdown",
   "metadata": {},
   "source": [
    "Terlihat kalau secara umum, pembeli wanita yang lebih banyak membeli produk fashion di store C"
   ]
  },
  {
   "cell_type": "code",
   "execution_count": 41,
   "metadata": {},
   "outputs": [
    {
     "data": {
      "text/plain": [
       "<AxesSubplot:ylabel='Total'>"
      ]
     },
     "execution_count": 41,
     "metadata": {},
     "output_type": "execute_result"
    },
    {
     "data": {
      "image/png": "[encoded data removed]",
      "text/plain": [
       "<Figure size 432x288 with 1 Axes>"
      ]
     },
     "metadata": {},
     "output_type": "display_data"
    }
   ],
   "source": [
    "dfc[dfc['Customer type']=='Member'].groupby('Gender').sum()['Total'].plot(kind='pie')"
   ]
  },
  {
   "cell_type": "code",
   "execution_count": 42,
   "metadata": {},
   "outputs": [
    {
     "data": {
      "text/plain": [
       "<AxesSubplot:xlabel='Customer type', ylabel='Total'>"
      ]
     },
     "execution_count": 42,
     "metadata": {},
     "output_type": "execute_result"
    },
    {
     "data": {
      "image/png": "[encoded data removed]",
      "text/plain": [
       "<Figure size 432x288 with 1 Axes>"
      ]
     },
     "metadata": {
      "needs_background": "light"
     },
     "output_type": "display_data"
    }
   ],
   "source": [
    "# Melihat perbandingan Total pada setiap Gender di setiap customer type\n",
    "sns.barplot(data=dfc, x='Customer type', hue='Gender', y= 'Total')\n"
   ]
  },
  {
   "cell_type": "markdown",
   "metadata": {},
   "source": [
    "Member wanita sama dominan dengan pria"
   ]
  },
  {
   "cell_type": "code",
   "execution_count": 43,
   "metadata": {},
   "outputs": [
    {
     "data": {
      "text/plain": [
       "<AxesSubplot:xlabel='Unit price', ylabel='Quantity'>"
      ]
     },
     "execution_count": 43,
     "metadata": {},
     "output_type": "execute_result"
    },
    {
     "data": {
      "image/png": "[encoded data removed]",
      "text/plain": [
       "<Figure size 432x288 with 1 Axes>"
      ]
     },
     "metadata": {
      "needs_background": "light"
     },
     "output_type": "display_data"
    }
   ],
   "source": [
    "# melihat Gross income di setiap harga dan qty dengan scatter plot\n",
    "sns.scatterplot(x='Unit price', y='Quantity',hue='Customer type',  size= 'gross income', sizes=(20,300), data=dfc)"
   ]
  },
  {
   "cell_type": "markdown",
   "metadata": {},
   "source": [
    "Terlihat untuk meningkatkan profit sebaiknya memaksimalkan penjualan dari produk mahal dan juga meningkatkan kuantitasnya. Berdasarkan data, produk murah juga tidak menang dari segi kuantitas, sehingga bisa dikesampingkan. Member juga mendominasi di kanan atas grafik yang berrati memberikan gross income yang tinggi."
   ]
  },
  {
   "cell_type": "markdown",
   "metadata": {},
   "source": [
    "### 4. Hypothesis Testing"
   ]
  },
  {
   "cell_type": "markdown",
   "metadata": {},
   "source": [
    "#### 4.1 Anova untuk mengecek apakah gross income produk fashion kelas mahal paling banyak diantara kelas lainnya di store C"
   ]
  },
  {
   "cell_type": "markdown",
   "metadata": {},
   "source": [
    "$$ H0: \\mu A  =  \\mu B  = \\mu C $$\n",
    "$$ H1: \\mu A  \\neq  \\mu B  \\neq \\mu C $$"
   ]
  },
  {
   "cell_type": "code",
   "execution_count": 44,
   "metadata": {},
   "outputs": [
    {
     "name": "stdout",
     "output_type": "stream",
     "text": [
      "P-value: 4.5940388565548746e-05\n"
     ]
    }
   ],
   "source": [
    "# Test anova one way\n",
    "gi_murah = dfc[dfc['product_class']=='Murah']['gross income']\n",
    "gi_menengah_bawah = dfc[dfc['product_class']=='Menengah Bawah']['gross income']\n",
    "gi_menengah_atas = dfc[dfc['product_class']=='Menengah Atas']['gross income']\n",
    "gi_mahal = dfc[dfc['product_class']=='Mahal']['gross income']\n",
    "\n",
    "f_stat,p_value = stats.f_oneway(gi_murah,gi_menengah_bawah,gi_menengah_atas,gi_mahal)\n",
    "print('P-value:',p_value)\n"
   ]
  },
  {
   "cell_type": "code",
   "execution_count": 45,
   "metadata": {},
   "outputs": [
    {
     "data": {
      "text/html": [
       "<div>\n",
       "<style scoped>\n",
       "    .dataframe tbody tr th:only-of-type {\n",
       "        vertical-align: middle;\n",
       "    }\n",
       "\n",
       "    .dataframe tbody tr th {\n",
       "        vertical-align: top;\n",
       "    }\n",
       "\n",
       "    .dataframe thead th {\n",
       "        text-align: right;\n",
       "    }\n",
       "</style>\n",
       "<table border=\"1\" class=\"dataframe\">\n",
       "  <thead>\n",
       "    <tr style=\"text-align: right;\">\n",
       "      <th></th>\n",
       "      <th>product_class</th>\n",
       "      <th>gross income</th>\n",
       "    </tr>\n",
       "  </thead>\n",
       "  <tbody>\n",
       "    <tr>\n",
       "      <th>49</th>\n",
       "      <td>Mahal</td>\n",
       "      <td>41.3150</td>\n",
       "    </tr>\n",
       "    <tr>\n",
       "      <th>53</th>\n",
       "      <td>Murah</td>\n",
       "      <td>0.7715</td>\n",
       "    </tr>\n",
       "    <tr>\n",
       "      <th>71</th>\n",
       "      <td>Menengah Atas</td>\n",
       "      <td>31.0600</td>\n",
       "    </tr>\n",
       "    <tr>\n",
       "      <th>76</th>\n",
       "      <td>Menengah Bawah</td>\n",
       "      <td>22.0680</td>\n",
       "    </tr>\n",
       "    <tr>\n",
       "      <th>86</th>\n",
       "      <td>Menengah Atas</td>\n",
       "      <td>19.1300</td>\n",
       "    </tr>\n",
       "  </tbody>\n",
       "</table>\n",
       "</div>"
      ],
      "text/plain": [
       "     product_class  gross income\n",
       "49           Mahal       41.3150\n",
       "53           Murah        0.7715\n",
       "71   Menengah Atas       31.0600\n",
       "76  Menengah Bawah       22.0680\n",
       "86   Menengah Atas       19.1300"
      ]
     },
     "execution_count": 45,
     "metadata": {},
     "output_type": "execute_result"
    }
   ],
   "source": [
    "for_tukey = dfc[['product_class','gross income']]\n",
    "for_tukey.head()"
   ]
  },
  {
   "cell_type": "code",
   "execution_count": 46,
   "metadata": {},
   "outputs": [
    {
     "name": "stdout",
     "output_type": "stream",
     "text": [
      "         Multiple Comparison of Means - Tukey HSD, FWER=0.05         \n",
      "=====================================================================\n",
      "    group1         group2     meandiff p-adj   lower    upper  reject\n",
      "---------------------------------------------------------------------\n",
      "         Mahal  Menengah Atas  -3.3697 0.7659 -12.9695  6.2301  False\n",
      "         Mahal Menengah Bawah -10.0261 0.0374 -19.6259 -0.4263   True\n",
      "         Mahal          Murah -18.3071  0.001 -28.1048 -8.5093   True\n",
      " Menengah Atas Menengah Bawah  -6.6564  0.335 -17.0254  3.7125  False\n",
      " Menengah Atas          Murah -14.9374 0.0023 -25.4899 -4.3849   True\n",
      "Menengah Bawah          Murah   -8.281 0.1738 -18.8335  2.2716  False\n",
      "---------------------------------------------------------------------\n"
     ]
    }
   ],
   "source": [
    "tukey = multicomp.pairwise_tukeyhsd(endog=for_tukey['gross income'], groups=for_tukey['product_class'], alpha=0.05)\n",
    "print(tukey)"
   ]
  },
  {
   "cell_type": "markdown",
   "metadata": {},
   "source": [
    "Berdasarkan Anova, terdapat perbedaan signifikan antara kelas produk fashion dengan gross incomenya pada sore C.\n",
    "Berdasarkan hasil Tukey terdapat subset sebagai berikut (p<0.05):\n",
    "- Mahal : a\n",
    "- Menengah atas : ab\n",
    "- Menengah bawah : bc\n",
    "- Murah: c"
   ]
  },
  {
   "cell_type": "code",
   "execution_count": 47,
   "metadata": {},
   "outputs": [
    {
     "data": {
      "text/html": [
       "<div>\n",
       "<style scoped>\n",
       "    .dataframe tbody tr th:only-of-type {\n",
       "        vertical-align: middle;\n",
       "    }\n",
       "\n",
       "    .dataframe tbody tr th {\n",
       "        vertical-align: top;\n",
       "    }\n",
       "\n",
       "    .dataframe thead th {\n",
       "        text-align: right;\n",
       "    }\n",
       "</style>\n",
       "<table border=\"1\" class=\"dataframe\">\n",
       "  <thead>\n",
       "    <tr style=\"text-align: right;\">\n",
       "      <th></th>\n",
       "      <th>product_class</th>\n",
       "      <th>gross income</th>\n",
       "    </tr>\n",
       "  </thead>\n",
       "  <tbody>\n",
       "    <tr>\n",
       "      <th>0</th>\n",
       "      <td>Mahal</td>\n",
       "      <td>22.829333</td>\n",
       "    </tr>\n",
       "    <tr>\n",
       "      <th>1</th>\n",
       "      <td>Menengah Atas</td>\n",
       "      <td>19.459633</td>\n",
       "    </tr>\n",
       "    <tr>\n",
       "      <th>2</th>\n",
       "      <td>Menengah Bawah</td>\n",
       "      <td>12.803200</td>\n",
       "    </tr>\n",
       "    <tr>\n",
       "      <th>3</th>\n",
       "      <td>Murah</td>\n",
       "      <td>4.522250</td>\n",
       "    </tr>\n",
       "  </tbody>\n",
       "</table>\n",
       "</div>"
      ],
      "text/plain": [
       "    product_class  gross income\n",
       "0           Mahal     22.829333\n",
       "1   Menengah Atas     19.459633\n",
       "2  Menengah Bawah     12.803200\n",
       "3           Murah      4.522250"
      ]
     },
     "execution_count": 47,
     "metadata": {},
     "output_type": "execute_result"
    }
   ],
   "source": [
    "for_grafik= for_tukey.groupby('product_class').mean().reset_index()\n",
    "for_grafik"
   ]
  },
  {
   "cell_type": "code",
   "execution_count": 48,
   "metadata": {},
   "outputs": [
    {
     "data": {
      "image/png": "[encoded data removed]",
      "text/plain": [
       "<Figure size 432x288 with 1 Axes>"
      ]
     },
     "metadata": {
      "needs_background": "light"
     },
     "output_type": "display_data"
    }
   ],
   "source": [
    "sns.boxplot(x='product_class',order=['Mahal', 'Menengah Atas', 'Menengah Bawah', 'Murah'],y='gross income', data=dfc,showmeans=True)\n",
    "\n",
    "locs, labels = plt.xticks()\n",
    "plt.setp(labels, rotation=45)\n",
    "plt.show()"
   ]
  },
  {
   "cell_type": "code",
   "execution_count": 49,
   "metadata": {},
   "outputs": [
    {
     "data": {
      "image/png": "[encoded data removed]",
      "text/plain": [
       "<Figure size 432x288 with 1 Axes>"
      ]
     },
     "metadata": {
      "needs_background": "light"
     },
     "output_type": "display_data"
    }
   ],
   "source": [
    "# memvisualisasikan mean setiap kelas produk dan juga menunjukan perbedaan subset di confidence level 95%\n",
    "ax =sns.barplot(x='product_class', y='gross income', data=for_grafik)\n",
    "ax.bar_label(ax.containers[0], labels=['a','ab','bc','c'])\n",
    "locs, labels = plt.xticks()\n",
    "plt.setp(labels, rotation=45)\n",
    "plt.show()"
   ]
  },
  {
   "cell_type": "markdown",
   "metadata": {},
   "source": [
    "Terlihat produk mahal dan menengah atas menghasilkan gross income yang sama dan merupakan produk yang menghasilkan gross income terbesar pada store C line fashion accesories."
   ]
  },
  {
   "cell_type": "markdown",
   "metadata": {},
   "source": [
    "#### 4.2 - Anova untuk Melihat apakah benar member lebih mau spending lebih banyak di produk yang mahal"
   ]
  },
  {
   "cell_type": "code",
   "execution_count": 50,
   "metadata": {},
   "outputs": [
    {
     "name": "stdout",
     "output_type": "stream",
     "text": [
      "P-value: 0.018092403069278326\n"
     ]
    },
    {
     "name": "stderr",
     "output_type": "stream",
     "text": [
      "C:\\Users\\Jimmy\\AppData\\Local\\Temp/ipykernel_11316/4019923953.py:1: UserWarning: Boolean Series key will be reindexed to match DataFrame index.\n",
      "  tm_murah = dfc[((dfc['product_class']=='Murah' )&(df['Customer type']=='Member'))]['Total']\n",
      "C:\\Users\\Jimmy\\AppData\\Local\\Temp/ipykernel_11316/4019923953.py:2: UserWarning: Boolean Series key will be reindexed to match DataFrame index.\n",
      "  tm_menengah_bawah = dfc[((dfc['product_class']=='Menengah Bawah' )&(df['Customer type']=='Member'))]['Total']\n",
      "C:\\Users\\Jimmy\\AppData\\Local\\Temp/ipykernel_11316/4019923953.py:3: UserWarning: Boolean Series key will be reindexed to match DataFrame index.\n",
      "  tm_menengah_atas = dfc[((dfc['product_class']=='Menengah Atas' )&(df['Customer type']=='Member'))]['Total']\n",
      "C:\\Users\\Jimmy\\AppData\\Local\\Temp/ipykernel_11316/4019923953.py:4: UserWarning: Boolean Series key will be reindexed to match DataFrame index.\n",
      "  tm_mahal = dfc[((dfc['product_class']=='Mahal' )&(df['Customer type']=='Member'))]['Total']\n"
     ]
    }
   ],
   "source": [
    "tm_murah = dfc[((dfc['product_class']=='Murah' )&(df['Customer type']=='Member'))]['Total']\n",
    "tm_menengah_bawah = dfc[((dfc['product_class']=='Menengah Bawah' )&(df['Customer type']=='Member'))]['Total']\n",
    "tm_menengah_atas = dfc[((dfc['product_class']=='Menengah Atas' )&(df['Customer type']=='Member'))]['Total']\n",
    "tm_mahal = dfc[((dfc['product_class']=='Mahal' )&(df['Customer type']=='Member'))]['Total']\n",
    "\n",
    "\n",
    "f_stat,p_value = stats.f_oneway(tm_murah,tm_menengah_bawah,tm_menengah_atas,tm_mahal)\n",
    "print('P-value:',p_value)"
   ]
  },
  {
   "cell_type": "markdown",
   "metadata": {},
   "source": [
    "Hasilnya signifikan maka akan dilakukan post hoc test berupa tukey HSD"
   ]
  },
  {
   "cell_type": "code",
   "execution_count": 51,
   "metadata": {},
   "outputs": [
    {
     "data": {
      "text/html": [
       "<div>\n",
       "<style scoped>\n",
       "    .dataframe tbody tr th:only-of-type {\n",
       "        vertical-align: middle;\n",
       "    }\n",
       "\n",
       "    .dataframe tbody tr th {\n",
       "        vertical-align: top;\n",
       "    }\n",
       "\n",
       "    .dataframe thead th {\n",
       "        text-align: right;\n",
       "    }\n",
       "</style>\n",
       "<table border=\"1\" class=\"dataframe\">\n",
       "  <thead>\n",
       "    <tr style=\"text-align: right;\">\n",
       "      <th></th>\n",
       "      <th>product_class</th>\n",
       "      <th>Total</th>\n",
       "    </tr>\n",
       "  </thead>\n",
       "  <tbody>\n",
       "    <tr>\n",
       "      <th>49</th>\n",
       "      <td>Mahal</td>\n",
       "      <td>867.6150</td>\n",
       "    </tr>\n",
       "    <tr>\n",
       "      <th>53</th>\n",
       "      <td>Murah</td>\n",
       "      <td>16.2015</td>\n",
       "    </tr>\n",
       "    <tr>\n",
       "      <th>76</th>\n",
       "      <td>Menengah Bawah</td>\n",
       "      <td>463.4280</td>\n",
       "    </tr>\n",
       "    <tr>\n",
       "      <th>100</th>\n",
       "      <td>Menengah Bawah</td>\n",
       "      <td>51.1455</td>\n",
       "    </tr>\n",
       "    <tr>\n",
       "      <th>195</th>\n",
       "      <td>Menengah Atas</td>\n",
       "      <td>78.0045</td>\n",
       "    </tr>\n",
       "  </tbody>\n",
       "</table>\n",
       "</div>"
      ],
      "text/plain": [
       "      product_class     Total\n",
       "49            Mahal  867.6150\n",
       "53            Murah   16.2015\n",
       "76   Menengah Bawah  463.4280\n",
       "100  Menengah Bawah   51.1455\n",
       "195   Menengah Atas   78.0045"
      ]
     },
     "execution_count": 51,
     "metadata": {},
     "output_type": "execute_result"
    }
   ],
   "source": [
    "for_tukey= dfc[dfc['Customer type']=='Member'][['product_class','Total']]\n",
    "for_tukey.head()"
   ]
  },
  {
   "cell_type": "code",
   "execution_count": 52,
   "metadata": {},
   "outputs": [
    {
     "name": "stdout",
     "output_type": "stream",
     "text": [
      "          Multiple Comparison of Means - Tukey HSD, FWER=0.05           \n",
      "========================================================================\n",
      "    group1         group2      meandiff p-adj    lower    upper   reject\n",
      "------------------------------------------------------------------------\n",
      "         Mahal  Menengah Atas -134.8723 0.7702 -532.9209 263.1762  False\n",
      "         Mahal Menengah Bawah -269.8932 0.1326 -596.3209  56.5344  False\n",
      "         Mahal          Murah -498.5089 0.0194  -931.671 -65.3467   True\n",
      " Menengah Atas Menengah Bawah -135.0209 0.8032 -561.1744 291.1326  False\n",
      " Menengah Atas          Murah -363.6365 0.2361 -876.1609 148.8878  False\n",
      "Menengah Bawah          Murah -228.6156 0.5311 -687.7382  230.507  False\n",
      "------------------------------------------------------------------------\n"
     ]
    }
   ],
   "source": [
    "tukey = multicomp.pairwise_tukeyhsd(endog=for_tukey['Total'], groups=for_tukey['product_class'], alpha=0.05)\n",
    "print(tukey)"
   ]
  },
  {
   "cell_type": "code",
   "execution_count": 53,
   "metadata": {},
   "outputs": [
    {
     "data": {
      "text/html": [
       "<div>\n",
       "<style scoped>\n",
       "    .dataframe tbody tr th:only-of-type {\n",
       "        vertical-align: middle;\n",
       "    }\n",
       "\n",
       "    .dataframe tbody tr th {\n",
       "        vertical-align: top;\n",
       "    }\n",
       "\n",
       "    .dataframe thead th {\n",
       "        text-align: right;\n",
       "    }\n",
       "</style>\n",
       "<table border=\"1\" class=\"dataframe\">\n",
       "  <thead>\n",
       "    <tr style=\"text-align: right;\">\n",
       "      <th></th>\n",
       "      <th>product_class</th>\n",
       "      <th>Total</th>\n",
       "    </tr>\n",
       "  </thead>\n",
       "  <tbody>\n",
       "    <tr>\n",
       "      <th>0</th>\n",
       "      <td>Mahal</td>\n",
       "      <td>535.602750</td>\n",
       "    </tr>\n",
       "    <tr>\n",
       "      <th>1</th>\n",
       "      <td>Menengah Atas</td>\n",
       "      <td>400.730400</td>\n",
       "    </tr>\n",
       "    <tr>\n",
       "      <th>2</th>\n",
       "      <td>Menengah Bawah</td>\n",
       "      <td>265.709500</td>\n",
       "    </tr>\n",
       "    <tr>\n",
       "      <th>3</th>\n",
       "      <td>Murah</td>\n",
       "      <td>37.093875</td>\n",
       "    </tr>\n",
       "  </tbody>\n",
       "</table>\n",
       "</div>"
      ],
      "text/plain": [
       "    product_class       Total\n",
       "0           Mahal  535.602750\n",
       "1   Menengah Atas  400.730400\n",
       "2  Menengah Bawah  265.709500\n",
       "3           Murah   37.093875"
      ]
     },
     "execution_count": 53,
     "metadata": {},
     "output_type": "execute_result"
    }
   ],
   "source": [
    "for_grafik= for_tukey.groupby('product_class').mean().reset_index()\n",
    "for_grafik"
   ]
  },
  {
   "cell_type": "markdown",
   "metadata": {},
   "source": [
    "#### 4.3 - Branch B sangat baik pada penjualan Sport and travel dan sangat kurang di food and beverages\n"
   ]
  },
  {
   "cell_type": "code",
   "execution_count": 54,
   "metadata": {},
   "outputs": [
    {
     "data": {
      "image/png": "[encoded data removed]",
      "text/plain": [
       "<Figure size 432x288 with 1 Axes>"
      ]
     },
     "metadata": {
      "needs_background": "light"
     },
     "output_type": "display_data"
    }
   ],
   "source": [
    "ax =sns.barplot(x='product_class', y='Total', data=for_grafik)\n",
    "ax.bar_label(ax.containers[0], labels=['a','ab','ab','b'])\n",
    "locs, labels = plt.xticks()\n",
    "plt.setp(labels, rotation=45)\n",
    "plt.show()"
   ]
  },
  {
   "cell_type": "code",
   "execution_count": 55,
   "metadata": {},
   "outputs": [
    {
     "data": {
      "image/png": "[encoded data removed]",
      "text/plain": [
       "<Figure size 432x288 with 1 Axes>"
      ]
     },
     "metadata": {
      "needs_background": "light"
     },
     "output_type": "display_data"
    }
   ],
   "source": [
    "sns.boxplot(x='product_class',order=['Mahal', 'Menengah Atas', 'Menengah Bawah', 'Murah'],y='Total', data=dfc[dfc['Customer type']=='Member'], showmeans=True)\n",
    "\n",
    "locs, labels = plt.xticks()\n",
    "plt.setp(labels, rotation=45)\n",
    "plt.show()"
   ]
  },
  {
   "cell_type": "markdown",
   "metadata": {},
   "source": [
    "#### 4.4 - Uji T test untuk melihat apakah member wanita = member laki-laki dalam total spendingnya"
   ]
  },
  {
   "cell_type": "markdown",
   "metadata": {},
   "source": [
    "- H0: mu Total member wanita = mu Total member laki-laki\n",
    "- H1: mu Total member wanita != mu Total member laki-laki"
   ]
  },
  {
   "cell_type": "code",
   "execution_count": 56,
   "metadata": {},
   "outputs": [],
   "source": [
    "member_wanita = dfc[dfc['Gender']=='Female']\n",
    "member_pria = dfc[dfc['Gender']=='Male']"
   ]
  },
  {
   "cell_type": "code",
   "execution_count": 57,
   "metadata": {},
   "outputs": [
    {
     "name": "stdout",
     "output_type": "stream",
     "text": [
      "P-value: 0.933797480563224\n",
      "t-statistics: -0.08340056162211958\n"
     ]
    }
   ],
   "source": [
    "# t-test 2 sample 2 tailed\n",
    "t_stat, p_val = stats.ttest_ind(member_wanita['Total'], member_pria['Total'])\n",
    "\n",
    "# ttest_ind is 2-tailed, we dont need to divide by 2\n",
    "print('P-value:',p_val)\n",
    "print('t-statistics:',t_stat)"
   ]
  },
  {
   "cell_type": "code",
   "execution_count": 58,
   "metadata": {},
   "outputs": [
    {
     "name": "stderr",
     "output_type": "stream",
     "text": [
      "C:\\Users\\Jimmy\\anaconda3\\lib\\site-packages\\seaborn\\distributions.py:2619: FutureWarning: `distplot` is a deprecated function and will be removed in a future version. Please adapt your code to use either `displot` (a figure-level function with similar flexibility) or `histplot` (an axes-level function for histograms).\n",
      "  warnings.warn(msg, FutureWarning)\n",
      "C:\\Users\\Jimmy\\anaconda3\\lib\\site-packages\\seaborn\\distributions.py:2619: FutureWarning: `distplot` is a deprecated function and will be removed in a future version. Please adapt your code to use either `displot` (a figure-level function with similar flexibility) or `histplot` (an axes-level function for histograms).\n",
      "  warnings.warn(msg, FutureWarning)\n"
     ]
    },
    {
     "data": {
      "text/plain": [
       "<matplotlib.legend.Legend at 0x26a722fd460>"
      ]
     },
     "execution_count": 58,
     "metadata": {},
     "output_type": "execute_result"
    },
    {
     "data": {
      "image/png": "[encoded data removed]",
      "text/plain": [
       "<Figure size 1152x360 with 1 Axes>"
      ]
     },
     "metadata": {
      "needs_background": "light"
     },
     "output_type": "display_data"
    }
   ],
   "source": [
    "# simulation\n",
    "member_wanita_pop = np.random.normal(member_wanita['Total'].mean(),member_wanita['Total'].std(),10000)\n",
    "member_pria_pop = np.random.normal(member_pria['Total'].mean(),member_pria['Total'].std(),10000)\n",
    "\n",
    "# confidence interval based on member wanita\n",
    "# used cv = 0.05 since 2 tailed, we use 0.95 as it is. \n",
    "ci = stats.norm.interval(0.95, member_wanita['Total'].mean(), member_wanita['Total'].std())\n",
    "\n",
    "plt.figure(figsize=(16,5))\n",
    "sns.distplot(member_wanita_pop, label='member_wanita_pop',color='blue')\n",
    "sns.distplot(member_pria_pop, label='member_pria_pop',color='orange')\n",
    "\n",
    "# mean\n",
    "plt.axvline(member_wanita['Total'].mean(), color='blue', linewidth=2, label='member_wanita Total mean')\n",
    "plt.axvline(member_pria['Total'].mean(), color='orange',  linewidth=2, label='member_pria total mean')\n",
    "\n",
    "plt.axvline(ci[1], color='green', linestyle='dashed', linewidth=2, label='confidence threshold of 95%')\n",
    "plt.axvline(ci[0], color='green', linestyle='dashed', linewidth=2, label='confidence threshold of 95%')\n",
    "\n",
    "# alternative hypotesis\n",
    "plt.axvline(member_wanita_pop.mean()+t_stat*member_wanita_pop.std(), color='black', linewidth=2, label = 'Alternative Hypothesis')\n",
    "plt.axvline(member_wanita_pop.mean()-t_stat*member_wanita_pop.std(), color='black',  linewidth=2)\n",
    "\n",
    "plt.legend()\n"
   ]
  },
  {
   "cell_type": "markdown",
   "metadata": {},
   "source": [
    "Tidak terdapat member wanita dan pria memiliki total spending yang sama , terlihat dari p>0.05"
   ]
  },
  {
   "cell_type": "code",
   "execution_count": 59,
   "metadata": {},
   "outputs": [],
   "source": [
    "#export database\n",
    "# df.to_csv('data_customer.csv')\n",
    "# dfc.to_csv('data_customer_c.csv')"
   ]
  },
  {
   "cell_type": "markdown",
   "metadata": {},
   "source": [
    "## Conclusions, Assumptions, Overall Analysis\n",
    "- Berdasarkan hasil analisa, untuk meningkatkan gross income dalam lini produk fashion dan accesories di cabang C, maka store C dapat berfokus pada produk kelas mahal, dan juga berfokus pada tipe pelanggan member.\n",
    "\n",
    "- Adapun, member tidak perlu diprioritaskan dari gendernya, karena baik wanita maupun pria mempunyai total spending yang sama secara statistik.\n",
    "\n",
    "- Produk murah sebaiknya tidak perlu diberikan promosi berlebih karena secara jumlah transaksinya juga hanya sedikit.\n"
   ]
  }
 ],
 "metadata": {
  "interpreter": {
   "hash": "8555038aaf50c67da4e0e73c7d1f04b7c4ad5a06a3a928c72bc11a547bb46a7c"
  },
  "kernelspec": {
   "display_name": "Python 3.9.7 ('base')",
   "language": "python",
   "name": "python3"
  },
  "language_info": {
   "codemirror_mode": {
    "name": "ipython",
    "version": 3
   },
   "file_extension": ".py",
   "mimetype": "text/x-python",
   "name": "python",
   "nbconvert_exporter": "python",
   "pygments_lexer": "ipython3",
   "version": "3.9.7"
  },
  "orig_nbformat": 4
 },
 "nbformat": 4,
 "nbformat_minor": 2
}
