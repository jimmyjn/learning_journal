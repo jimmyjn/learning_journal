{
 "cells": [
  {
   "cell_type": "code",
   "execution_count": 1,
   "id": "fc189091",
   "metadata": {},
   "outputs": [],
   "source": [
    "numbers =[951, 402, 984, 651, 360, 69, 408, 319, 601, 485, 980, 507, 725, 547, 544, 615, 83, 165, 141, 501, 263, 617, 865, 575, 219, 390, 984, 592, 236, 105, 942, 941, 386, 462, 47, 418, 907, 344, 236, 375, 823, 566, 597, 978, 328, 615, 953, 345, 399, 162, 758, 219, 918, 237, 412, 566, 826, 248, 866, 950, 626, 949]"
   ]
  },
  {
   "cell_type": "code",
   "execution_count": 2,
   "id": "b483088a",
   "metadata": {},
   "outputs": [],
   "source": [
    "even_numbers =  numbers.copy()"
   ]
  },
  {
   "cell_type": "code",
   "execution_count": 3,
   "id": "811e4ffc",
   "metadata": {},
   "outputs": [
    {
     "name": "stdout",
     "output_type": "stream",
     "text": [
      "984\n",
      "390\n",
      "984\n",
      "592\n",
      "236\n",
      "462\n",
      "236\n",
      "566\n",
      "328\n",
      "162\n",
      "758\n",
      "566\n",
      "826\n",
      "248\n",
      "866\n",
      "950\n",
      "626\n",
      "done\n"
     ]
    }
   ],
   "source": [
    "y = -1\n",
    "for x in even_numbers:\n",
    "    if x == 418:\n",
    "        break\n",
    "    y += 1\n",
    "    if x % 2 == 1:\n",
    "        even_numbers.pop(y)\n",
    "    else:\n",
    "        print(x)\n",
    "print (\"done\")\n",
    "    "
   ]
  },
  {
   "cell_type": "code",
   "execution_count": 4,
   "id": "754406e5",
   "metadata": {},
   "outputs": [
    {
     "data": {
      "text/plain": [
       "[402,\n",
       " 984,\n",
       " 360,\n",
       " 408,\n",
       " 601,\n",
       " 980,\n",
       " 725,\n",
       " 544,\n",
       " 83,\n",
       " 141,\n",
       " 263,\n",
       " 865,\n",
       " 219,\n",
       " 390,\n",
       " 984,\n",
       " 592,\n",
       " 236,\n",
       " 942,\n",
       " 386,\n",
       " 462,\n",
       " 418,\n",
       " 344,\n",
       " 236,\n",
       " 823,\n",
       " 566,\n",
       " 978,\n",
       " 328,\n",
       " 953,\n",
       " 399,\n",
       " 162,\n",
       " 758,\n",
       " 918,\n",
       " 412,\n",
       " 566,\n",
       " 826,\n",
       " 248,\n",
       " 866,\n",
       " 950,\n",
       " 626]"
      ]
     },
     "execution_count": 4,
     "metadata": {},
     "output_type": "execute_result"
    }
   ],
   "source": [
    "even_numbers"
   ]
  }
 ],
 "metadata": {
  "kernelspec": {
   "display_name": "Python 3 (ipykernel)",
   "language": "python",
   "name": "python3"
  },
  "language_info": {
   "codemirror_mode": {
    "name": "ipython",
    "version": 3
   },
   "file_extension": ".py",
   "mimetype": "text/x-python",
   "name": "python",
   "nbconvert_exporter": "python",
   "pygments_lexer": "ipython3",
   "version": "3.9.7"
  }
 },
 "nbformat": 4,
 "nbformat_minor": 5
}
