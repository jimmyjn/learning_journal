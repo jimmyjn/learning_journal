{
 "cells": [
  {
   "cell_type": "code",
   "execution_count": 75,
   "id": "a9ad413c",
   "metadata": {},
   "outputs": [],
   "source": [
    "numbers =[951, 402, 984, 651, 360, 69, 408, 319, 601, 485, 980, 507, 725, 547, 544, 615, 83, 165, 141, 501, 263, 617, 865, 575, 219, 390, 984, 592, 236, 105, 942, 941, 386, 462, 47, 418, 907, 344, 236, 375, 823, 566, 597, 978, 328, 615, 953, 345, 399, 162, 758, 219, 918, 237, 412, 566, 826, 248, 866, 950, 626, 949]"
   ]
  },
  {
   "cell_type": "markdown",
   "id": "586e500c",
   "metadata": {},
   "source": [
    "# A. Dengan for loop dan if"
   ]
  },
  {
   "cell_type": "code",
   "execution_count": 76,
   "id": "fb822385",
   "metadata": {},
   "outputs": [
    {
     "name": "stdout",
     "output_type": "stream",
     "text": [
      "402\n",
      "984\n",
      "360\n",
      "408\n",
      "980\n",
      "544\n",
      "390\n",
      "984\n",
      "592\n",
      "236\n",
      "942\n",
      "386\n",
      "462\n",
      "418\n",
      "344\n",
      "236\n",
      "566\n",
      "978\n",
      "328\n",
      "162\n",
      "758\n",
      "918\n",
      "done\n"
     ]
    }
   ],
   "source": [
    "for x in numbers:\n",
    "    if x %2 == 0:\n",
    "        print(x)\n",
    "    if x == 918:\n",
    "        break\n",
    "print ('done')"
   ]
  },
  {
   "cell_type": "markdown",
   "id": "a774107a",
   "metadata": {},
   "source": [
    "# B. dengan range, for loop, dan list append"
   ]
  },
  {
   "cell_type": "code",
   "execution_count": 77,
   "id": "dd319416",
   "metadata": {},
   "outputs": [
    {
     "name": "stdout",
     "output_type": "stream",
     "text": [
      "402\n",
      "984\n",
      "360\n",
      "408\n",
      "980\n",
      "544\n",
      "390\n",
      "984\n",
      "592\n",
      "236\n",
      "942\n",
      "386\n",
      "462\n",
      "418\n",
      "344\n",
      "236\n",
      "566\n",
      "978\n",
      "328\n",
      "162\n",
      "758\n",
      "done\n"
     ]
    }
   ],
   "source": [
    "bantuan_even=numbers.copy()\n",
    "even_numbers=[] #berisi semua angka genap dalam list number\n",
    "even_upto918=[] #berisi angka genap sampai ketemu angka 918\n",
    "y = range(0,len(numbers))\n",
    "\n",
    "for b in y:\n",
    "    if bantuan_even[b] % 2 == 0:\n",
    "        even_numbers.append(bantuan_even[b])\n",
    "\n",
    "for z in even_numbers:\n",
    "    if z == 918:\n",
    "        break\n",
    "    else:\n",
    "        even_upto918.append(z)\n",
    "    \n",
    "\n",
    "for a in even_upto918:\n",
    "    print (a)\n",
    "print (\"done\")"
   ]
  },
  {
   "cell_type": "markdown",
   "id": "6f205cd9",
   "metadata": {},
   "source": [
    "# C. Dengan While Loop dan Or |"
   ]
  },
  {
   "cell_type": "code",
   "execution_count": 78,
   "metadata": {},
   "outputs": [
    {
     "name": "stdout",
     "output_type": "stream",
     "text": [
      "402\n",
      "984\n",
      "360\n",
      "408\n",
      "980\n",
      "544\n",
      "390\n",
      "984\n",
      "592\n",
      "236\n",
      "942\n",
      "386\n",
      "462\n",
      "418\n",
      "344\n",
      "236\n",
      "566\n",
      "978\n",
      "328\n",
      "162\n",
      "758\n",
      "done\n"
     ]
    }
   ],
   "source": [
    "c = 0\n",
    "\n",
    "while (numbers[c] != 918) | (c == len(numbers)):\n",
    "    if numbers[c] % 2 == 0:\n",
    "        print(numbers[c])\n",
    "    c += 1\n",
    "print('done')\n"
   ]
  }
 ],
 "metadata": {
  "kernelspec": {
   "display_name": "Python 3 (ipykernel)",
   "language": "python",
   "name": "python3"
  },
  "language_info": {
   "codemirror_mode": {
    "name": "ipython",
    "version": 3
   },
   "file_extension": ".py",
   "mimetype": "text/x-python",
   "name": "python",
   "nbconvert_exporter": "python",
   "pygments_lexer": "ipython3",
   "version": "3.9.7"
  }
 },
 "nbformat": 4,
 "nbformat_minor": 5
}
