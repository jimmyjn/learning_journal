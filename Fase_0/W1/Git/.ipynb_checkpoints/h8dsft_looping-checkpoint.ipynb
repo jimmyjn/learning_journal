{
 "cells": [
  {
   "cell_type": "code",
   "execution_count": 24,
   "id": "a9ad413c",
   "metadata": {},
   "outputs": [],
   "source": [
    "numbers =[951, 402, 984, 651, 360, 69, 408, 319, 601, 485, 980, 507, 725, 547, 544, 615, 83, 165, 141, 501, 263, 617, 865, 575, 219, 390, 984, 592, 236, 105, 942, 941, 386, 462, 47, 418, 907, 344, 236, 375, 823, 566, 597, 978, 328, 615, 953, 345, 399, 162, 758, 219, 918, 237, 412, 566, 826, 248, 866, 950, 626, 949]"
   ]
  },
  {
   "cell_type": "code",
   "execution_count": 35,
   "id": "811e4ffc",
   "metadata": {},
   "outputs": [
    {
     "name": "stdout",
     "output_type": "stream",
     "text": [
      "985\n",
      "391\n",
      "985\n",
      "593\n",
      "237\n",
      "463\n",
      "237\n",
      "567\n",
      "329\n",
      "163\n",
      "759\n",
      "567\n",
      "827\n",
      "249\n",
      "867\n",
      "951\n",
      "627\n",
      "done\n"
     ]
    }
   ],
   "source": [
    "bantuan_even=numbers.copy()\n",
    "even_numbers=[] #berisi semua angka genap dalam list number\n",
    "even_upto418=[] #berisi angka genap sampai ketemu angka 418\n",
    "y = -1\n",
    "z = -1\n",
    "for x in bantuan_even:\n",
    "    y += 1\n",
    "    if x % 2 == 1:\n",
    "        bantuan_even.pop(y)\n",
    "    else:\n",
    "        even_numbers.append(bantuan_even[y])\n",
    "for z in even_numbers:\n",
    "    z += 1\n",
    "    if z == 418:\n",
    "        break\n",
    "    else:\n",
    "        even_upto418.append(z)\n",
    "for a in even_upto418:\n",
    "    print (a)\n",
    "print (\"done\")\n",
    "    "
   ]
  },
  {
   "cell_type": "code",
   "execution_count": null,
   "id": "01466213",
   "metadata": {},
   "outputs": [],
   "source": []
  }
 ],
 "metadata": {
  "kernelspec": {
   "display_name": "Python 3 (ipykernel)",
   "language": "python",
   "name": "python3"
  },
  "language_info": {
   "codemirror_mode": {
    "name": "ipython",
    "version": 3
   },
   "file_extension": ".py",
   "mimetype": "text/x-python",
   "name": "python",
   "nbconvert_exporter": "python",
   "pygments_lexer": "ipython3",
   "version": "3.9.7"
  }
 },
 "nbformat": 4,
 "nbformat_minor": 5
}
