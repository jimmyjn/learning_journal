{
 "cells": [
  {
   "cell_type": "markdown",
   "metadata": {},
   "source": [
    "# Non-Graded Challange 2 Jimmyjn"
   ]
  },
  {
   "cell_type": "markdown",
   "metadata": {},
   "source": [
    "## Converter Celcius - Kelvin"
   ]
  },
  {
   "cell_type": "code",
   "execution_count": 54,
   "metadata": {},
   "outputs": [],
   "source": [
    "#pilihan input:\n",
    "    #jenis_konversi = \"celcius_to_kelvin\"\n",
    "    #jenis_konversi = \"kelvin_to_celcius\"\n",
    "\n",
    "#masukan suhu langsung dalam angka (contoh: 37)\n",
    "\n",
    "def celcius_kelvin (suhu, jenis_konversi):\n",
    "    '''Fungsi ini untuk mengkonversi celcius ke kelvin /\n",
    "    #pilihan input: /\n",
    "    #jenis_konversi = \"celcius_to_kelvin\" /\n",
    "    #jenis_konversi = \"kelvin_to_celcius\" '''\n",
    "    \n",
    "    if jenis_konversi == \"celcius_to_kelvin\":\n",
    "        hasil = suhu +  273.15\n",
    "        return hasil\n",
    "    elif jenis_konversi == \"kelvin_to_celcius\":\n",
    "        hasil = suhu - 273.15\n",
    "        return hasil\n",
    "    else:\n",
    "        print(\"jenis_konversi_tidak_valid\")\n",
    "        return\n",
    "    "
   ]
  },
  {
   "cell_type": "code",
   "execution_count": 55,
   "metadata": {},
   "outputs": [
    {
     "data": {
      "text/plain": [
       "373.15"
      ]
     },
     "execution_count": 55,
     "metadata": {},
     "output_type": "execute_result"
    }
   ],
   "source": [
    "celcius_kelvin(100,\"celcius_to_kelvin\")"
   ]
  },
  {
   "cell_type": "code",
   "execution_count": 56,
   "metadata": {},
   "outputs": [
    {
     "data": {
      "text/plain": [
       "-73.14999999999998"
      ]
     },
     "execution_count": 56,
     "metadata": {},
     "output_type": "execute_result"
    }
   ],
   "source": [
    "celcius_kelvin(200,\"kelvin_to_celcius\")"
   ]
  },
  {
   "cell_type": "code",
   "execution_count": 57,
   "metadata": {},
   "outputs": [
    {
     "name": "stdout",
     "output_type": "stream",
     "text": [
      "jenis_konversi_tidak_valid\n"
     ]
    }
   ],
   "source": [
    "celcius_kelvin(100,\"celcius_to_celcius\")"
   ]
  },
  {
   "cell_type": "markdown",
   "metadata": {},
   "source": [
    "## Converter From Celcius / Kelvin To Fahrenheit"
   ]
  },
  {
   "cell_type": "code",
   "execution_count": 58,
   "metadata": {},
   "outputs": [],
   "source": [
    "def to_fahrenheit_conversion (suhu2, jenis_satuan_awal):\n",
    "    '''fungsi ini untuk mengkonversi suhu ke fahrenheit / \n",
    "    pilihan input: /\n",
    "    jenis_satuan_awal = \"celcius\" / \n",
    "    jenis_satuan_awal = \"kelvin\" '''\n",
    "    \n",
    "    if jenis_satuan_awal == \"celcius\":\n",
    "        hasil2 = (suhu2 * 9 / 5) +32\n",
    "        return hasil2\n",
    "    elif jenis_satuan_awal == \"kelvin\":\n",
    "        hasil2 = (celcius_kelvin(suhu = suhu2, jenis_konversi= \"kelvin_to_celcius\") *9 /5) + 32\n",
    "        return hasil2\n",
    "    else:\n",
    "        print (\"satuan_awal_tidak_valid\")\n",
    "        return"
   ]
  },
  {
   "cell_type": "code",
   "execution_count": 59,
   "metadata": {},
   "outputs": [
    {
     "data": {
      "text/plain": [
       "212.0"
      ]
     },
     "execution_count": 59,
     "metadata": {},
     "output_type": "execute_result"
    }
   ],
   "source": [
    "to_fahrenheit_conversion(100,\"celcius\")"
   ]
  },
  {
   "cell_type": "code",
   "execution_count": 60,
   "metadata": {},
   "outputs": [
    {
     "data": {
      "text/plain": [
       "212.0"
      ]
     },
     "execution_count": 60,
     "metadata": {},
     "output_type": "execute_result"
    }
   ],
   "source": [
    "to_fahrenheit_conversion(373.15,\"kelvin\")"
   ]
  },
  {
   "cell_type": "code",
   "execution_count": 61,
   "metadata": {},
   "outputs": [
    {
     "name": "stdout",
     "output_type": "stream",
     "text": [
      "satuan_awal_tidak_valid\n"
     ]
    }
   ],
   "source": [
    "to_fahrenheit_conversion(150,\"meter\")"
   ]
  },
  {
   "cell_type": "markdown",
   "metadata": {},
   "source": [
    "## Converter From Fahrenheit To Celcius / Kelvin"
   ]
  },
  {
   "cell_type": "code",
   "execution_count": 62,
   "metadata": {},
   "outputs": [],
   "source": [
    "def from_fahrenheit_conversion (suhu3, jenis_suhu_akhir):\n",
    "    '''fungsi ini untuk mengkonversi fahrenheit ke celcius atau kelvin /\n",
    "    pilihan input: /\n",
    "    jenis_suhu_akhir = \"celcius\" / \n",
    "    jenis_suhu_akhir = \"kelvin\" '''\n",
    "    if jenis_suhu_akhir == \"celcius\":\n",
    "        hasil3 = (suhu3 -32) * 5 / 9\n",
    "        return hasil3\n",
    "    elif jenis_suhu_akhir == \"kelvin\":\n",
    "        hasil3 = celcius_kelvin(suhu = (suhu3 -32) * 5 / 9, jenis_konversi = \"kelvin_to_celcius\")\n",
    "        return hasil3\n",
    "    else:\n",
    "        print(\"satuan_akhir_tidak_valid\")\n",
    "        return"
   ]
  },
  {
   "cell_type": "code",
   "execution_count": 63,
   "metadata": {},
   "outputs": [
    {
     "data": {
      "text/plain": [
       "37.77777777777778"
      ]
     },
     "execution_count": 63,
     "metadata": {},
     "output_type": "execute_result"
    }
   ],
   "source": [
    "from_fahrenheit_conversion(100,\"celcius\")"
   ]
  },
  {
   "cell_type": "code",
   "execution_count": 64,
   "metadata": {},
   "outputs": [
    {
     "data": {
      "text/plain": [
       "-207.59444444444443"
      ]
     },
     "execution_count": 64,
     "metadata": {},
     "output_type": "execute_result"
    }
   ],
   "source": [
    "from_fahrenheit_conversion(150,\"kelvin\")"
   ]
  },
  {
   "cell_type": "code",
   "execution_count": 65,
   "metadata": {},
   "outputs": [
    {
     "name": "stdout",
     "output_type": "stream",
     "text": [
      "satuan_akhir_tidak_valid\n"
     ]
    }
   ],
   "source": [
    "from_fahrenheit_conversion(200,\"meter\")"
   ]
  }
 ],
 "metadata": {
  "interpreter": {
   "hash": "4ac40e191b903d9fa996975288cc2cbf07f670f07350deeee99f5b5f08b67b08"
  },
  "kernelspec": {
   "display_name": "Python 3.10.2 64-bit (windows store)",
   "language": "python",
   "name": "python3"
  },
  "language_info": {
   "codemirror_mode": {
    "name": "ipython",
    "version": 3
   },
   "file_extension": ".py",
   "mimetype": "text/x-python",
   "name": "python",
   "nbconvert_exporter": "python",
   "pygments_lexer": "ipython3",
   "version": "3.10.2"
  },
  "orig_nbformat": 4
 },
 "nbformat": 4,
 "nbformat_minor": 2
}
