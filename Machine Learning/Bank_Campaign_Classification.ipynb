{
 "cells": [
  {
   "cell_type": "markdown",
   "metadata": {},
   "source": [
    "# 1. Perkenalan"
   ]
  },
  {
   "cell_type": "markdown",
   "metadata": {},
   "source": [
    "Jimmy Jaya Nugraha "
   ]
  },
  {
   "cell_type": "markdown",
   "metadata": {},
   "source": [
    "# 2. Import Libraries"
   ]
  },
  {
   "cell_type": "code",
   "execution_count": 175,
   "metadata": {},
   "outputs": [],
   "source": [
    "import pandas as pd\n",
    "import numpy as np\n",
    "import matplotlib.pyplot as plt\n",
    "import seaborn as sns\n",
    "from sklearn.svm import SVC\n",
    "from sklearn.model_selection import train_test_split\n",
    "from sklearn.metrics import classification_report, confusion_matrix, roc_auc_score\n",
    "from sklearn.preprocessing import StandardScaler\n",
    "from sklearn.model_selection import GridSearchCV\n",
    "from sklearn.model_selection import cross_val_score\n",
    "from sklearn.model_selection import cross_val_predict\n",
    "from sklearn.model_selection import RandomizedSearchCV\n",
    "from sklearn.neighbors import KNeighborsClassifier\n",
    "from sklearn.naive_bayes import MultinomialNB\n",
    "from sklearn.ensemble import RandomForestClassifier\n",
    "from sklearn.tree import DecisionTreeClassifier\n",
    "from sklearn.preprocessing import OneHotEncoder\n",
    "from sklearn.linear_model import SGDClassifier\n",
    "from sklearn.linear_model import LogisticRegression\n",
    "from sklearn.preprocessing import MinMaxScaler\n",
    "from sklearn.metrics import accuracy_score\n",
    "from sklearn.metrics import f1_score\n",
    "\n"
   ]
  },
  {
   "cell_type": "markdown",
   "metadata": {},
   "source": [
    "# 3. Data Loading"
   ]
  },
  {
   "cell_type": "code",
   "execution_count": 2,
   "metadata": {},
   "outputs": [],
   "source": [
    "# Load data\n",
    "df_ori = pd.read_csv('bank-additional-full.csv', sep=';')"
   ]
  },
  {
   "cell_type": "code",
   "execution_count": 3,
   "metadata": {},
   "outputs": [],
   "source": [
    "# duplicate data\n",
    "df = df_ori.copy()"
   ]
  },
  {
   "cell_type": "code",
   "execution_count": 4,
   "metadata": {},
   "outputs": [
    {
     "data": {
      "text/html": [
       "<div>\n",
       "<style scoped>\n",
       "    .dataframe tbody tr th:only-of-type {\n",
       "        vertical-align: middle;\n",
       "    }\n",
       "\n",
       "    .dataframe tbody tr th {\n",
       "        vertical-align: top;\n",
       "    }\n",
       "\n",
       "    .dataframe thead th {\n",
       "        text-align: right;\n",
       "    }\n",
       "</style>\n",
       "<table border=\"1\" class=\"dataframe\">\n",
       "  <thead>\n",
       "    <tr style=\"text-align: right;\">\n",
       "      <th></th>\n",
       "      <th>age</th>\n",
       "      <th>job</th>\n",
       "      <th>marital</th>\n",
       "      <th>education</th>\n",
       "      <th>default</th>\n",
       "      <th>housing</th>\n",
       "      <th>loan</th>\n",
       "      <th>contact</th>\n",
       "      <th>month</th>\n",
       "      <th>day_of_week</th>\n",
       "      <th>...</th>\n",
       "      <th>campaign</th>\n",
       "      <th>pdays</th>\n",
       "      <th>previous</th>\n",
       "      <th>poutcome</th>\n",
       "      <th>emp.var.rate</th>\n",
       "      <th>cons.price.idx</th>\n",
       "      <th>cons.conf.idx</th>\n",
       "      <th>euribor3m</th>\n",
       "      <th>nr.employed</th>\n",
       "      <th>y</th>\n",
       "    </tr>\n",
       "  </thead>\n",
       "  <tbody>\n",
       "    <tr>\n",
       "      <th>0</th>\n",
       "      <td>56</td>\n",
       "      <td>housemaid</td>\n",
       "      <td>married</td>\n",
       "      <td>basic.4y</td>\n",
       "      <td>no</td>\n",
       "      <td>no</td>\n",
       "      <td>no</td>\n",
       "      <td>telephone</td>\n",
       "      <td>may</td>\n",
       "      <td>mon</td>\n",
       "      <td>...</td>\n",
       "      <td>1</td>\n",
       "      <td>999</td>\n",
       "      <td>0</td>\n",
       "      <td>nonexistent</td>\n",
       "      <td>1.1</td>\n",
       "      <td>93.994</td>\n",
       "      <td>-36.4</td>\n",
       "      <td>4.857</td>\n",
       "      <td>5191.0</td>\n",
       "      <td>no</td>\n",
       "    </tr>\n",
       "    <tr>\n",
       "      <th>1</th>\n",
       "      <td>57</td>\n",
       "      <td>services</td>\n",
       "      <td>married</td>\n",
       "      <td>high.school</td>\n",
       "      <td>unknown</td>\n",
       "      <td>no</td>\n",
       "      <td>no</td>\n",
       "      <td>telephone</td>\n",
       "      <td>may</td>\n",
       "      <td>mon</td>\n",
       "      <td>...</td>\n",
       "      <td>1</td>\n",
       "      <td>999</td>\n",
       "      <td>0</td>\n",
       "      <td>nonexistent</td>\n",
       "      <td>1.1</td>\n",
       "      <td>93.994</td>\n",
       "      <td>-36.4</td>\n",
       "      <td>4.857</td>\n",
       "      <td>5191.0</td>\n",
       "      <td>no</td>\n",
       "    </tr>\n",
       "    <tr>\n",
       "      <th>2</th>\n",
       "      <td>37</td>\n",
       "      <td>services</td>\n",
       "      <td>married</td>\n",
       "      <td>high.school</td>\n",
       "      <td>no</td>\n",
       "      <td>yes</td>\n",
       "      <td>no</td>\n",
       "      <td>telephone</td>\n",
       "      <td>may</td>\n",
       "      <td>mon</td>\n",
       "      <td>...</td>\n",
       "      <td>1</td>\n",
       "      <td>999</td>\n",
       "      <td>0</td>\n",
       "      <td>nonexistent</td>\n",
       "      <td>1.1</td>\n",
       "      <td>93.994</td>\n",
       "      <td>-36.4</td>\n",
       "      <td>4.857</td>\n",
       "      <td>5191.0</td>\n",
       "      <td>no</td>\n",
       "    </tr>\n",
       "    <tr>\n",
       "      <th>3</th>\n",
       "      <td>40</td>\n",
       "      <td>admin.</td>\n",
       "      <td>married</td>\n",
       "      <td>basic.6y</td>\n",
       "      <td>no</td>\n",
       "      <td>no</td>\n",
       "      <td>no</td>\n",
       "      <td>telephone</td>\n",
       "      <td>may</td>\n",
       "      <td>mon</td>\n",
       "      <td>...</td>\n",
       "      <td>1</td>\n",
       "      <td>999</td>\n",
       "      <td>0</td>\n",
       "      <td>nonexistent</td>\n",
       "      <td>1.1</td>\n",
       "      <td>93.994</td>\n",
       "      <td>-36.4</td>\n",
       "      <td>4.857</td>\n",
       "      <td>5191.0</td>\n",
       "      <td>no</td>\n",
       "    </tr>\n",
       "    <tr>\n",
       "      <th>4</th>\n",
       "      <td>56</td>\n",
       "      <td>services</td>\n",
       "      <td>married</td>\n",
       "      <td>high.school</td>\n",
       "      <td>no</td>\n",
       "      <td>no</td>\n",
       "      <td>yes</td>\n",
       "      <td>telephone</td>\n",
       "      <td>may</td>\n",
       "      <td>mon</td>\n",
       "      <td>...</td>\n",
       "      <td>1</td>\n",
       "      <td>999</td>\n",
       "      <td>0</td>\n",
       "      <td>nonexistent</td>\n",
       "      <td>1.1</td>\n",
       "      <td>93.994</td>\n",
       "      <td>-36.4</td>\n",
       "      <td>4.857</td>\n",
       "      <td>5191.0</td>\n",
       "      <td>no</td>\n",
       "    </tr>\n",
       "  </tbody>\n",
       "</table>\n",
       "<p>5 rows × 21 columns</p>\n",
       "</div>"
      ],
      "text/plain": [
       "   age        job  marital    education  default housing loan    contact  \\\n",
       "0   56  housemaid  married     basic.4y       no      no   no  telephone   \n",
       "1   57   services  married  high.school  unknown      no   no  telephone   \n",
       "2   37   services  married  high.school       no     yes   no  telephone   \n",
       "3   40     admin.  married     basic.6y       no      no   no  telephone   \n",
       "4   56   services  married  high.school       no      no  yes  telephone   \n",
       "\n",
       "  month day_of_week  ...  campaign  pdays  previous     poutcome emp.var.rate  \\\n",
       "0   may         mon  ...         1    999         0  nonexistent          1.1   \n",
       "1   may         mon  ...         1    999         0  nonexistent          1.1   \n",
       "2   may         mon  ...         1    999         0  nonexistent          1.1   \n",
       "3   may         mon  ...         1    999         0  nonexistent          1.1   \n",
       "4   may         mon  ...         1    999         0  nonexistent          1.1   \n",
       "\n",
       "   cons.price.idx  cons.conf.idx  euribor3m  nr.employed   y  \n",
       "0          93.994          -36.4      4.857       5191.0  no  \n",
       "1          93.994          -36.4      4.857       5191.0  no  \n",
       "2          93.994          -36.4      4.857       5191.0  no  \n",
       "3          93.994          -36.4      4.857       5191.0  no  \n",
       "4          93.994          -36.4      4.857       5191.0  no  \n",
       "\n",
       "[5 rows x 21 columns]"
      ]
     },
     "execution_count": 4,
     "metadata": {},
     "output_type": "execute_result"
    }
   ],
   "source": [
    "# Melihat data Head\n",
    "df.head()"
   ]
  },
  {
   "cell_type": "code",
   "execution_count": 5,
   "metadata": {},
   "outputs": [
    {
     "name": "stdout",
     "output_type": "stream",
     "text": [
      "<class 'pandas.core.frame.DataFrame'>\n",
      "RangeIndex: 41188 entries, 0 to 41187\n",
      "Data columns (total 21 columns):\n",
      " #   Column          Non-Null Count  Dtype  \n",
      "---  ------          --------------  -----  \n",
      " 0   age             41188 non-null  int64  \n",
      " 1   job             41188 non-null  object \n",
      " 2   marital         41188 non-null  object \n",
      " 3   education       41188 non-null  object \n",
      " 4   default         41188 non-null  object \n",
      " 5   housing         41188 non-null  object \n",
      " 6   loan            41188 non-null  object \n",
      " 7   contact         41188 non-null  object \n",
      " 8   month           41188 non-null  object \n",
      " 9   day_of_week     41188 non-null  object \n",
      " 10  duration        41188 non-null  int64  \n",
      " 11  campaign        41188 non-null  int64  \n",
      " 12  pdays           41188 non-null  int64  \n",
      " 13  previous        41188 non-null  int64  \n",
      " 14  poutcome        41188 non-null  object \n",
      " 15  emp.var.rate    41188 non-null  float64\n",
      " 16  cons.price.idx  41188 non-null  float64\n",
      " 17  cons.conf.idx   41188 non-null  float64\n",
      " 18  euribor3m       41188 non-null  float64\n",
      " 19  nr.employed     41188 non-null  float64\n",
      " 20  y               41188 non-null  object \n",
      "dtypes: float64(5), int64(5), object(11)\n",
      "memory usage: 6.6+ MB\n"
     ]
    }
   ],
   "source": [
    "# melihat info data\n",
    "df.info()"
   ]
  },
  {
   "cell_type": "markdown",
   "metadata": {},
   "source": [
    "> dalam data tersebut tidak terdapat null value atau expected missing value."
   ]
  },
  {
   "cell_type": "markdown",
   "metadata": {},
   "source": [
    "# 4. Exploratory Data Analysis (EDA)"
   ]
  },
  {
   "cell_type": "code",
   "execution_count": 6,
   "metadata": {},
   "outputs": [
    {
     "data": {
      "text/html": [
       "<div>\n",
       "<style scoped>\n",
       "    .dataframe tbody tr th:only-of-type {\n",
       "        vertical-align: middle;\n",
       "    }\n",
       "\n",
       "    .dataframe tbody tr th {\n",
       "        vertical-align: top;\n",
       "    }\n",
       "\n",
       "    .dataframe thead th {\n",
       "        text-align: right;\n",
       "    }\n",
       "</style>\n",
       "<table border=\"1\" class=\"dataframe\">\n",
       "  <thead>\n",
       "    <tr style=\"text-align: right;\">\n",
       "      <th></th>\n",
       "      <th>age</th>\n",
       "      <th>job</th>\n",
       "      <th>marital</th>\n",
       "      <th>education</th>\n",
       "      <th>default</th>\n",
       "      <th>housing</th>\n",
       "      <th>loan</th>\n",
       "      <th>contact</th>\n",
       "      <th>month</th>\n",
       "      <th>day_of_week</th>\n",
       "      <th>...</th>\n",
       "      <th>campaign</th>\n",
       "      <th>pdays</th>\n",
       "      <th>previous</th>\n",
       "      <th>poutcome</th>\n",
       "      <th>emp.var.rate</th>\n",
       "      <th>cons.price.idx</th>\n",
       "      <th>cons.conf.idx</th>\n",
       "      <th>euribor3m</th>\n",
       "      <th>nr.employed</th>\n",
       "      <th>y</th>\n",
       "    </tr>\n",
       "  </thead>\n",
       "  <tbody>\n",
       "    <tr>\n",
       "      <th>0</th>\n",
       "      <td>56</td>\n",
       "      <td>housemaid</td>\n",
       "      <td>married</td>\n",
       "      <td>basic.4y</td>\n",
       "      <td>no</td>\n",
       "      <td>no</td>\n",
       "      <td>no</td>\n",
       "      <td>telephone</td>\n",
       "      <td>may</td>\n",
       "      <td>mon</td>\n",
       "      <td>...</td>\n",
       "      <td>1</td>\n",
       "      <td>999</td>\n",
       "      <td>0</td>\n",
       "      <td>nonexistent</td>\n",
       "      <td>1.1</td>\n",
       "      <td>93.994</td>\n",
       "      <td>-36.4</td>\n",
       "      <td>4.857</td>\n",
       "      <td>5191.0</td>\n",
       "      <td>no</td>\n",
       "    </tr>\n",
       "    <tr>\n",
       "      <th>1</th>\n",
       "      <td>57</td>\n",
       "      <td>services</td>\n",
       "      <td>married</td>\n",
       "      <td>high.school</td>\n",
       "      <td>unknown</td>\n",
       "      <td>no</td>\n",
       "      <td>no</td>\n",
       "      <td>telephone</td>\n",
       "      <td>may</td>\n",
       "      <td>mon</td>\n",
       "      <td>...</td>\n",
       "      <td>1</td>\n",
       "      <td>999</td>\n",
       "      <td>0</td>\n",
       "      <td>nonexistent</td>\n",
       "      <td>1.1</td>\n",
       "      <td>93.994</td>\n",
       "      <td>-36.4</td>\n",
       "      <td>4.857</td>\n",
       "      <td>5191.0</td>\n",
       "      <td>no</td>\n",
       "    </tr>\n",
       "    <tr>\n",
       "      <th>2</th>\n",
       "      <td>37</td>\n",
       "      <td>services</td>\n",
       "      <td>married</td>\n",
       "      <td>high.school</td>\n",
       "      <td>no</td>\n",
       "      <td>yes</td>\n",
       "      <td>no</td>\n",
       "      <td>telephone</td>\n",
       "      <td>may</td>\n",
       "      <td>mon</td>\n",
       "      <td>...</td>\n",
       "      <td>1</td>\n",
       "      <td>999</td>\n",
       "      <td>0</td>\n",
       "      <td>nonexistent</td>\n",
       "      <td>1.1</td>\n",
       "      <td>93.994</td>\n",
       "      <td>-36.4</td>\n",
       "      <td>4.857</td>\n",
       "      <td>5191.0</td>\n",
       "      <td>no</td>\n",
       "    </tr>\n",
       "    <tr>\n",
       "      <th>3</th>\n",
       "      <td>40</td>\n",
       "      <td>admin.</td>\n",
       "      <td>married</td>\n",
       "      <td>basic.6y</td>\n",
       "      <td>no</td>\n",
       "      <td>no</td>\n",
       "      <td>no</td>\n",
       "      <td>telephone</td>\n",
       "      <td>may</td>\n",
       "      <td>mon</td>\n",
       "      <td>...</td>\n",
       "      <td>1</td>\n",
       "      <td>999</td>\n",
       "      <td>0</td>\n",
       "      <td>nonexistent</td>\n",
       "      <td>1.1</td>\n",
       "      <td>93.994</td>\n",
       "      <td>-36.4</td>\n",
       "      <td>4.857</td>\n",
       "      <td>5191.0</td>\n",
       "      <td>no</td>\n",
       "    </tr>\n",
       "    <tr>\n",
       "      <th>4</th>\n",
       "      <td>56</td>\n",
       "      <td>services</td>\n",
       "      <td>married</td>\n",
       "      <td>high.school</td>\n",
       "      <td>no</td>\n",
       "      <td>no</td>\n",
       "      <td>yes</td>\n",
       "      <td>telephone</td>\n",
       "      <td>may</td>\n",
       "      <td>mon</td>\n",
       "      <td>...</td>\n",
       "      <td>1</td>\n",
       "      <td>999</td>\n",
       "      <td>0</td>\n",
       "      <td>nonexistent</td>\n",
       "      <td>1.1</td>\n",
       "      <td>93.994</td>\n",
       "      <td>-36.4</td>\n",
       "      <td>4.857</td>\n",
       "      <td>5191.0</td>\n",
       "      <td>no</td>\n",
       "    </tr>\n",
       "  </tbody>\n",
       "</table>\n",
       "<p>5 rows × 21 columns</p>\n",
       "</div>"
      ],
      "text/plain": [
       "   age        job  marital    education  default housing loan    contact  \\\n",
       "0   56  housemaid  married     basic.4y       no      no   no  telephone   \n",
       "1   57   services  married  high.school  unknown      no   no  telephone   \n",
       "2   37   services  married  high.school       no     yes   no  telephone   \n",
       "3   40     admin.  married     basic.6y       no      no   no  telephone   \n",
       "4   56   services  married  high.school       no      no  yes  telephone   \n",
       "\n",
       "  month day_of_week  ...  campaign  pdays  previous     poutcome emp.var.rate  \\\n",
       "0   may         mon  ...         1    999         0  nonexistent          1.1   \n",
       "1   may         mon  ...         1    999         0  nonexistent          1.1   \n",
       "2   may         mon  ...         1    999         0  nonexistent          1.1   \n",
       "3   may         mon  ...         1    999         0  nonexistent          1.1   \n",
       "4   may         mon  ...         1    999         0  nonexistent          1.1   \n",
       "\n",
       "   cons.price.idx  cons.conf.idx  euribor3m  nr.employed   y  \n",
       "0          93.994          -36.4      4.857       5191.0  no  \n",
       "1          93.994          -36.4      4.857       5191.0  no  \n",
       "2          93.994          -36.4      4.857       5191.0  no  \n",
       "3          93.994          -36.4      4.857       5191.0  no  \n",
       "4          93.994          -36.4      4.857       5191.0  no  \n",
       "\n",
       "[5 rows x 21 columns]"
      ]
     },
     "execution_count": 6,
     "metadata": {},
     "output_type": "execute_result"
    }
   ],
   "source": [
    "# melihat data head\n",
    "df.head()"
   ]
  },
  {
   "cell_type": "code",
   "execution_count": 7,
   "metadata": {},
   "outputs": [
    {
     "data": {
      "text/plain": [
       "<AxesSubplot:xlabel='month', ylabel='count'>"
      ]
     },
     "execution_count": 7,
     "metadata": {},
     "output_type": "execute_result"
    },
    {
     "data": {
      "image/png": "[encoded data removed]",
      "text/plain": [
       "<Figure size 432x288 with 1 Axes>"
      ]
     },
     "metadata": {
      "needs_background": "light"
     },
     "output_type": "display_data"
    }
   ],
   "source": [
    "# melihat banyaknya data month \n",
    "sns.countplot(data = df, x = 'month', order=['mar', 'apr', 'may', 'jun', 'jul', 'aug', 'sep', 'oct', 'nov', 'dec'])"
   ]
  },
  {
   "cell_type": "markdown",
   "metadata": {},
   "source": [
    "> ternyata banyak nasabah yang dihubungi pada pertengahan tahun"
   ]
  },
  {
   "cell_type": "code",
   "execution_count": 8,
   "metadata": {},
   "outputs": [
    {
     "data": {
      "text/plain": [
       "<AxesSubplot:xlabel='pdays', ylabel='count'>"
      ]
     },
     "execution_count": 8,
     "metadata": {},
     "output_type": "execute_result"
    },
    {
     "data": {
      "image/png": "[encoded data removed]",
      "text/plain": [
       "<Figure size 432x288 with 1 Axes>"
      ]
     },
     "metadata": {
      "needs_background": "light"
     },
     "output_type": "display_data"
    }
   ],
   "source": [
    "# melihat banyaknya nasabah yang pernah dihubungi untuk campaign sebelumnya\n",
    "sns.countplot(data =df[df['pdays']!=999], x='pdays')"
   ]
  },
  {
   "cell_type": "code",
   "execution_count": 9,
   "metadata": {},
   "outputs": [
    {
     "data": {
      "text/plain": [
       "(39673, 21)"
      ]
     },
     "execution_count": 9,
     "metadata": {},
     "output_type": "execute_result"
    }
   ],
   "source": [
    "# Melihat banyaknya data yang pdaysnya 999 atau BELUM pernah ditelepon untuk campaign sebelumnya.\n",
    "df[df['pdays']==999].shape"
   ]
  },
  {
   "cell_type": "markdown",
   "metadata": {},
   "source": [
    "> Terlihat kalau banyak sekali nasabah yang belum dihubungi untuk campaign sebelumnya, menelaah dari artinya, nilai 999 disini akan membuat kekeliruan pembacaan data atau proses training, sehingga akan dibuat menjadi kolom kategorical."
   ]
  },
  {
   "cell_type": "code",
   "execution_count": 10,
   "metadata": {},
   "outputs": [
    {
     "data": {
      "text/plain": [
       "<AxesSubplot:xlabel='pdays', ylabel='Count'>"
      ]
     },
     "execution_count": 10,
     "metadata": {},
     "output_type": "execute_result"
    },
    {
     "data": {
      "image/png": "[encoded data removed]",
      "text/plain": [
       "<Figure size 432x288 with 1 Axes>"
      ]
     },
     "metadata": {
      "needs_background": "light"
     },
     "output_type": "display_data"
    }
   ],
   "source": [
    "sns.histplot(data =df[df['pdays']!=999], x='pdays', bins=10)"
   ]
  },
  {
   "cell_type": "code",
   "execution_count": 11,
   "metadata": {},
   "outputs": [
    {
     "data": {
      "text/plain": [
       "['0.0-2.7',\n",
       " '2.7-5.4',\n",
       " '5.4-8.1',\n",
       " '8.1-10.8',\n",
       " '10.8-13.5',\n",
       " '13.5-16.2',\n",
       " '16.2-18.9',\n",
       " '18.9-21.6',\n",
       " '21.6-24.3',\n",
       " '24.3-27.0']"
      ]
     },
     "execution_count": 11,
     "metadata": {},
     "output_type": "execute_result"
    }
   ],
   "source": [
    "# Membuat list bins dari histogram data dengan pdays!= 999\n",
    "bin = 10\n",
    "edges= np.histogram_bin_edges(df[df['pdays']!=999]['pdays'], bins =bin)\n",
    "edge = np.array(edges, dtype=np.float32).reshape(-1,1)\n",
    "kelompok=[]\n",
    "for h,i in enumerate(edge):\n",
    "    if h == len(edge)-1:\n",
    "        break\n",
    "    else:\n",
    "        kelompok.append(str(edge[h][0]) + '-' +str(edge[h+1][0]))\n",
    "kelompok"
   ]
  },
  {
   "cell_type": "code",
   "execution_count": 12,
   "metadata": {},
   "outputs": [],
   "source": [
    "# mengelompokan data berdasarkan pdays dan edges histogramnnya\n",
    "\n",
    "df['pdays_group'] = pd.cut(df['pdays'], bins=edges, labels=kelompok)\n",
    "# fillna kolom pdays_group dengan 'belum pernah dihubungi'\n",
    "\n",
    "df['pdays_groups'] = df['pdays_group'].cat.add_categories('belum pernah dihubungi').fillna('belum pernah dihubungi')\n",
    "\n",
    "# mendrop kolom bantuan pdays_group dari df\n",
    "df.drop('pdays_group', axis=1, inplace=True)\n",
    "\n",
    "# mendrop kolom pdays\n",
    "df.drop('pdays', axis=1, inplace=True)\n"
   ]
  },
  {
   "cell_type": "code",
   "execution_count": 13,
   "metadata": {},
   "outputs": [
    {
     "data": {
      "text/html": [
       "<div>\n",
       "<style scoped>\n",
       "    .dataframe tbody tr th:only-of-type {\n",
       "        vertical-align: middle;\n",
       "    }\n",
       "\n",
       "    .dataframe tbody tr th {\n",
       "        vertical-align: top;\n",
       "    }\n",
       "\n",
       "    .dataframe thead th {\n",
       "        text-align: right;\n",
       "    }\n",
       "</style>\n",
       "<table border=\"1\" class=\"dataframe\">\n",
       "  <thead>\n",
       "    <tr style=\"text-align: right;\">\n",
       "      <th></th>\n",
       "      <th>age</th>\n",
       "      <th>job</th>\n",
       "      <th>marital</th>\n",
       "      <th>education</th>\n",
       "      <th>default</th>\n",
       "      <th>housing</th>\n",
       "      <th>loan</th>\n",
       "      <th>contact</th>\n",
       "      <th>month</th>\n",
       "      <th>day_of_week</th>\n",
       "      <th>...</th>\n",
       "      <th>campaign</th>\n",
       "      <th>previous</th>\n",
       "      <th>poutcome</th>\n",
       "      <th>emp.var.rate</th>\n",
       "      <th>cons.price.idx</th>\n",
       "      <th>cons.conf.idx</th>\n",
       "      <th>euribor3m</th>\n",
       "      <th>nr.employed</th>\n",
       "      <th>y</th>\n",
       "      <th>pdays_groups</th>\n",
       "    </tr>\n",
       "  </thead>\n",
       "  <tbody>\n",
       "    <tr>\n",
       "      <th>3612</th>\n",
       "      <td>35</td>\n",
       "      <td>housemaid</td>\n",
       "      <td>married</td>\n",
       "      <td>basic.4y</td>\n",
       "      <td>no</td>\n",
       "      <td>no</td>\n",
       "      <td>no</td>\n",
       "      <td>telephone</td>\n",
       "      <td>may</td>\n",
       "      <td>fri</td>\n",
       "      <td>...</td>\n",
       "      <td>1</td>\n",
       "      <td>0</td>\n",
       "      <td>nonexistent</td>\n",
       "      <td>1.1</td>\n",
       "      <td>93.994</td>\n",
       "      <td>-36.4</td>\n",
       "      <td>4.859</td>\n",
       "      <td>5191.0</td>\n",
       "      <td>no</td>\n",
       "      <td>belum pernah dihubungi</td>\n",
       "    </tr>\n",
       "    <tr>\n",
       "      <th>37705</th>\n",
       "      <td>25</td>\n",
       "      <td>admin.</td>\n",
       "      <td>single</td>\n",
       "      <td>university.degree</td>\n",
       "      <td>no</td>\n",
       "      <td>yes</td>\n",
       "      <td>no</td>\n",
       "      <td>telephone</td>\n",
       "      <td>aug</td>\n",
       "      <td>thu</td>\n",
       "      <td>...</td>\n",
       "      <td>1</td>\n",
       "      <td>0</td>\n",
       "      <td>nonexistent</td>\n",
       "      <td>-2.9</td>\n",
       "      <td>92.201</td>\n",
       "      <td>-31.4</td>\n",
       "      <td>0.851</td>\n",
       "      <td>5076.2</td>\n",
       "      <td>no</td>\n",
       "      <td>belum pernah dihubungi</td>\n",
       "    </tr>\n",
       "    <tr>\n",
       "      <th>33316</th>\n",
       "      <td>32</td>\n",
       "      <td>blue-collar</td>\n",
       "      <td>divorced</td>\n",
       "      <td>basic.9y</td>\n",
       "      <td>no</td>\n",
       "      <td>yes</td>\n",
       "      <td>no</td>\n",
       "      <td>telephone</td>\n",
       "      <td>may</td>\n",
       "      <td>tue</td>\n",
       "      <td>...</td>\n",
       "      <td>4</td>\n",
       "      <td>0</td>\n",
       "      <td>nonexistent</td>\n",
       "      <td>-1.8</td>\n",
       "      <td>92.893</td>\n",
       "      <td>-46.2</td>\n",
       "      <td>1.291</td>\n",
       "      <td>5099.1</td>\n",
       "      <td>no</td>\n",
       "      <td>belum pernah dihubungi</td>\n",
       "    </tr>\n",
       "    <tr>\n",
       "      <th>14619</th>\n",
       "      <td>32</td>\n",
       "      <td>technician</td>\n",
       "      <td>single</td>\n",
       "      <td>professional.course</td>\n",
       "      <td>no</td>\n",
       "      <td>yes</td>\n",
       "      <td>no</td>\n",
       "      <td>cellular</td>\n",
       "      <td>jul</td>\n",
       "      <td>tue</td>\n",
       "      <td>...</td>\n",
       "      <td>1</td>\n",
       "      <td>0</td>\n",
       "      <td>nonexistent</td>\n",
       "      <td>1.4</td>\n",
       "      <td>93.918</td>\n",
       "      <td>-42.7</td>\n",
       "      <td>4.961</td>\n",
       "      <td>5228.1</td>\n",
       "      <td>no</td>\n",
       "      <td>belum pernah dihubungi</td>\n",
       "    </tr>\n",
       "    <tr>\n",
       "      <th>27261</th>\n",
       "      <td>45</td>\n",
       "      <td>self-employed</td>\n",
       "      <td>married</td>\n",
       "      <td>university.degree</td>\n",
       "      <td>no</td>\n",
       "      <td>no</td>\n",
       "      <td>no</td>\n",
       "      <td>cellular</td>\n",
       "      <td>nov</td>\n",
       "      <td>fri</td>\n",
       "      <td>...</td>\n",
       "      <td>5</td>\n",
       "      <td>0</td>\n",
       "      <td>nonexistent</td>\n",
       "      <td>-0.1</td>\n",
       "      <td>93.200</td>\n",
       "      <td>-42.0</td>\n",
       "      <td>4.021</td>\n",
       "      <td>5195.8</td>\n",
       "      <td>no</td>\n",
       "      <td>belum pernah dihubungi</td>\n",
       "    </tr>\n",
       "  </tbody>\n",
       "</table>\n",
       "<p>5 rows × 21 columns</p>\n",
       "</div>"
      ],
      "text/plain": [
       "       age            job   marital            education default housing loan  \\\n",
       "3612    35      housemaid   married             basic.4y      no      no   no   \n",
       "37705   25         admin.    single    university.degree      no     yes   no   \n",
       "33316   32    blue-collar  divorced             basic.9y      no     yes   no   \n",
       "14619   32     technician    single  professional.course      no     yes   no   \n",
       "27261   45  self-employed   married    university.degree      no      no   no   \n",
       "\n",
       "         contact month day_of_week  ...  campaign  previous     poutcome  \\\n",
       "3612   telephone   may         fri  ...         1         0  nonexistent   \n",
       "37705  telephone   aug         thu  ...         1         0  nonexistent   \n",
       "33316  telephone   may         tue  ...         4         0  nonexistent   \n",
       "14619   cellular   jul         tue  ...         1         0  nonexistent   \n",
       "27261   cellular   nov         fri  ...         5         0  nonexistent   \n",
       "\n",
       "      emp.var.rate  cons.price.idx  cons.conf.idx  euribor3m  nr.employed   y  \\\n",
       "3612           1.1          93.994          -36.4      4.859       5191.0  no   \n",
       "37705         -2.9          92.201          -31.4      0.851       5076.2  no   \n",
       "33316         -1.8          92.893          -46.2      1.291       5099.1  no   \n",
       "14619          1.4          93.918          -42.7      4.961       5228.1  no   \n",
       "27261         -0.1          93.200          -42.0      4.021       5195.8  no   \n",
       "\n",
       "                 pdays_groups  \n",
       "3612   belum pernah dihubungi  \n",
       "37705  belum pernah dihubungi  \n",
       "33316  belum pernah dihubungi  \n",
       "14619  belum pernah dihubungi  \n",
       "27261  belum pernah dihubungi  \n",
       "\n",
       "[5 rows x 21 columns]"
      ]
     },
     "execution_count": 13,
     "metadata": {},
     "output_type": "execute_result"
    }
   ],
   "source": [
    "# melihat sample dari data\n",
    "df.sample(5)"
   ]
  },
  {
   "cell_type": "code",
   "execution_count": 14,
   "metadata": {},
   "outputs": [
    {
     "data": {
      "text/plain": [
       "(4, 21)"
      ]
     },
     "execution_count": 14,
     "metadata": {},
     "output_type": "execute_result"
    }
   ],
   "source": [
    "# melihat nasabah yang belum pernah dihubungi (duration = 0)\n",
    "df[df['duration']==0].shape"
   ]
  },
  {
   "cell_type": "code",
   "execution_count": 15,
   "metadata": {},
   "outputs": [
    {
     "data": {
      "text/html": [
       "<div>\n",
       "<style scoped>\n",
       "    .dataframe tbody tr th:only-of-type {\n",
       "        vertical-align: middle;\n",
       "    }\n",
       "\n",
       "    .dataframe tbody tr th {\n",
       "        vertical-align: top;\n",
       "    }\n",
       "\n",
       "    .dataframe thead th {\n",
       "        text-align: right;\n",
       "    }\n",
       "</style>\n",
       "<table border=\"1\" class=\"dataframe\">\n",
       "  <thead>\n",
       "    <tr style=\"text-align: right;\">\n",
       "      <th></th>\n",
       "      <th>6251</th>\n",
       "      <th>23031</th>\n",
       "      <th>28063</th>\n",
       "      <th>33015</th>\n",
       "    </tr>\n",
       "  </thead>\n",
       "  <tbody>\n",
       "    <tr>\n",
       "      <th>age</th>\n",
       "      <td>39</td>\n",
       "      <td>59</td>\n",
       "      <td>53</td>\n",
       "      <td>31</td>\n",
       "    </tr>\n",
       "    <tr>\n",
       "      <th>job</th>\n",
       "      <td>admin.</td>\n",
       "      <td>management</td>\n",
       "      <td>blue-collar</td>\n",
       "      <td>blue-collar</td>\n",
       "    </tr>\n",
       "    <tr>\n",
       "      <th>marital</th>\n",
       "      <td>married</td>\n",
       "      <td>married</td>\n",
       "      <td>divorced</td>\n",
       "      <td>married</td>\n",
       "    </tr>\n",
       "    <tr>\n",
       "      <th>education</th>\n",
       "      <td>high.school</td>\n",
       "      <td>university.degree</td>\n",
       "      <td>high.school</td>\n",
       "      <td>basic.9y</td>\n",
       "    </tr>\n",
       "    <tr>\n",
       "      <th>default</th>\n",
       "      <td>no</td>\n",
       "      <td>no</td>\n",
       "      <td>no</td>\n",
       "      <td>no</td>\n",
       "    </tr>\n",
       "    <tr>\n",
       "      <th>housing</th>\n",
       "      <td>yes</td>\n",
       "      <td>yes</td>\n",
       "      <td>yes</td>\n",
       "      <td>no</td>\n",
       "    </tr>\n",
       "    <tr>\n",
       "      <th>loan</th>\n",
       "      <td>no</td>\n",
       "      <td>no</td>\n",
       "      <td>no</td>\n",
       "      <td>no</td>\n",
       "    </tr>\n",
       "    <tr>\n",
       "      <th>contact</th>\n",
       "      <td>telephone</td>\n",
       "      <td>cellular</td>\n",
       "      <td>cellular</td>\n",
       "      <td>cellular</td>\n",
       "    </tr>\n",
       "    <tr>\n",
       "      <th>month</th>\n",
       "      <td>may</td>\n",
       "      <td>aug</td>\n",
       "      <td>apr</td>\n",
       "      <td>may</td>\n",
       "    </tr>\n",
       "    <tr>\n",
       "      <th>day_of_week</th>\n",
       "      <td>tue</td>\n",
       "      <td>tue</td>\n",
       "      <td>fri</td>\n",
       "      <td>mon</td>\n",
       "    </tr>\n",
       "    <tr>\n",
       "      <th>duration</th>\n",
       "      <td>0</td>\n",
       "      <td>0</td>\n",
       "      <td>0</td>\n",
       "      <td>0</td>\n",
       "    </tr>\n",
       "    <tr>\n",
       "      <th>campaign</th>\n",
       "      <td>4</td>\n",
       "      <td>10</td>\n",
       "      <td>3</td>\n",
       "      <td>2</td>\n",
       "    </tr>\n",
       "    <tr>\n",
       "      <th>previous</th>\n",
       "      <td>0</td>\n",
       "      <td>0</td>\n",
       "      <td>0</td>\n",
       "      <td>0</td>\n",
       "    </tr>\n",
       "    <tr>\n",
       "      <th>poutcome</th>\n",
       "      <td>nonexistent</td>\n",
       "      <td>nonexistent</td>\n",
       "      <td>nonexistent</td>\n",
       "      <td>nonexistent</td>\n",
       "    </tr>\n",
       "    <tr>\n",
       "      <th>emp.var.rate</th>\n",
       "      <td>1.1</td>\n",
       "      <td>1.4</td>\n",
       "      <td>-1.8</td>\n",
       "      <td>-1.8</td>\n",
       "    </tr>\n",
       "    <tr>\n",
       "      <th>cons.price.idx</th>\n",
       "      <td>93.994</td>\n",
       "      <td>93.444</td>\n",
       "      <td>93.075</td>\n",
       "      <td>92.893</td>\n",
       "    </tr>\n",
       "    <tr>\n",
       "      <th>cons.conf.idx</th>\n",
       "      <td>-36.4</td>\n",
       "      <td>-36.1</td>\n",
       "      <td>-47.1</td>\n",
       "      <td>-46.2</td>\n",
       "    </tr>\n",
       "    <tr>\n",
       "      <th>euribor3m</th>\n",
       "      <td>4.857</td>\n",
       "      <td>4.965</td>\n",
       "      <td>1.479</td>\n",
       "      <td>1.299</td>\n",
       "    </tr>\n",
       "    <tr>\n",
       "      <th>nr.employed</th>\n",
       "      <td>5191.0</td>\n",
       "      <td>5228.1</td>\n",
       "      <td>5099.1</td>\n",
       "      <td>5099.1</td>\n",
       "    </tr>\n",
       "    <tr>\n",
       "      <th>y</th>\n",
       "      <td>no</td>\n",
       "      <td>no</td>\n",
       "      <td>no</td>\n",
       "      <td>no</td>\n",
       "    </tr>\n",
       "    <tr>\n",
       "      <th>pdays_groups</th>\n",
       "      <td>belum pernah dihubungi</td>\n",
       "      <td>belum pernah dihubungi</td>\n",
       "      <td>belum pernah dihubungi</td>\n",
       "      <td>belum pernah dihubungi</td>\n",
       "    </tr>\n",
       "  </tbody>\n",
       "</table>\n",
       "</div>"
      ],
      "text/plain": [
       "                                 6251                    23031  \\\n",
       "age                                 39                      59   \n",
       "job                             admin.              management   \n",
       "marital                        married                 married   \n",
       "education                  high.school       university.degree   \n",
       "default                             no                      no   \n",
       "housing                            yes                     yes   \n",
       "loan                                no                      no   \n",
       "contact                      telephone                cellular   \n",
       "month                              may                     aug   \n",
       "day_of_week                        tue                     tue   \n",
       "duration                             0                       0   \n",
       "campaign                             4                      10   \n",
       "previous                             0                       0   \n",
       "poutcome                   nonexistent             nonexistent   \n",
       "emp.var.rate                       1.1                     1.4   \n",
       "cons.price.idx                  93.994                  93.444   \n",
       "cons.conf.idx                    -36.4                   -36.1   \n",
       "euribor3m                        4.857                   4.965   \n",
       "nr.employed                     5191.0                  5228.1   \n",
       "y                                   no                      no   \n",
       "pdays_groups    belum pernah dihubungi  belum pernah dihubungi   \n",
       "\n",
       "                                 28063                   33015  \n",
       "age                                 53                      31  \n",
       "job                        blue-collar             blue-collar  \n",
       "marital                       divorced                 married  \n",
       "education                  high.school                basic.9y  \n",
       "default                             no                      no  \n",
       "housing                            yes                      no  \n",
       "loan                                no                      no  \n",
       "contact                       cellular                cellular  \n",
       "month                              apr                     may  \n",
       "day_of_week                        fri                     mon  \n",
       "duration                             0                       0  \n",
       "campaign                             3                       2  \n",
       "previous                             0                       0  \n",
       "poutcome                   nonexistent             nonexistent  \n",
       "emp.var.rate                      -1.8                    -1.8  \n",
       "cons.price.idx                  93.075                  92.893  \n",
       "cons.conf.idx                    -47.1                   -46.2  \n",
       "euribor3m                        1.479                   1.299  \n",
       "nr.employed                     5099.1                  5099.1  \n",
       "y                                   no                      no  \n",
       "pdays_groups    belum pernah dihubungi  belum pernah dihubungi  "
      ]
     },
     "execution_count": 15,
     "metadata": {},
     "output_type": "execute_result"
    }
   ],
   "source": [
    "df[df['duration']==0].head().T"
   ]
  },
  {
   "cell_type": "markdown",
   "metadata": {},
   "source": [
    "> ada 4 orang yang belum pernah dihubungi sama sekali, yang dimana hasilnya tidak akan valid sehingga akan didrop"
   ]
  },
  {
   "cell_type": "code",
   "execution_count": 16,
   "metadata": {},
   "outputs": [],
   "source": [
    "# mendrop data yg durationnya 0\n",
    "df.drop(df[df['duration']==0].index, inplace=True)\n",
    "\n",
    "# Mereset index df\n",
    "df.reset_index(drop=True, inplace=True)"
   ]
  },
  {
   "cell_type": "code",
   "execution_count": 17,
   "metadata": {},
   "outputs": [
    {
     "data": {
      "image/png": "[encoded data removed]",
      "text/plain": [
       "<Figure size 432x288 with 1 Axes>"
      ]
     },
     "metadata": {
      "needs_background": "light"
     },
     "output_type": "display_data"
    }
   ],
   "source": [
    "# melihat sebaran data setiap pekerjaan\n",
    "sns.countplot(data = df, x = 'job', order=df['job'].value_counts().index)\n",
    "locs, labels = plt.xticks()\n",
    "plt.setp(labels, rotation=45)\n",
    "plt.show()"
   ]
  },
  {
   "cell_type": "code",
   "execution_count": 18,
   "metadata": {},
   "outputs": [
    {
     "data": {
      "text/plain": [
       "<AxesSubplot:ylabel='contact'>"
      ]
     },
     "execution_count": 18,
     "metadata": {},
     "output_type": "execute_result"
    },
    {
     "data": {
      "image/png": "[encoded data removed]",
      "text/plain": [
       "<Figure size 432x288 with 1 Axes>"
      ]
     },
     "metadata": {},
     "output_type": "display_data"
    }
   ],
   "source": [
    "df['contact'].value_counts().plot(kind='pie', autopct='%.0f%%')"
   ]
  },
  {
   "cell_type": "code",
   "execution_count": 20,
   "metadata": {},
   "outputs": [],
   "source": [
    "# membuat fungsi untuk membuat grafik catplot count dari persentasenya\n",
    "\n",
    "def grafik_persentase (x, hue, data=df, order=[]):\n",
    "    if order == []:\n",
    "        for i in data[x].value_counts().index:\n",
    "            order.append(i)\n",
    "    plt.figure(figsize=(20,10))\n",
    "    df_for_graph = df[[x,hue]].groupby(x).value_counts(normalize=True).reset_index().rename(columns={0:'prob'})\n",
    "    df_for_graph['prob']= df_for_graph['prob']*100\n",
    "\n",
    "    g = sns.catplot(x=x,y='prob',hue=hue,kind='bar',data=df_for_graph, order=order, height=5, aspect=2)\n",
    "    g.ax.set_ylim(0,100)\n",
    "\n",
    "    for p in g.ax.patches:\n",
    "        if p.get_height() > 0:\n",
    "            txt = str(p.get_height().round(1)) + '%'\n",
    "            txt_x = p.get_x() \n",
    "            txt_y = p.get_height()\n",
    "            g.ax.text(txt_x,txt_y,txt)\n",
    "\n",
    "    locs, labels = plt.xticks()\n",
    "    plt.setp(labels, rotation=45)\n",
    "    plt.show()"
   ]
  },
  {
   "cell_type": "code",
   "execution_count": 21,
   "metadata": {},
   "outputs": [
    {
     "data": {
      "text/plain": [
       "<Figure size 1440x2880 with 0 Axes>"
      ]
     },
     "metadata": {},
     "output_type": "display_data"
    },
    {
     "data": {
      "image/png": "[encoded data removed]",
      "text/plain": [
       "<Figure size 773.25x360 with 1 Axes>"
      ]
     },
     "metadata": {
      "needs_background": "light"
     },
     "output_type": "display_data"
    }
   ],
   "source": [
    "# Melihat pengaruh dari education terhadap target y (count)\n",
    "plt.figure(figsize=(20,40))\n",
    "sns.catplot(data=df, x='education', hue='y', kind='count', height=5, aspect=2)\n",
    "plt.show()"
   ]
  },
  {
   "cell_type": "code",
   "execution_count": 22,
   "metadata": {},
   "outputs": [
    {
     "data": {
      "text/plain": [
       "<Figure size 1440x720 with 0 Axes>"
      ]
     },
     "metadata": {},
     "output_type": "display_data"
    },
    {
     "data": {
      "image/png": "[encoded data removed]",
      "text/plain": [
       "<Figure size 773.25x360 with 1 Axes>"
      ]
     },
     "metadata": {
      "needs_background": "light"
     },
     "output_type": "display_data"
    }
   ],
   "source": [
    "# melihat pengaruh dari education terhadap target y Persentase\n",
    "grafik_persentase('education','y',df)"
   ]
  },
  {
   "cell_type": "markdown",
   "metadata": {},
   "source": [
    "> terlihat tingkat edukasi memiliki pengaruh terhadap nilai target, terutama pada illiterate"
   ]
  },
  {
   "cell_type": "code",
   "execution_count": 23,
   "metadata": {},
   "outputs": [
    {
     "data": {
      "text/plain": [
       "<Figure size 1440x720 with 0 Axes>"
      ]
     },
     "metadata": {},
     "output_type": "display_data"
    },
    {
     "data": {
      "image/png": "[encoded data removed]",
      "text/plain": [
       "<Figure size 773.25x360 with 1 Axes>"
      ]
     },
     "metadata": {
      "needs_background": "light"
     },
     "output_type": "display_data"
    }
   ],
   "source": [
    "# melihat pengaruh dari day of the week dan y\n",
    "grafik_persentase('day_of_week','y',df, order=['mon','tue','wed','thu','fri'])"
   ]
  },
  {
   "cell_type": "markdown",
   "metadata": {},
   "source": [
    "> karena terlihat hampir tidak ada pengaruhnya terhadap keberhasilan campaign, maka day of the week akan didrop."
   ]
  },
  {
   "cell_type": "code",
   "execution_count": 24,
   "metadata": {},
   "outputs": [],
   "source": [
    "# mendrop day of the week dari df\n",
    "df.drop('day_of_week', axis=1, inplace=True)"
   ]
  },
  {
   "cell_type": "code",
   "execution_count": 25,
   "metadata": {},
   "outputs": [
    {
     "data": {
      "text/plain": [
       "<Figure size 1440x720 with 0 Axes>"
      ]
     },
     "metadata": {},
     "output_type": "display_data"
    },
    {
     "data": {
      "image/png": "[encoded data removed]",
      "text/plain": [
       "<Figure size 815x360 with 1 Axes>"
      ]
     },
     "metadata": {
      "needs_background": "light"
     },
     "output_type": "display_data"
    }
   ],
   "source": [
    "# melihat pengaruh jumlah previous terhadap poutcome\n",
    "grafik_persentase('previous','poutcome', df, order=[])"
   ]
  },
  {
   "cell_type": "markdown",
   "metadata": {},
   "source": [
    "> Terlihat hasil dari previous campaign, makin banyak dihubungi, maka makin besar tingkat suksesnya, tapi jika tidak dihubungi maka tidak akan menjadi nonexistent"
   ]
  },
  {
   "cell_type": "code",
   "execution_count": 26,
   "metadata": {},
   "outputs": [
    {
     "data": {
      "text/plain": [
       "<Figure size 1440x720 with 0 Axes>"
      ]
     },
     "metadata": {},
     "output_type": "display_data"
    },
    {
     "data": {
      "image/png": "[encoded data removed]",
      "text/plain": [
       "<Figure size 773.25x360 with 1 Axes>"
      ]
     },
     "metadata": {
      "needs_background": "light"
     },
     "output_type": "display_data"
    }
   ],
   "source": [
    "#Melihat pengaruh poutcome terhadap y\n",
    "grafik_persentase('poutcome','y',df, order=[])"
   ]
  },
  {
   "cell_type": "code",
   "execution_count": 27,
   "metadata": {},
   "outputs": [
    {
     "data": {
      "text/plain": [
       "nonexistent    35559\n",
       "failure         4252\n",
       "success         1373\n",
       "Name: poutcome, dtype: int64"
      ]
     },
     "execution_count": 27,
     "metadata": {},
     "output_type": "execute_result"
    }
   ],
   "source": [
    "df['poutcome'].value_counts()"
   ]
  },
  {
   "cell_type": "markdown",
   "metadata": {},
   "source": [
    "> meskipun hanya sedikit yang dikontak pada campaign sebelumnya, tapi secara persentase, jika p outcomenya success, maka besar kemungkinan saat dikontak pada campaign selanjutnya juga akan sukses."
   ]
  },
  {
   "cell_type": "code",
   "execution_count": 28,
   "metadata": {},
   "outputs": [
    {
     "data": {
      "text/plain": [
       "<Figure size 1440x720 with 0 Axes>"
      ]
     },
     "metadata": {},
     "output_type": "display_data"
    },
    {
     "data": {
      "image/png": "[encoded data removed]",
      "text/plain": [
       "<Figure size 773.25x360 with 1 Axes>"
      ]
     },
     "metadata": {
      "needs_background": "light"
     },
     "output_type": "display_data"
    }
   ],
   "source": [
    "grafik_persentase('month','y',df, order=['mar', 'apr', 'may', 'jun', 'jul', 'aug', 'sep', 'oct', 'nov', 'dec'])"
   ]
  },
  {
   "cell_type": "markdown",
   "metadata": {},
   "source": [
    "> karena terlihat ada pengaruhnya, terutama pada bulan mei, maka akan tetap dipertahankan kolomnya."
   ]
  },
  {
   "cell_type": "markdown",
   "metadata": {},
   "source": [
    "> sepertinya ada sesuatu pada bulan mei yang membuatnya sangat jelek performanya"
   ]
  },
  {
   "cell_type": "code",
   "execution_count": 29,
   "metadata": {},
   "outputs": [
    {
     "data": {
      "text/plain": [
       "<Figure size 1440x720 with 0 Axes>"
      ]
     },
     "metadata": {},
     "output_type": "display_data"
    },
    {
     "data": {
      "image/png": "[encoded data removed]",
      "text/plain": [
       "<Figure size 773.25x360 with 1 Axes>"
      ]
     },
     "metadata": {
      "needs_background": "light"
     },
     "output_type": "display_data"
    }
   ],
   "source": [
    "#Melihat pengaruh marital terhadap y\n",
    "grafik_persentase('marital','y',df, order=[])"
   ]
  },
  {
   "cell_type": "markdown",
   "metadata": {},
   "source": [
    "> hampir tidak terlihat perbedaan antara stiap status marital, sehingga akan didrop"
   ]
  },
  {
   "cell_type": "code",
   "execution_count": 30,
   "metadata": {},
   "outputs": [],
   "source": [
    "# mendrop kolom marital dari df\n",
    "df.drop('marital', axis=1, inplace=True)"
   ]
  },
  {
   "cell_type": "code",
   "execution_count": 31,
   "metadata": {},
   "outputs": [
    {
     "data": {
      "text/plain": [
       "<Figure size 1440x720 with 0 Axes>"
      ]
     },
     "metadata": {},
     "output_type": "display_data"
    },
    {
     "data": {
      "image/png": "[encoded data removed]",
      "text/plain": [
       "<Figure size 773.25x360 with 1 Axes>"
      ]
     },
     "metadata": {
      "needs_background": "light"
     },
     "output_type": "display_data"
    }
   ],
   "source": [
    "#Melihat pengaruh loan terhadap y\n",
    "grafik_persentase('loan','y',df, order=[])"
   ]
  },
  {
   "cell_type": "markdown",
   "metadata": {},
   "source": [
    "> kolom loan juga tidak ada pengaruhnya terhadap y, sehingga akan didrop"
   ]
  },
  {
   "cell_type": "code",
   "execution_count": 32,
   "metadata": {},
   "outputs": [],
   "source": [
    "# mendrop kolom loan dari df\n",
    "df.drop('loan', axis=1, inplace=True)"
   ]
  },
  {
   "cell_type": "code",
   "execution_count": 33,
   "metadata": {},
   "outputs": [
    {
     "data": {
      "text/plain": [
       "<Figure size 1440x720 with 0 Axes>"
      ]
     },
     "metadata": {},
     "output_type": "display_data"
    },
    {
     "data": {
      "image/png": "[encoded data removed]",
      "text/plain": [
       "<Figure size 773.25x360 with 1 Axes>"
      ]
     },
     "metadata": {
      "needs_background": "light"
     },
     "output_type": "display_data"
    }
   ],
   "source": [
    "#Melihat pengaruh housing terhadap y\n",
    "grafik_persentase('housing','y',df, order=[])"
   ]
  },
  {
   "cell_type": "markdown",
   "metadata": {},
   "source": [
    "> Kolom housing juga tidak memiliki pengaruh terhadap nilai y secara persentase, sehingga akan didrop"
   ]
  },
  {
   "cell_type": "code",
   "execution_count": 34,
   "metadata": {},
   "outputs": [],
   "source": [
    "# drop kolom housing dari df\n",
    "df.drop('housing', axis=1, inplace=True)"
   ]
  },
  {
   "cell_type": "code",
   "execution_count": 35,
   "metadata": {},
   "outputs": [
    {
     "data": {
      "text/plain": [
       "<Figure size 1440x720 with 0 Axes>"
      ]
     },
     "metadata": {},
     "output_type": "display_data"
    },
    {
     "data": {
      "image/png": "[encoded data removed]",
      "text/plain": [
       "<Figure size 773.25x360 with 1 Axes>"
      ]
     },
     "metadata": {
      "needs_background": "light"
     },
     "output_type": "display_data"
    }
   ],
   "source": [
    "#Melihat pengaruh default terhadap y\n",
    "grafik_persentase('default','y',df, order=[])"
   ]
  },
  {
   "cell_type": "code",
   "execution_count": 36,
   "metadata": {},
   "outputs": [
    {
     "data": {
      "text/plain": [
       "no         32584\n",
       "unknown     8597\n",
       "yes            3\n",
       "Name: default, dtype: int64"
      ]
     },
     "execution_count": 36,
     "metadata": {},
     "output_type": "execute_result"
    }
   ],
   "source": [
    "# melihat data value count dari default\n",
    "df['default'].value_counts()"
   ]
  },
  {
   "cell_type": "markdown",
   "metadata": {},
   "source": [
    "> Karena sangat minim data yang defaultnya yes, maka akan didrop."
   ]
  },
  {
   "cell_type": "code",
   "execution_count": 37,
   "metadata": {},
   "outputs": [],
   "source": [
    "# drop kolom default\n",
    "df.drop('default', axis=1, inplace=True)"
   ]
  },
  {
   "cell_type": "code",
   "execution_count": 38,
   "metadata": {},
   "outputs": [
    {
     "data": {
      "text/plain": [
       "<Figure size 1440x720 with 0 Axes>"
      ]
     },
     "metadata": {},
     "output_type": "display_data"
    },
    {
     "data": {
      "image/png": "[encoded data removed]",
      "text/plain": [
       "<Figure size 773.25x360 with 1 Axes>"
      ]
     },
     "metadata": {
      "needs_background": "light"
     },
     "output_type": "display_data"
    }
   ],
   "source": [
    "#Melihat pengaruh job terhadap y\n",
    "grafik_persentase('job','y',df, order=[])"
   ]
  },
  {
   "cell_type": "markdown",
   "metadata": {},
   "source": [
    "> job kelihatannya ada pengaruhnya, terutama pada job management retired dan unemployed student. Alhasil tidak akan didrop"
   ]
  },
  {
   "cell_type": "code",
   "execution_count": 39,
   "metadata": {},
   "outputs": [
    {
     "data": {
      "text/plain": [
       "<Figure size 1440x720 with 0 Axes>"
      ]
     },
     "metadata": {},
     "output_type": "display_data"
    },
    {
     "data": {
      "image/png": "[encoded data removed]",
      "text/plain": [
       "<Figure size 773.25x360 with 1 Axes>"
      ]
     },
     "metadata": {
      "needs_background": "light"
     },
     "output_type": "display_data"
    }
   ],
   "source": [
    "#Melihat pengaruh pdays group terhadap y\n",
    "grafik_persentase('pdays_groups','y',df, order=[])"
   ]
  },
  {
   "cell_type": "markdown",
   "metadata": {},
   "source": [
    "> kolom pdays group juga menunjukan adanya pengaruh terhadap y"
   ]
  },
  {
   "cell_type": "code",
   "execution_count": 40,
   "metadata": {},
   "outputs": [],
   "source": [
    "# Mengconvert data y target menjadi integer dengan labelencoder (no =0, yes =1)\n",
    "from sklearn.preprocessing import LabelEncoder\n",
    "le = LabelEncoder()\n",
    "df['y'] = le.fit_transform(df['y'])"
   ]
  },
  {
   "cell_type": "code",
   "execution_count": 41,
   "metadata": {},
   "outputs": [
    {
     "data": {
      "text/plain": [
       "Text(0.5, 1.0, 'Correlation Heatmap')"
      ]
     },
     "execution_count": 41,
     "metadata": {},
     "output_type": "execute_result"
    },
    {
     "data": {
      "image/png": "[encoded data removed]",
      "text/plain": [
       "<Figure size 1440x720 with 2 Axes>"
      ]
     },
     "metadata": {
      "needs_background": "light"
     },
     "output_type": "display_data"
    }
   ],
   "source": [
    "# melihat korelasi data dengan heat map\n",
    "plt.figure(figsize=(20, 10))\n",
    "heatmap = sns.heatmap(df.corr(), vmin=-1, vmax=1, annot=True, cmap='BrBG')\n",
    "heatmap.set_title('Correlation Heatmap', fontdict={'fontsize':16}, pad=12)"
   ]
  },
  {
   "cell_type": "code",
   "execution_count": 42,
   "metadata": {},
   "outputs": [
    {
     "data": {
      "text/html": [
       "<div>\n",
       "<style scoped>\n",
       "    .dataframe tbody tr th:only-of-type {\n",
       "        vertical-align: middle;\n",
       "    }\n",
       "\n",
       "    .dataframe tbody tr th {\n",
       "        vertical-align: top;\n",
       "    }\n",
       "\n",
       "    .dataframe thead th {\n",
       "        text-align: right;\n",
       "    }\n",
       "</style>\n",
       "<table border=\"1\" class=\"dataframe\">\n",
       "  <thead>\n",
       "    <tr style=\"text-align: right;\">\n",
       "      <th></th>\n",
       "      <th>age</th>\n",
       "      <th>duration</th>\n",
       "      <th>campaign</th>\n",
       "      <th>previous</th>\n",
       "      <th>emp.var.rate</th>\n",
       "      <th>cons.price.idx</th>\n",
       "      <th>cons.conf.idx</th>\n",
       "      <th>euribor3m</th>\n",
       "      <th>nr.employed</th>\n",
       "      <th>y</th>\n",
       "    </tr>\n",
       "  </thead>\n",
       "  <tbody>\n",
       "    <tr>\n",
       "      <th>age</th>\n",
       "      <td>NaN</td>\n",
       "      <td>NaN</td>\n",
       "      <td>NaN</td>\n",
       "      <td>NaN</td>\n",
       "      <td>NaN</td>\n",
       "      <td>NaN</td>\n",
       "      <td>NaN</td>\n",
       "      <td>NaN</td>\n",
       "      <td>NaN</td>\n",
       "      <td>NaN</td>\n",
       "    </tr>\n",
       "    <tr>\n",
       "      <th>duration</th>\n",
       "      <td>0.000815</td>\n",
       "      <td>NaN</td>\n",
       "      <td>NaN</td>\n",
       "      <td>NaN</td>\n",
       "      <td>NaN</td>\n",
       "      <td>NaN</td>\n",
       "      <td>NaN</td>\n",
       "      <td>NaN</td>\n",
       "      <td>NaN</td>\n",
       "      <td>NaN</td>\n",
       "    </tr>\n",
       "    <tr>\n",
       "      <th>campaign</th>\n",
       "      <td>0.004468</td>\n",
       "      <td>0.071633</td>\n",
       "      <td>NaN</td>\n",
       "      <td>NaN</td>\n",
       "      <td>NaN</td>\n",
       "      <td>NaN</td>\n",
       "      <td>NaN</td>\n",
       "      <td>NaN</td>\n",
       "      <td>NaN</td>\n",
       "      <td>NaN</td>\n",
       "    </tr>\n",
       "    <tr>\n",
       "      <th>previous</th>\n",
       "      <td>0.024384</td>\n",
       "      <td>0.020608</td>\n",
       "      <td>0.079122</td>\n",
       "      <td>NaN</td>\n",
       "      <td>NaN</td>\n",
       "      <td>NaN</td>\n",
       "      <td>NaN</td>\n",
       "      <td>NaN</td>\n",
       "      <td>NaN</td>\n",
       "      <td>NaN</td>\n",
       "    </tr>\n",
       "    <tr>\n",
       "      <th>emp.var.rate</th>\n",
       "      <td>0.000395</td>\n",
       "      <td>0.027993</td>\n",
       "      <td>0.150711</td>\n",
       "      <td>0.420520</td>\n",
       "      <td>NaN</td>\n",
       "      <td>NaN</td>\n",
       "      <td>NaN</td>\n",
       "      <td>NaN</td>\n",
       "      <td>NaN</td>\n",
       "      <td>NaN</td>\n",
       "    </tr>\n",
       "    <tr>\n",
       "      <th>cons.price.idx</th>\n",
       "      <td>0.000870</td>\n",
       "      <td>0.005275</td>\n",
       "      <td>0.127855</td>\n",
       "      <td>0.203151</td>\n",
       "      <td>0.775331</td>\n",
       "      <td>NaN</td>\n",
       "      <td>NaN</td>\n",
       "      <td>NaN</td>\n",
       "      <td>NaN</td>\n",
       "      <td>NaN</td>\n",
       "    </tr>\n",
       "    <tr>\n",
       "      <th>cons.conf.idx</th>\n",
       "      <td>0.129366</td>\n",
       "      <td>0.008194</td>\n",
       "      <td>0.013809</td>\n",
       "      <td>0.050947</td>\n",
       "      <td>0.195953</td>\n",
       "      <td>0.058916</td>\n",
       "      <td>NaN</td>\n",
       "      <td>NaN</td>\n",
       "      <td>NaN</td>\n",
       "      <td>NaN</td>\n",
       "    </tr>\n",
       "    <tr>\n",
       "      <th>euribor3m</th>\n",
       "      <td>0.010745</td>\n",
       "      <td>0.032926</td>\n",
       "      <td>0.135091</td>\n",
       "      <td>0.454530</td>\n",
       "      <td>0.972242</td>\n",
       "      <td>0.688217</td>\n",
       "      <td>0.277603</td>\n",
       "      <td>NaN</td>\n",
       "      <td>NaN</td>\n",
       "      <td>NaN</td>\n",
       "    </tr>\n",
       "    <tr>\n",
       "      <th>nr.employed</th>\n",
       "      <td>0.017755</td>\n",
       "      <td>0.044724</td>\n",
       "      <td>0.144052</td>\n",
       "      <td>0.501358</td>\n",
       "      <td>0.906965</td>\n",
       "      <td>0.522020</td>\n",
       "      <td>0.100436</td>\n",
       "      <td>0.945155</td>\n",
       "      <td>NaN</td>\n",
       "      <td>NaN</td>\n",
       "    </tr>\n",
       "    <tr>\n",
       "      <th>y</th>\n",
       "      <td>0.030419</td>\n",
       "      <td>0.405261</td>\n",
       "      <td>0.066337</td>\n",
       "      <td>0.230172</td>\n",
       "      <td>0.298359</td>\n",
       "      <td>0.136230</td>\n",
       "      <td>0.054875</td>\n",
       "      <td>0.307799</td>\n",
       "      <td>0.354698</td>\n",
       "      <td>NaN</td>\n",
       "    </tr>\n",
       "  </tbody>\n",
       "</table>\n",
       "</div>"
      ],
      "text/plain": [
       "                     age  duration  campaign  previous  emp.var.rate  \\\n",
       "age                  NaN       NaN       NaN       NaN           NaN   \n",
       "duration        0.000815       NaN       NaN       NaN           NaN   \n",
       "campaign        0.004468  0.071633       NaN       NaN           NaN   \n",
       "previous        0.024384  0.020608  0.079122       NaN           NaN   \n",
       "emp.var.rate    0.000395  0.027993  0.150711  0.420520           NaN   \n",
       "cons.price.idx  0.000870  0.005275  0.127855  0.203151      0.775331   \n",
       "cons.conf.idx   0.129366  0.008194  0.013809  0.050947      0.195953   \n",
       "euribor3m       0.010745  0.032926  0.135091  0.454530      0.972242   \n",
       "nr.employed     0.017755  0.044724  0.144052  0.501358      0.906965   \n",
       "y               0.030419  0.405261  0.066337  0.230172      0.298359   \n",
       "\n",
       "                cons.price.idx  cons.conf.idx  euribor3m  nr.employed   y  \n",
       "age                        NaN            NaN        NaN          NaN NaN  \n",
       "duration                   NaN            NaN        NaN          NaN NaN  \n",
       "campaign                   NaN            NaN        NaN          NaN NaN  \n",
       "previous                   NaN            NaN        NaN          NaN NaN  \n",
       "emp.var.rate               NaN            NaN        NaN          NaN NaN  \n",
       "cons.price.idx             NaN            NaN        NaN          NaN NaN  \n",
       "cons.conf.idx         0.058916            NaN        NaN          NaN NaN  \n",
       "euribor3m             0.688217       0.277603        NaN          NaN NaN  \n",
       "nr.employed           0.522020       0.100436   0.945155          NaN NaN  \n",
       "y                     0.136230       0.054875   0.307799     0.354698 NaN  "
      ]
     },
     "execution_count": 42,
     "metadata": {},
     "output_type": "execute_result"
    }
   ],
   "source": [
    "# Membuat matriks korelasi\n",
    "corr_matrix = df.corr().abs()\n",
    "\n",
    "# Menselect lower triangle dari matriks\n",
    "lower = corr_matrix.where(np.tril(np.ones(corr_matrix.shape), k=-1).astype(bool),np.nan)\n",
    "lower"
   ]
  },
  {
   "cell_type": "code",
   "execution_count": 43,
   "metadata": {},
   "outputs": [
    {
     "data": {
      "text/plain": [
       "['emp.var.rate', 'euribor3m']"
      ]
     },
     "execution_count": 43,
     "metadata": {},
     "output_type": "execute_result"
    }
   ],
   "source": [
    "# Melist semua fitur yang memiliki korelasi lebih dari 0.8\n",
    "to_drop=[]\n",
    "for column in lower.columns:\n",
    "    if any(lower[column] > 0.8):\n",
    "        to_drop.append(column)\n",
    "to_drop"
   ]
  },
  {
   "cell_type": "code",
   "execution_count": 44,
   "metadata": {},
   "outputs": [],
   "source": [
    "# Drop fitur\n",
    "df.drop(to_drop, axis=1, inplace=True)"
   ]
  },
  {
   "cell_type": "code",
   "execution_count": 45,
   "metadata": {},
   "outputs": [
    {
     "data": {
      "text/plain": [
       "Text(0.5, 1.0, 'Correlation Heatmap')"
      ]
     },
     "execution_count": 45,
     "metadata": {},
     "output_type": "execute_result"
    },
    {
     "data": {
      "image/png": "[encoded data removed]",
      "text/plain": [
       "<Figure size 1440x720 with 2 Axes>"
      ]
     },
     "metadata": {
      "needs_background": "light"
     },
     "output_type": "display_data"
    }
   ],
   "source": [
    "# Melihat heatmap setelah drop fitur\n",
    "plt.figure(figsize=(20, 10))\n",
    "heatmap = sns.heatmap(df.corr(), vmin=-1, vmax=1, annot=True, cmap='BrBG')\n",
    "heatmap.set_title('Correlation Heatmap', fontdict={'fontsize':16}, pad=12)"
   ]
  },
  {
   "cell_type": "markdown",
   "metadata": {},
   "source": [
    "# 5. Data Preprocessing"
   ]
  },
  {
   "cell_type": "markdown",
   "metadata": {},
   "source": [
    "## 5.1. Memisahkan data inference, data train, data test"
   ]
  },
  {
   "cell_type": "code",
   "execution_count": 46,
   "metadata": {},
   "outputs": [
    {
     "data": {
      "text/html": [
       "<div>\n",
       "<style scoped>\n",
       "    .dataframe tbody tr th:only-of-type {\n",
       "        vertical-align: middle;\n",
       "    }\n",
       "\n",
       "    .dataframe tbody tr th {\n",
       "        vertical-align: top;\n",
       "    }\n",
       "\n",
       "    .dataframe thead th {\n",
       "        text-align: right;\n",
       "    }\n",
       "</style>\n",
       "<table border=\"1\" class=\"dataframe\">\n",
       "  <thead>\n",
       "    <tr style=\"text-align: right;\">\n",
       "      <th></th>\n",
       "      <th>age</th>\n",
       "      <th>job</th>\n",
       "      <th>education</th>\n",
       "      <th>contact</th>\n",
       "      <th>month</th>\n",
       "      <th>duration</th>\n",
       "      <th>campaign</th>\n",
       "      <th>previous</th>\n",
       "      <th>poutcome</th>\n",
       "      <th>cons.price.idx</th>\n",
       "      <th>cons.conf.idx</th>\n",
       "      <th>nr.employed</th>\n",
       "      <th>y</th>\n",
       "      <th>pdays_groups</th>\n",
       "    </tr>\n",
       "  </thead>\n",
       "  <tbody>\n",
       "    <tr>\n",
       "      <th>0</th>\n",
       "      <td>56</td>\n",
       "      <td>housemaid</td>\n",
       "      <td>basic.4y</td>\n",
       "      <td>telephone</td>\n",
       "      <td>may</td>\n",
       "      <td>261</td>\n",
       "      <td>1</td>\n",
       "      <td>0</td>\n",
       "      <td>nonexistent</td>\n",
       "      <td>93.994</td>\n",
       "      <td>-36.4</td>\n",
       "      <td>5191.0</td>\n",
       "      <td>0</td>\n",
       "      <td>belum pernah dihubungi</td>\n",
       "    </tr>\n",
       "    <tr>\n",
       "      <th>1</th>\n",
       "      <td>57</td>\n",
       "      <td>services</td>\n",
       "      <td>high.school</td>\n",
       "      <td>telephone</td>\n",
       "      <td>may</td>\n",
       "      <td>149</td>\n",
       "      <td>1</td>\n",
       "      <td>0</td>\n",
       "      <td>nonexistent</td>\n",
       "      <td>93.994</td>\n",
       "      <td>-36.4</td>\n",
       "      <td>5191.0</td>\n",
       "      <td>0</td>\n",
       "      <td>belum pernah dihubungi</td>\n",
       "    </tr>\n",
       "    <tr>\n",
       "      <th>2</th>\n",
       "      <td>37</td>\n",
       "      <td>services</td>\n",
       "      <td>high.school</td>\n",
       "      <td>telephone</td>\n",
       "      <td>may</td>\n",
       "      <td>226</td>\n",
       "      <td>1</td>\n",
       "      <td>0</td>\n",
       "      <td>nonexistent</td>\n",
       "      <td>93.994</td>\n",
       "      <td>-36.4</td>\n",
       "      <td>5191.0</td>\n",
       "      <td>0</td>\n",
       "      <td>belum pernah dihubungi</td>\n",
       "    </tr>\n",
       "    <tr>\n",
       "      <th>3</th>\n",
       "      <td>40</td>\n",
       "      <td>admin.</td>\n",
       "      <td>basic.6y</td>\n",
       "      <td>telephone</td>\n",
       "      <td>may</td>\n",
       "      <td>151</td>\n",
       "      <td>1</td>\n",
       "      <td>0</td>\n",
       "      <td>nonexistent</td>\n",
       "      <td>93.994</td>\n",
       "      <td>-36.4</td>\n",
       "      <td>5191.0</td>\n",
       "      <td>0</td>\n",
       "      <td>belum pernah dihubungi</td>\n",
       "    </tr>\n",
       "    <tr>\n",
       "      <th>4</th>\n",
       "      <td>56</td>\n",
       "      <td>services</td>\n",
       "      <td>high.school</td>\n",
       "      <td>telephone</td>\n",
       "      <td>may</td>\n",
       "      <td>307</td>\n",
       "      <td>1</td>\n",
       "      <td>0</td>\n",
       "      <td>nonexistent</td>\n",
       "      <td>93.994</td>\n",
       "      <td>-36.4</td>\n",
       "      <td>5191.0</td>\n",
       "      <td>0</td>\n",
       "      <td>belum pernah dihubungi</td>\n",
       "    </tr>\n",
       "  </tbody>\n",
       "</table>\n",
       "</div>"
      ],
      "text/plain": [
       "   age        job    education    contact month  duration  campaign  previous  \\\n",
       "0   56  housemaid     basic.4y  telephone   may       261         1         0   \n",
       "1   57   services  high.school  telephone   may       149         1         0   \n",
       "2   37   services  high.school  telephone   may       226         1         0   \n",
       "3   40     admin.     basic.6y  telephone   may       151         1         0   \n",
       "4   56   services  high.school  telephone   may       307         1         0   \n",
       "\n",
       "      poutcome  cons.price.idx  cons.conf.idx  nr.employed  y  \\\n",
       "0  nonexistent          93.994          -36.4       5191.0  0   \n",
       "1  nonexistent          93.994          -36.4       5191.0  0   \n",
       "2  nonexistent          93.994          -36.4       5191.0  0   \n",
       "3  nonexistent          93.994          -36.4       5191.0  0   \n",
       "4  nonexistent          93.994          -36.4       5191.0  0   \n",
       "\n",
       "             pdays_groups  \n",
       "0  belum pernah dihubungi  \n",
       "1  belum pernah dihubungi  \n",
       "2  belum pernah dihubungi  \n",
       "3  belum pernah dihubungi  \n",
       "4  belum pernah dihubungi  "
      ]
     },
     "execution_count": 46,
     "metadata": {},
     "output_type": "execute_result"
    }
   ],
   "source": [
    "# Melihat df head\n",
    "df.head()"
   ]
  },
  {
   "cell_type": "code",
   "execution_count": 47,
   "metadata": {},
   "outputs": [
    {
     "name": "stdout",
     "output_type": "stream",
     "text": [
      "X_train : (32939, 13)\n",
      "X_test : (8235, 13)\n",
      "X_inf : (10, 13)\n"
     ]
    }
   ],
   "source": [
    "# Mendefinisikan target kolom\n",
    "target = 'y'\n",
    "\n",
    "# Memisahkan Inference-set from dataset\n",
    "df_inf =df.sample(10, random_state=25)\n",
    "df_inf.reset_index(drop=True, inplace=True)\n",
    "X_inf = df_inf.drop(target, axis=1)\n",
    "y_inf = df_inf[target]\n",
    "\n",
    "# Mendrop data yang dijadikan df_inf dan reset index\n",
    "df_tanpa_inf=df.drop(df_inf.index)\n",
    "df_tanpa_inf.reset_index(drop=True, inplace=True)\n",
    "\n",
    "# Memisahkan target dan data\n",
    "X =df_tanpa_inf.drop(target, axis=1)\n",
    "y =df_tanpa_inf[target]\n",
    "\n",
    "# Memisahkan data training dan test\n",
    "X_train, X_test, y_train, y_test = train_test_split(X,y, test_size =0.2,random_state=27, stratify=y)\n",
    "\n",
    "# Melihat jumlah train set dan test set\n",
    "print('X_train :',X_train.shape)\n",
    "print('X_test :',X_test.shape)\n",
    "print('X_inf :',X_inf.shape)"
   ]
  },
  {
   "cell_type": "markdown",
   "metadata": {},
   "source": [
    "## 5.2 Memisahkan kolom numerikal dan kategorikal"
   ]
  },
  {
   "cell_type": "code",
   "execution_count": 48,
   "metadata": {},
   "outputs": [
    {
     "data": {
      "text/plain": [
       "['age',\n",
       " 'duration',\n",
       " 'campaign',\n",
       " 'previous',\n",
       " 'cons.price.idx',\n",
       " 'cons.conf.idx',\n",
       " 'nr.employed']"
      ]
     },
     "execution_count": 48,
     "metadata": {},
     "output_type": "execute_result"
    }
   ],
   "source": [
    "# Memisahkan kolom numerical\n",
    "x = X_train.select_dtypes(include=np.number).columns\n",
    "num_columns=[]\n",
    "for i in x:\n",
    "    num_columns.append(i)\n",
    "num_columns"
   ]
  },
  {
   "cell_type": "code",
   "execution_count": 49,
   "metadata": {},
   "outputs": [
    {
     "data": {
      "text/plain": [
       "['job', 'education', 'contact', 'month', 'poutcome', 'pdays_groups']"
      ]
     },
     "execution_count": 49,
     "metadata": {},
     "output_type": "execute_result"
    }
   ],
   "source": [
    "# Membuat Kolom kategorical\n",
    "cat_columns =[]\n",
    "for i in X_train.columns:\n",
    "    if i not in num_columns:\n",
    "        cat_columns.append(i)\n",
    "cat_columns"
   ]
  },
  {
   "cell_type": "markdown",
   "metadata": {},
   "source": [
    "## 5.3 Handling Outlayer"
   ]
  },
  {
   "cell_type": "code",
   "execution_count": 50,
   "metadata": {},
   "outputs": [
    {
     "data": {
      "text/html": [
       "<div>\n",
       "<style scoped>\n",
       "    .dataframe tbody tr th:only-of-type {\n",
       "        vertical-align: middle;\n",
       "    }\n",
       "\n",
       "    .dataframe tbody tr th {\n",
       "        vertical-align: top;\n",
       "    }\n",
       "\n",
       "    .dataframe thead th {\n",
       "        text-align: right;\n",
       "    }\n",
       "</style>\n",
       "<table border=\"1\" class=\"dataframe\">\n",
       "  <thead>\n",
       "    <tr style=\"text-align: right;\">\n",
       "      <th></th>\n",
       "      <th>column_name</th>\n",
       "      <th>skewness</th>\n",
       "    </tr>\n",
       "  </thead>\n",
       "  <tbody>\n",
       "    <tr>\n",
       "      <th>2</th>\n",
       "      <td>campaign</td>\n",
       "      <td>4.515544</td>\n",
       "    </tr>\n",
       "    <tr>\n",
       "      <th>3</th>\n",
       "      <td>previous</td>\n",
       "      <td>3.874303</td>\n",
       "    </tr>\n",
       "    <tr>\n",
       "      <th>1</th>\n",
       "      <td>duration</td>\n",
       "      <td>3.006606</td>\n",
       "    </tr>\n",
       "    <tr>\n",
       "      <th>0</th>\n",
       "      <td>age</td>\n",
       "      <td>0.788556</td>\n",
       "    </tr>\n",
       "    <tr>\n",
       "      <th>5</th>\n",
       "      <td>cons.conf.idx</td>\n",
       "      <td>0.293643</td>\n",
       "    </tr>\n",
       "    <tr>\n",
       "      <th>4</th>\n",
       "      <td>cons.price.idx</td>\n",
       "      <td>-0.224818</td>\n",
       "    </tr>\n",
       "    <tr>\n",
       "      <th>6</th>\n",
       "      <td>nr.employed</td>\n",
       "      <td>-1.043217</td>\n",
       "    </tr>\n",
       "  </tbody>\n",
       "</table>\n",
       "</div>"
      ],
      "text/plain": [
       "      column_name  skewness\n",
       "2        campaign  4.515544\n",
       "3        previous  3.874303\n",
       "1        duration  3.006606\n",
       "0             age  0.788556\n",
       "5   cons.conf.idx  0.293643\n",
       "4  cons.price.idx -0.224818\n",
       "6     nr.employed -1.043217"
      ]
     },
     "execution_count": 50,
     "metadata": {},
     "output_type": "execute_result"
    }
   ],
   "source": [
    "# melihat skewness dari dari semua kolom np.number dari data training\n",
    "skewness =X_train[num_columns].skew().reset_index().rename(columns={'index':'column_name', 0:'skewness'})\n",
    "skewness.sort_values(by='skewness', ascending=False)"
   ]
  },
  {
   "cell_type": "markdown",
   "metadata": {},
   "source": [
    "> Terlihat ada kolom yang cukup skewed, yaitu campaign, previous, duration. Maka data akan dilakukan pendropan outlayer dimana normal distribution akan menggunakan 3xstd dan skewed menggunakan 1.5x IQR"
   ]
  },
  {
   "cell_type": "code",
   "execution_count": 51,
   "metadata": {},
   "outputs": [],
   "source": [
    "# Membuat fungsi remove outlayer normal distribution\n",
    "def remove_outlayer_normal (data, y_pasangan, column):\n",
    "    mean = data[column].mean()\n",
    "    std = data[column].std()\n",
    "    outlayer = data[column][(data[column] < mean - 1.5*std) | (data[column] > mean + 1.5*std)]\n",
    "    data.drop(outlayer.index, inplace=True)\n",
    "    data.reset_index()\n",
    "    y_pasangan.drop(outlayer.index, inplace=True)\n",
    "    y_pasangan.reset_index()\n",
    "    if outlayer.index.shape[0]==0:\n",
    "        print('Kolom',column ,'tidak memiliki outlayer')\n",
    "    else:\n",
    "        print('Shape setelah drop outlayer (normal) di kolom',column,' : ',data.shape)\n",
    "    return data, y_pasangan\n",
    "    \n",
    "\n",
    "# Membuat fungsi remove outlayer skewed distribution\n",
    "def remove_outlayer_skewed (data,y_pasangan, column):\n",
    "    q1 = data[column].quantile(0.25)\n",
    "    q3 = data[column].quantile(0.75)\n",
    "    iqr = q3 - q1\n",
    "    outlayer = data[column][(data[column] < q1 - 3*iqr) | (data[column] > q3 + 3*iqr)]\n",
    "    data.drop(outlayer.index, inplace=True)\n",
    "    data.reset_index()\n",
    "    y_pasangan.drop(outlayer.index, inplace=True)\n",
    "    y_pasangan.reset_index()\n",
    "    if outlayer.index.shape[0]==0:\n",
    "        print('Kolom',column ,'tidak memiliki outlayer')\n",
    "    else:\n",
    "        print('Shape setelah drop outlayer (skewed) di kolom',column,' : ',data.shape)\n",
    "    return data, y_pasangan"
   ]
  },
  {
   "cell_type": "code",
   "execution_count": 52,
   "metadata": {},
   "outputs": [],
   "source": [
    "# menggabungkan fungsi remove outlayer normal dan skewed\n",
    "def remove_outlayer_all (X_data, y_data, column, exception_column_list=[]):\n",
    "    awal = X_data.shape[0]\n",
    "    print('shape awal :', X_data.shape)\n",
    "    for i in X_data[column]:\n",
    "        if i not in exception_column_list:\n",
    "            if X_data[i].skew()>0.5:\n",
    "                remove_outlayer_skewed(X_data, y_data, i)\n",
    "            else:\n",
    "                remove_outlayer_normal(X_data, y_data, i)\n",
    "    akhir = X_data.shape[0]\n",
    "    print('Jumlah data awal : ', awal)\n",
    "    print('Jumlah data akhir : ', akhir)\n",
    "    print('persentase selisih : ', ((awal-akhir)/awal)*100,'%')\n",
    "    return X_data, y_data"
   ]
  },
  {
   "cell_type": "code",
   "execution_count": 53,
   "metadata": {},
   "outputs": [
    {
     "name": "stdout",
     "output_type": "stream",
     "text": [
      "shape awal : (32939, 13)\n",
      "Shape setelah drop outlayer (skewed) di kolom age  :  (32935, 13)\n",
      "Shape setelah drop outlayer (skewed) di kolom duration  :  (32101, 13)\n",
      "Shape setelah drop outlayer (skewed) di kolom campaign  :  (31249, 13)\n",
      "Shape setelah drop outlayer (normal) di kolom cons.price.idx  :  (26242, 13)\n",
      "Shape setelah drop outlayer (normal) di kolom cons.conf.idx  :  (25888, 13)\n",
      "Shape setelah drop outlayer (normal) di kolom nr.employed  :  (24567, 13)\n",
      "Jumlah data awal :  32939\n",
      "Jumlah data akhir :  24567\n",
      "persentase selisih :  25.416679316311967 %\n"
     ]
    }
   ],
   "source": [
    "# meremove outlayer dari data training\n",
    "\n",
    "X_train, y_train = remove_outlayer_all(X_train, y_train, num_columns,['previous'])"
   ]
  },
  {
   "cell_type": "code",
   "execution_count": 54,
   "metadata": {},
   "outputs": [
    {
     "name": "stdout",
     "output_type": "stream",
     "text": [
      "Shape X_train : (24567, 13)\n",
      "Shape y_train : (24567,)\n"
     ]
    }
   ],
   "source": [
    "# melihat shape dari X_train dan y_train\n",
    "print('Shape X_train :', X_train.shape)\n",
    "print('Shape y_train :', y_train.shape)"
   ]
  },
  {
   "cell_type": "code",
   "execution_count": 55,
   "metadata": {},
   "outputs": [
    {
     "data": {
      "text/html": [
       "<div>\n",
       "<style scoped>\n",
       "    .dataframe tbody tr th:only-of-type {\n",
       "        vertical-align: middle;\n",
       "    }\n",
       "\n",
       "    .dataframe tbody tr th {\n",
       "        vertical-align: top;\n",
       "    }\n",
       "\n",
       "    .dataframe thead th {\n",
       "        text-align: right;\n",
       "    }\n",
       "</style>\n",
       "<table border=\"1\" class=\"dataframe\">\n",
       "  <thead>\n",
       "    <tr style=\"text-align: right;\">\n",
       "      <th></th>\n",
       "      <th>age</th>\n",
       "      <th>duration</th>\n",
       "      <th>campaign</th>\n",
       "      <th>previous</th>\n",
       "      <th>cons.price.idx</th>\n",
       "      <th>cons.conf.idx</th>\n",
       "      <th>nr.employed</th>\n",
       "    </tr>\n",
       "  </thead>\n",
       "  <tbody>\n",
       "    <tr>\n",
       "      <th>count</th>\n",
       "      <td>24567.000000</td>\n",
       "      <td>24567.000000</td>\n",
       "      <td>24567.000000</td>\n",
       "      <td>24567.000000</td>\n",
       "      <td>24567.000000</td>\n",
       "      <td>24567.00000</td>\n",
       "      <td>24567.000000</td>\n",
       "    </tr>\n",
       "    <tr>\n",
       "      <th>mean</th>\n",
       "      <td>39.536614</td>\n",
       "      <td>232.262629</td>\n",
       "      <td>2.249359</td>\n",
       "      <td>0.115399</td>\n",
       "      <td>93.502660</td>\n",
       "      <td>-40.97184</td>\n",
       "      <td>5178.349102</td>\n",
       "    </tr>\n",
       "    <tr>\n",
       "      <th>std</th>\n",
       "      <td>9.397698</td>\n",
       "      <td>184.843342</td>\n",
       "      <td>1.643319</td>\n",
       "      <td>0.337959</td>\n",
       "      <td>0.438739</td>\n",
       "      <td>4.18347</td>\n",
       "      <td>53.308778</td>\n",
       "    </tr>\n",
       "    <tr>\n",
       "      <th>min</th>\n",
       "      <td>18.000000</td>\n",
       "      <td>1.000000</td>\n",
       "      <td>1.000000</td>\n",
       "      <td>0.000000</td>\n",
       "      <td>92.756000</td>\n",
       "      <td>-47.10000</td>\n",
       "      <td>5076.200000</td>\n",
       "    </tr>\n",
       "    <tr>\n",
       "      <th>25%</th>\n",
       "      <td>32.000000</td>\n",
       "      <td>102.000000</td>\n",
       "      <td>1.000000</td>\n",
       "      <td>0.000000</td>\n",
       "      <td>93.075000</td>\n",
       "      <td>-46.20000</td>\n",
       "      <td>5099.100000</td>\n",
       "    </tr>\n",
       "    <tr>\n",
       "      <th>50%</th>\n",
       "      <td>38.000000</td>\n",
       "      <td>175.000000</td>\n",
       "      <td>2.000000</td>\n",
       "      <td>0.000000</td>\n",
       "      <td>93.444000</td>\n",
       "      <td>-42.00000</td>\n",
       "      <td>5191.000000</td>\n",
       "    </tr>\n",
       "    <tr>\n",
       "      <th>75%</th>\n",
       "      <td>46.000000</td>\n",
       "      <td>303.000000</td>\n",
       "      <td>3.000000</td>\n",
       "      <td>0.000000</td>\n",
       "      <td>93.918000</td>\n",
       "      <td>-36.40000</td>\n",
       "      <td>5228.100000</td>\n",
       "    </tr>\n",
       "    <tr>\n",
       "      <th>max</th>\n",
       "      <td>88.000000</td>\n",
       "      <td>971.000000</td>\n",
       "      <td>9.000000</td>\n",
       "      <td>3.000000</td>\n",
       "      <td>93.994000</td>\n",
       "      <td>-36.10000</td>\n",
       "      <td>5228.100000</td>\n",
       "    </tr>\n",
       "  </tbody>\n",
       "</table>\n",
       "</div>"
      ],
      "text/plain": [
       "                age      duration      campaign      previous  cons.price.idx  \\\n",
       "count  24567.000000  24567.000000  24567.000000  24567.000000    24567.000000   \n",
       "mean      39.536614    232.262629      2.249359      0.115399       93.502660   \n",
       "std        9.397698    184.843342      1.643319      0.337959        0.438739   \n",
       "min       18.000000      1.000000      1.000000      0.000000       92.756000   \n",
       "25%       32.000000    102.000000      1.000000      0.000000       93.075000   \n",
       "50%       38.000000    175.000000      2.000000      0.000000       93.444000   \n",
       "75%       46.000000    303.000000      3.000000      0.000000       93.918000   \n",
       "max       88.000000    971.000000      9.000000      3.000000       93.994000   \n",
       "\n",
       "       cons.conf.idx   nr.employed  \n",
       "count    24567.00000  24567.000000  \n",
       "mean       -40.97184   5178.349102  \n",
       "std          4.18347     53.308778  \n",
       "min        -47.10000   5076.200000  \n",
       "25%        -46.20000   5099.100000  \n",
       "50%        -42.00000   5191.000000  \n",
       "75%        -36.40000   5228.100000  \n",
       "max        -36.10000   5228.100000  "
      ]
     },
     "execution_count": 55,
     "metadata": {},
     "output_type": "execute_result"
    }
   ],
   "source": [
    "# melihat describe dari kolom numerical\n",
    "X_train[num_columns].describe()"
   ]
  },
  {
   "cell_type": "markdown",
   "metadata": {},
   "source": [
    "## 5.4 Handling Missing Value"
   ]
  },
  {
   "cell_type": "code",
   "execution_count": 56,
   "metadata": {},
   "outputs": [
    {
     "data": {
      "text/html": [
       "<div>\n",
       "<style scoped>\n",
       "    .dataframe tbody tr th:only-of-type {\n",
       "        vertical-align: middle;\n",
       "    }\n",
       "\n",
       "    .dataframe tbody tr th {\n",
       "        vertical-align: top;\n",
       "    }\n",
       "\n",
       "    .dataframe thead th {\n",
       "        text-align: right;\n",
       "    }\n",
       "</style>\n",
       "<table border=\"1\" class=\"dataframe\">\n",
       "  <thead>\n",
       "    <tr style=\"text-align: right;\">\n",
       "      <th></th>\n",
       "      <th>age</th>\n",
       "      <th>job</th>\n",
       "      <th>education</th>\n",
       "      <th>contact</th>\n",
       "      <th>month</th>\n",
       "      <th>duration</th>\n",
       "      <th>campaign</th>\n",
       "      <th>previous</th>\n",
       "      <th>poutcome</th>\n",
       "      <th>cons.price.idx</th>\n",
       "      <th>cons.conf.idx</th>\n",
       "      <th>nr.employed</th>\n",
       "      <th>pdays_groups</th>\n",
       "    </tr>\n",
       "  </thead>\n",
       "  <tbody>\n",
       "    <tr>\n",
       "      <th>25521</th>\n",
       "      <td>29</td>\n",
       "      <td>technician</td>\n",
       "      <td>basic.9y</td>\n",
       "      <td>cellular</td>\n",
       "      <td>nov</td>\n",
       "      <td>224</td>\n",
       "      <td>1</td>\n",
       "      <td>0</td>\n",
       "      <td>nonexistent</td>\n",
       "      <td>93.200</td>\n",
       "      <td>-42.0</td>\n",
       "      <td>5195.8</td>\n",
       "      <td>belum pernah dihubungi</td>\n",
       "    </tr>\n",
       "    <tr>\n",
       "      <th>28797</th>\n",
       "      <td>39</td>\n",
       "      <td>admin.</td>\n",
       "      <td>high.school</td>\n",
       "      <td>cellular</td>\n",
       "      <td>apr</td>\n",
       "      <td>433</td>\n",
       "      <td>2</td>\n",
       "      <td>0</td>\n",
       "      <td>nonexistent</td>\n",
       "      <td>93.075</td>\n",
       "      <td>-47.1</td>\n",
       "      <td>5099.1</td>\n",
       "      <td>belum pernah dihubungi</td>\n",
       "    </tr>\n",
       "    <tr>\n",
       "      <th>4146</th>\n",
       "      <td>28</td>\n",
       "      <td>admin.</td>\n",
       "      <td>high.school</td>\n",
       "      <td>telephone</td>\n",
       "      <td>may</td>\n",
       "      <td>165</td>\n",
       "      <td>5</td>\n",
       "      <td>0</td>\n",
       "      <td>nonexistent</td>\n",
       "      <td>93.994</td>\n",
       "      <td>-36.4</td>\n",
       "      <td>5191.0</td>\n",
       "      <td>belum pernah dihubungi</td>\n",
       "    </tr>\n",
       "    <tr>\n",
       "      <th>26110</th>\n",
       "      <td>41</td>\n",
       "      <td>management</td>\n",
       "      <td>university.degree</td>\n",
       "      <td>cellular</td>\n",
       "      <td>nov</td>\n",
       "      <td>501</td>\n",
       "      <td>4</td>\n",
       "      <td>0</td>\n",
       "      <td>nonexistent</td>\n",
       "      <td>93.200</td>\n",
       "      <td>-42.0</td>\n",
       "      <td>5195.8</td>\n",
       "      <td>belum pernah dihubungi</td>\n",
       "    </tr>\n",
       "    <tr>\n",
       "      <th>34884</th>\n",
       "      <td>39</td>\n",
       "      <td>technician</td>\n",
       "      <td>high.school</td>\n",
       "      <td>cellular</td>\n",
       "      <td>may</td>\n",
       "      <td>642</td>\n",
       "      <td>1</td>\n",
       "      <td>0</td>\n",
       "      <td>nonexistent</td>\n",
       "      <td>92.893</td>\n",
       "      <td>-46.2</td>\n",
       "      <td>5099.1</td>\n",
       "      <td>belum pernah dihubungi</td>\n",
       "    </tr>\n",
       "  </tbody>\n",
       "</table>\n",
       "</div>"
      ],
      "text/plain": [
       "       age         job          education    contact month  duration  \\\n",
       "25521   29  technician           basic.9y   cellular   nov       224   \n",
       "28797   39      admin.        high.school   cellular   apr       433   \n",
       "4146    28      admin.        high.school  telephone   may       165   \n",
       "26110   41  management  university.degree   cellular   nov       501   \n",
       "34884   39  technician        high.school   cellular   may       642   \n",
       "\n",
       "       campaign  previous     poutcome  cons.price.idx  cons.conf.idx  \\\n",
       "25521         1         0  nonexistent          93.200          -42.0   \n",
       "28797         2         0  nonexistent          93.075          -47.1   \n",
       "4146          5         0  nonexistent          93.994          -36.4   \n",
       "26110         4         0  nonexistent          93.200          -42.0   \n",
       "34884         1         0  nonexistent          92.893          -46.2   \n",
       "\n",
       "       nr.employed            pdays_groups  \n",
       "25521       5195.8  belum pernah dihubungi  \n",
       "28797       5099.1  belum pernah dihubungi  \n",
       "4146        5191.0  belum pernah dihubungi  \n",
       "26110       5195.8  belum pernah dihubungi  \n",
       "34884       5099.1  belum pernah dihubungi  "
      ]
     },
     "execution_count": 56,
     "metadata": {},
     "output_type": "execute_result"
    }
   ],
   "source": [
    "# melihat data head\n",
    "X_train.head()"
   ]
  },
  {
   "cell_type": "code",
   "execution_count": 57,
   "metadata": {},
   "outputs": [
    {
     "data": {
      "text/plain": [
       "age               0\n",
       "job               0\n",
       "education         0\n",
       "contact           0\n",
       "month             0\n",
       "duration          0\n",
       "campaign          0\n",
       "previous          0\n",
       "poutcome          0\n",
       "cons.price.idx    0\n",
       "cons.conf.idx     0\n",
       "nr.employed       0\n",
       "pdays_groups      0\n",
       "dtype: int64"
      ]
     },
     "execution_count": 57,
     "metadata": {},
     "output_type": "execute_result"
    }
   ],
   "source": [
    "# melihat jumlah missing value\n",
    "X_train.isnull().sum()"
   ]
  },
  {
   "cell_type": "code",
   "execution_count": 58,
   "metadata": {},
   "outputs": [
    {
     "data": {
      "text/plain": [
       "age                 0\n",
       "job               178\n",
       "education         899\n",
       "contact             0\n",
       "month               0\n",
       "duration            0\n",
       "campaign            0\n",
       "previous            0\n",
       "poutcome            0\n",
       "cons.price.idx      0\n",
       "cons.conf.idx       0\n",
       "nr.employed         0\n",
       "pdays_groups        0\n",
       "dtype: int64"
      ]
     },
     "execution_count": 58,
     "metadata": {},
     "output_type": "execute_result"
    }
   ],
   "source": [
    "# Melihat unexpected missing value yang bertanda 'unknown'\n",
    "X_train[X_train=='unknown'].count()"
   ]
  },
  {
   "cell_type": "code",
   "execution_count": 59,
   "metadata": {},
   "outputs": [],
   "source": [
    "# Mendrop row yang ada unknownnya\n",
    "for i in X_train.columns:\n",
    "    y_train.drop(X_train[X_train[i]=='unknown'].index, inplace=True)\n",
    "    X_train.drop(X_train[X_train[i]=='unknown'].index, inplace=True)"
   ]
  },
  {
   "cell_type": "code",
   "execution_count": 60,
   "metadata": {},
   "outputs": [],
   "source": [
    "# reset index dari X_train dan y_train\n",
    "X_train.reset_index(drop=True, inplace=True)\n",
    "y_train.reset_index(drop=True, inplace=True)"
   ]
  },
  {
   "cell_type": "code",
   "execution_count": 61,
   "metadata": {},
   "outputs": [
    {
     "data": {
      "text/plain": [
       "age               0\n",
       "job               0\n",
       "education         0\n",
       "contact           0\n",
       "month             0\n",
       "duration          0\n",
       "campaign          0\n",
       "previous          0\n",
       "poutcome          0\n",
       "cons.price.idx    0\n",
       "cons.conf.idx     0\n",
       "nr.employed       0\n",
       "pdays_groups      0\n",
       "dtype: int64"
      ]
     },
     "execution_count": 61,
     "metadata": {},
     "output_type": "execute_result"
    }
   ],
   "source": [
    "# Melihat unexpected missing value yang bertanda 'unknown'\n",
    "X_train[X_train=='unknown'].count()"
   ]
  },
  {
   "cell_type": "code",
   "execution_count": 62,
   "metadata": {},
   "outputs": [
    {
     "data": {
      "text/plain": [
       "(23557, 13)"
      ]
     },
     "execution_count": 62,
     "metadata": {},
     "output_type": "execute_result"
    }
   ],
   "source": [
    "X_train.shape"
   ]
  },
  {
   "cell_type": "code",
   "execution_count": 63,
   "metadata": {},
   "outputs": [
    {
     "data": {
      "text/plain": [
       "(23557,)"
      ]
     },
     "execution_count": 63,
     "metadata": {},
     "output_type": "execute_result"
    }
   ],
   "source": [
    "y_train.shape"
   ]
  },
  {
   "cell_type": "markdown",
   "metadata": {},
   "source": [
    "## Feature Splitting"
   ]
  },
  {
   "cell_type": "code",
   "execution_count": 64,
   "metadata": {},
   "outputs": [],
   "source": [
    "# Split X_train dan X_test ke dalam categorical dan numerical\n",
    "X_train_num = X_train[num_columns]\n",
    "X_train_cat = X_train[cat_columns]\n",
    "\n",
    "X_test_num = X_test[num_columns]\n",
    "X_test_cat = X_test[cat_columns]"
   ]
  },
  {
   "cell_type": "markdown",
   "metadata": {},
   "source": [
    "## Feature Scaling"
   ]
  },
  {
   "cell_type": "code",
   "execution_count": 65,
   "metadata": {},
   "outputs": [],
   "source": [
    "# Mendefinisikan Feature Scalling dengan StandardScaler\n",
    "scaler = MinMaxScaler()\n",
    "\n",
    "# Fit hanya kolom X_train_num\n",
    "scaler.fit(X_train_num)\n",
    "\n",
    "# Transform X_train dan X_test\n",
    "X_train_num_scaled = scaler.transform(X_train_num)\n",
    "X_test_num_scaled = scaler.transform(X_test_num)"
   ]
  },
  {
   "cell_type": "code",
   "execution_count": 66,
   "metadata": {},
   "outputs": [
    {
     "data": {
      "text/plain": [
       "(23557, 7)"
      ]
     },
     "execution_count": 66,
     "metadata": {},
     "output_type": "execute_result"
    }
   ],
   "source": [
    "# Melihat shape dari yang sudah discale\n",
    "X_train_num_scaled.shape"
   ]
  },
  {
   "cell_type": "code",
   "execution_count": 67,
   "metadata": {},
   "outputs": [
    {
     "data": {
      "text/html": [
       "<div>\n",
       "<style scoped>\n",
       "    .dataframe tbody tr th:only-of-type {\n",
       "        vertical-align: middle;\n",
       "    }\n",
       "\n",
       "    .dataframe tbody tr th {\n",
       "        vertical-align: top;\n",
       "    }\n",
       "\n",
       "    .dataframe thead th {\n",
       "        text-align: right;\n",
       "    }\n",
       "</style>\n",
       "<table border=\"1\" class=\"dataframe\">\n",
       "  <thead>\n",
       "    <tr style=\"text-align: right;\">\n",
       "      <th></th>\n",
       "      <th>age</th>\n",
       "      <th>duration</th>\n",
       "      <th>campaign</th>\n",
       "      <th>previous</th>\n",
       "      <th>cons.price.idx</th>\n",
       "      <th>cons.conf.idx</th>\n",
       "      <th>nr.employed</th>\n",
       "    </tr>\n",
       "  </thead>\n",
       "  <tbody>\n",
       "    <tr>\n",
       "      <th>count</th>\n",
       "      <td>23557.000000</td>\n",
       "      <td>23557.000000</td>\n",
       "      <td>23557.000000</td>\n",
       "      <td>23557.000000</td>\n",
       "      <td>23557.000000</td>\n",
       "      <td>23557.000000</td>\n",
       "      <td>23557.000000</td>\n",
       "    </tr>\n",
       "    <tr>\n",
       "      <th>mean</th>\n",
       "      <td>39.385108</td>\n",
       "      <td>232.266503</td>\n",
       "      <td>2.249395</td>\n",
       "      <td>0.116738</td>\n",
       "      <td>93.497760</td>\n",
       "      <td>-40.993743</td>\n",
       "      <td>5178.174224</td>\n",
       "    </tr>\n",
       "    <tr>\n",
       "      <th>std</th>\n",
       "      <td>9.327270</td>\n",
       "      <td>185.119613</td>\n",
       "      <td>1.642865</td>\n",
       "      <td>0.339494</td>\n",
       "      <td>0.438476</td>\n",
       "      <td>4.186308</td>\n",
       "      <td>53.407509</td>\n",
       "    </tr>\n",
       "    <tr>\n",
       "      <th>min</th>\n",
       "      <td>18.000000</td>\n",
       "      <td>1.000000</td>\n",
       "      <td>1.000000</td>\n",
       "      <td>0.000000</td>\n",
       "      <td>92.756000</td>\n",
       "      <td>-47.100000</td>\n",
       "      <td>5076.200000</td>\n",
       "    </tr>\n",
       "    <tr>\n",
       "      <th>25%</th>\n",
       "      <td>32.000000</td>\n",
       "      <td>102.000000</td>\n",
       "      <td>1.000000</td>\n",
       "      <td>0.000000</td>\n",
       "      <td>93.075000</td>\n",
       "      <td>-46.200000</td>\n",
       "      <td>5099.100000</td>\n",
       "    </tr>\n",
       "    <tr>\n",
       "      <th>50%</th>\n",
       "      <td>38.000000</td>\n",
       "      <td>175.000000</td>\n",
       "      <td>2.000000</td>\n",
       "      <td>0.000000</td>\n",
       "      <td>93.444000</td>\n",
       "      <td>-42.000000</td>\n",
       "      <td>5191.000000</td>\n",
       "    </tr>\n",
       "    <tr>\n",
       "      <th>75%</th>\n",
       "      <td>46.000000</td>\n",
       "      <td>303.000000</td>\n",
       "      <td>3.000000</td>\n",
       "      <td>0.000000</td>\n",
       "      <td>93.918000</td>\n",
       "      <td>-36.400000</td>\n",
       "      <td>5228.100000</td>\n",
       "    </tr>\n",
       "    <tr>\n",
       "      <th>max</th>\n",
       "      <td>88.000000</td>\n",
       "      <td>971.000000</td>\n",
       "      <td>9.000000</td>\n",
       "      <td>3.000000</td>\n",
       "      <td>93.994000</td>\n",
       "      <td>-36.100000</td>\n",
       "      <td>5228.100000</td>\n",
       "    </tr>\n",
       "  </tbody>\n",
       "</table>\n",
       "</div>"
      ],
      "text/plain": [
       "                age      duration      campaign      previous  cons.price.idx  \\\n",
       "count  23557.000000  23557.000000  23557.000000  23557.000000    23557.000000   \n",
       "mean      39.385108    232.266503      2.249395      0.116738       93.497760   \n",
       "std        9.327270    185.119613      1.642865      0.339494        0.438476   \n",
       "min       18.000000      1.000000      1.000000      0.000000       92.756000   \n",
       "25%       32.000000    102.000000      1.000000      0.000000       93.075000   \n",
       "50%       38.000000    175.000000      2.000000      0.000000       93.444000   \n",
       "75%       46.000000    303.000000      3.000000      0.000000       93.918000   \n",
       "max       88.000000    971.000000      9.000000      3.000000       93.994000   \n",
       "\n",
       "       cons.conf.idx   nr.employed  \n",
       "count   23557.000000  23557.000000  \n",
       "mean      -40.993743   5178.174224  \n",
       "std         4.186308     53.407509  \n",
       "min       -47.100000   5076.200000  \n",
       "25%       -46.200000   5099.100000  \n",
       "50%       -42.000000   5191.000000  \n",
       "75%       -36.400000   5228.100000  \n",
       "max       -36.100000   5228.100000  "
      ]
     },
     "execution_count": 67,
     "metadata": {},
     "output_type": "execute_result"
    }
   ],
   "source": [
    "X_train_num.describe()"
   ]
  },
  {
   "cell_type": "markdown",
   "metadata": {},
   "source": [
    "## Feature Encoding"
   ]
  },
  {
   "cell_type": "code",
   "execution_count": 68,
   "metadata": {},
   "outputs": [],
   "source": [
    "# Mendefinsikan Feature Encoding dengan OneHotEncoder\n",
    "enc = OneHotEncoder(handle_unknown='ignore', sparse=False)\n",
    "\n",
    "# Fit hanya pada kolom X_train_cat\n",
    "enc.fit(X_train_cat)\n",
    "\n",
    "# Transform X_train_cat dan X_Test_cat\n",
    "X_train_cat_encoded = enc.transform(X_train_cat)\n",
    "X_test_cat_encoded = enc.transform(X_test_cat)"
   ]
  },
  {
   "cell_type": "code",
   "execution_count": 69,
   "metadata": {},
   "outputs": [
    {
     "data": {
      "text/plain": [
       "(23557, 37)"
      ]
     },
     "execution_count": 69,
     "metadata": {},
     "output_type": "execute_result"
    }
   ],
   "source": [
    "# melihat shape dari X_train_cat_encoded\n",
    "X_train_cat_encoded.shape"
   ]
  },
  {
   "cell_type": "code",
   "execution_count": 70,
   "metadata": {},
   "outputs": [
    {
     "data": {
      "text/plain": [
       "array([[0., 0., 0., ..., 0., 0., 1.],\n",
       "       [1., 0., 0., ..., 0., 0., 1.],\n",
       "       [1., 0., 0., ..., 0., 0., 1.],\n",
       "       ...,\n",
       "       [0., 0., 0., ..., 0., 0., 1.],\n",
       "       [0., 1., 0., ..., 0., 0., 1.],\n",
       "       [0., 0., 0., ..., 0., 0., 1.]])"
      ]
     },
     "execution_count": 70,
     "metadata": {},
     "output_type": "execute_result"
    }
   ],
   "source": [
    "X_train_cat_encoded"
   ]
  },
  {
   "cell_type": "markdown",
   "metadata": {},
   "source": [
    "## Concatenate data numerical dan categorical"
   ]
  },
  {
   "cell_type": "code",
   "execution_count": 71,
   "metadata": {},
   "outputs": [],
   "source": [
    "# Concatenate data numerikal dan kategorical\n",
    "X_train_final = np.concatenate((X_train_num_scaled, X_train_cat_encoded), axis=1)\n",
    "X_test_final = np.concatenate((X_test_num_scaled, X_test_cat_encoded), axis=1)"
   ]
  },
  {
   "cell_type": "code",
   "execution_count": 72,
   "metadata": {},
   "outputs": [
    {
     "data": {
      "text/plain": [
       "(23557, 44)"
      ]
     },
     "execution_count": 72,
     "metadata": {},
     "output_type": "execute_result"
    }
   ],
   "source": [
    "# melihat shape dari data final\n",
    "X_train_final.shape"
   ]
  },
  {
   "cell_type": "code",
   "execution_count": 73,
   "metadata": {},
   "outputs": [
    {
     "data": {
      "text/plain": [
       "array([[0.15714286, 0.22989691, 0.        , ..., 0.        , 0.        ,\n",
       "        1.        ],\n",
       "       [0.3       , 0.44536082, 0.125     , ..., 0.        , 0.        ,\n",
       "        1.        ],\n",
       "       [0.14285714, 0.16907216, 0.5       , ..., 0.        , 0.        ,\n",
       "        1.        ],\n",
       "       ...,\n",
       "       [0.25714286, 0.36597938, 0.125     , ..., 0.        , 0.        ,\n",
       "        1.        ],\n",
       "       [0.4       , 0.25360825, 0.        , ..., 0.        , 0.        ,\n",
       "        1.        ],\n",
       "       [0.5       , 0.07010309, 0.        , ..., 0.        , 0.        ,\n",
       "        1.        ]])"
      ]
     },
     "execution_count": 73,
     "metadata": {},
     "output_type": "execute_result"
    }
   ],
   "source": [
    "X_train_final"
   ]
  },
  {
   "cell_type": "code",
   "execution_count": 74,
   "metadata": {},
   "outputs": [
    {
     "data": {
      "text/plain": [
       "0        0\n",
       "1        0\n",
       "2        0\n",
       "3        0\n",
       "4        0\n",
       "        ..\n",
       "23552    0\n",
       "23553    0\n",
       "23554    0\n",
       "23555    0\n",
       "23556    0\n",
       "Name: y, Length: 23557, dtype: int32"
      ]
     },
     "execution_count": 74,
     "metadata": {},
     "output_type": "execute_result"
    }
   ],
   "source": [
    "y_train"
   ]
  },
  {
   "cell_type": "markdown",
   "metadata": {},
   "source": [
    "# 6. Model Definition"
   ]
  },
  {
   "cell_type": "code",
   "execution_count": 75,
   "metadata": {},
   "outputs": [],
   "source": [
    "# Mendefinisikan Logistic Regression\n",
    "logreg = LogisticRegression(random_state=22, max_iter=300)\n",
    "\n",
    "# Mendefinisikan SVM\n",
    "svm = SVC(random_state=22, max_iter=200)\n",
    "\n",
    "# Mendefinisikan Decision Tree\n",
    "dt = DecisionTreeClassifier(random_state=22)\n",
    "\n",
    "# Mendefinisikan Random Forest\n",
    "rf = RandomForestClassifier(random_state=22)\n",
    "\n",
    "# Mendefinsikan Naive Bayes\n",
    "nb = MultinomialNB()\n",
    "\n",
    "# Mendefinisikan SGDC classifier\n",
    "sgdc = SGDClassifier( random_state=22, max_iter=50)\n",
    "\n",
    "# Mendefinisikan KNN classifier\n",
    "knn = KNeighborsClassifier()\n"
   ]
  },
  {
   "cell_type": "markdown",
   "metadata": {},
   "source": [
    "# 7. Model Training"
   ]
  },
  {
   "cell_type": "markdown",
   "metadata": {},
   "source": [
    "## 7.1 Cross Validation Model Awal"
   ]
  },
  {
   "cell_type": "code",
   "execution_count": 76,
   "metadata": {},
   "outputs": [
    {
     "name": "stdout",
     "output_type": "stream",
     "text": [
      "Accuracy - All - Cross Validation  :  [0.94248727 0.94609508 0.93844194 0.94056464 0.94268733]\n",
      "Accuracy - Mean - Cross Validation :  0.9420552501658692\n",
      "Accuracy - Std - Cross Validation  :  0.002537095399886928\n",
      "Accuracy - Range of Test-Set       :  0.9395181547659823 - 0.9445923455657561\n"
     ]
    }
   ],
   "source": [
    "# Melakukan cross validation logreg dengan cross validation\n",
    "acc_train_cross_val_logreg_1 = cross_val_score(logreg, X_train_final, y_train, cv=5, scoring = 'accuracy')\n",
    "print('Accuracy - All - Cross Validation  : ', acc_train_cross_val_logreg_1)\n",
    "print('Accuracy - Mean - Cross Validation : ', acc_train_cross_val_logreg_1.mean())\n",
    "print('Accuracy - Std - Cross Validation  : ', acc_train_cross_val_logreg_1.std())\n",
    "print('Accuracy - Range of Train-Set       : ', (acc_train_cross_val_logreg_1.mean()-acc_train_cross_val_logreg_1.std()) , '-', (acc_train_cross_val_logreg_1.mean()+acc_train_cross_val_logreg_1.std()))"
   ]
  },
  {
   "cell_type": "code",
   "execution_count": 77,
   "metadata": {},
   "outputs": [
    {
     "name": "stderr",
     "output_type": "stream",
     "text": [
      "C:\\Users\\Jimmy\\AppData\\Local\\Packages\\PythonSoftwareFoundation.Python.3.10_qbz5n2kfra8p0\\LocalCache\\local-packages\\Python310\\site-packages\\sklearn\\svm\\_base.py:284: ConvergenceWarning: Solver terminated early (max_iter=200).  Consider pre-processing your data with StandardScaler or MinMaxScaler.\n",
      "  warnings.warn(\n",
      "C:\\Users\\Jimmy\\AppData\\Local\\Packages\\PythonSoftwareFoundation.Python.3.10_qbz5n2kfra8p0\\LocalCache\\local-packages\\Python310\\site-packages\\sklearn\\svm\\_base.py:284: ConvergenceWarning: Solver terminated early (max_iter=200).  Consider pre-processing your data with StandardScaler or MinMaxScaler.\n",
      "  warnings.warn(\n",
      "C:\\Users\\Jimmy\\AppData\\Local\\Packages\\PythonSoftwareFoundation.Python.3.10_qbz5n2kfra8p0\\LocalCache\\local-packages\\Python310\\site-packages\\sklearn\\svm\\_base.py:284: ConvergenceWarning: Solver terminated early (max_iter=200).  Consider pre-processing your data with StandardScaler or MinMaxScaler.\n",
      "  warnings.warn(\n",
      "C:\\Users\\Jimmy\\AppData\\Local\\Packages\\PythonSoftwareFoundation.Python.3.10_qbz5n2kfra8p0\\LocalCache\\local-packages\\Python310\\site-packages\\sklearn\\svm\\_base.py:284: ConvergenceWarning: Solver terminated early (max_iter=200).  Consider pre-processing your data with StandardScaler or MinMaxScaler.\n",
      "  warnings.warn(\n",
      "C:\\Users\\Jimmy\\AppData\\Local\\Packages\\PythonSoftwareFoundation.Python.3.10_qbz5n2kfra8p0\\LocalCache\\local-packages\\Python310\\site-packages\\sklearn\\svm\\_base.py:284: ConvergenceWarning: Solver terminated early (max_iter=200).  Consider pre-processing your data with StandardScaler or MinMaxScaler.\n",
      "  warnings.warn(\n"
     ]
    },
    {
     "name": "stdout",
     "output_type": "stream",
     "text": [
      "Accuracy - All - Cross Validation  :  [0.8344652  0.92105263 0.80046699 0.91976226 0.89025685]\n",
      "Accuracy - Mean - Cross Validation :  0.8732007846390649\n",
      "Accuracy - Std - Cross Validation  :  0.04804025350061737\n",
      "Accuracy - Range of Test-Set       :  0.8251605311384476 - 0.9212410381396823\n"
     ]
    }
   ],
   "source": [
    "# Melakukan cross validation svm dengan cross validation\n",
    "acc_train_cross_val_svm_1 = cross_val_score(svm, X_train_final, y_train, cv=5, scoring = 'accuracy')\n",
    "print('Accuracy - All - Cross Validation  : ', acc_train_cross_val_svm_1)\n",
    "print('Accuracy - Mean - Cross Validation : ', acc_train_cross_val_svm_1.mean())\n",
    "print('Accuracy - Std - Cross Validation  : ', acc_train_cross_val_svm_1.std())\n",
    "print('Accuracy - Range of Train-Set       : ', (acc_train_cross_val_svm_1.mean()-acc_train_cross_val_svm_1.std()) , '-', (acc_train_cross_val_svm_1.mean()+acc_train_cross_val_svm_1.std()))"
   ]
  },
  {
   "cell_type": "code",
   "execution_count": 78,
   "metadata": {},
   "outputs": [
    {
     "name": "stdout",
     "output_type": "stream",
     "text": [
      "Accuracy - All - Cross Validation  :  [0.91850594 0.91871817 0.91254511 0.91870091 0.9208236 ]\n",
      "Accuracy - Mean - Cross Validation :  0.917858746588467\n",
      "Accuracy - Std - Cross Validation  :  0.002788973055461464\n",
      "Accuracy - Range of Test-Set       :  0.9150697735330056 - 0.9206477196439284\n"
     ]
    }
   ],
   "source": [
    "# Melakukan cross validation dt dengan cross validation\n",
    "acc_train_cross_val_dt_1 = cross_val_score(dt, X_train_final, y_train, cv=5, scoring = 'accuracy')\n",
    "print('Accuracy - All - Cross Validation  : ', acc_train_cross_val_dt_1)\n",
    "print('Accuracy - Mean - Cross Validation : ', acc_train_cross_val_dt_1.mean())\n",
    "print('Accuracy - Std - Cross Validation  : ', acc_train_cross_val_dt_1.std())\n",
    "print('Accuracy - Range of Train-Set       : ', (acc_train_cross_val_dt_1.mean()-acc_train_cross_val_dt_1.std()) , '-', (acc_train_cross_val_dt_1.mean()+acc_train_cross_val_dt_1.std()))"
   ]
  },
  {
   "cell_type": "code",
   "execution_count": 79,
   "metadata": {},
   "outputs": [
    {
     "name": "stdout",
     "output_type": "stream",
     "text": [
      "Accuracy - All - Cross Validation  :  [0.94036503 0.94460951 0.93716833 0.93759287 0.9401401 ]\n",
      "Accuracy - Mean - Cross Validation :  0.9399751655897642\n",
      "Accuracy - Std - Cross Validation  :  0.0026536763809710063\n",
      "Accuracy - Range of Test-Set       :  0.9373214892087932 - 0.9426288419707353\n"
     ]
    }
   ],
   "source": [
    "# Melakukan cross validation rf dengan cross validation\n",
    "acc_train_cross_val_rf_1 = cross_val_score(rf, X_train_final, y_train, cv=5, scoring = 'accuracy')\n",
    "print('Accuracy - All - Cross Validation  : ', acc_train_cross_val_rf_1)\n",
    "print('Accuracy - Mean - Cross Validation : ', acc_train_cross_val_rf_1.mean())\n",
    "print('Accuracy - Std - Cross Validation  : ', acc_train_cross_val_rf_1.std())\n",
    "print('Accuracy - Range of Train-Set       : ', (acc_train_cross_val_rf_1.mean()-acc_train_cross_val_rf_1.std()) , '-', (acc_train_cross_val_rf_1.mean()+acc_train_cross_val_rf_1.std()))"
   ]
  },
  {
   "cell_type": "code",
   "execution_count": 80,
   "metadata": {},
   "outputs": [
    {
     "name": "stdout",
     "output_type": "stream",
     "text": [
      "Accuracy - All - Cross Validation  :  [0.93548387 0.9356961  0.92867756 0.93589471 0.93759287]\n",
      "Accuracy - Mean - Cross Validation :  0.9346690222897032\n",
      "Accuracy - Std - Cross Validation  :  0.00308764095066715\n",
      "Accuracy - Range of Test-Set       :  0.931581381339036 - 0.9377566632403703\n"
     ]
    }
   ],
   "source": [
    "# Melakukan cross validation nb dengan cross validation\n",
    "acc_train_cross_val_nb_1 = cross_val_score(nb, X_train_final, y_train, cv=5, scoring = 'accuracy')\n",
    "print('Accuracy - All - Cross Validation  : ', acc_train_cross_val_nb_1)\n",
    "print('Accuracy - Mean - Cross Validation : ', acc_train_cross_val_nb_1.mean())\n",
    "print('Accuracy - Std - Cross Validation  : ', acc_train_cross_val_nb_1.std())\n",
    "print('Accuracy - Range of Train-Set       : ', (acc_train_cross_val_nb_1.mean()-acc_train_cross_val_nb_1.std()) , '-', (acc_train_cross_val_nb_1.mean()+acc_train_cross_val_nb_1.std()))"
   ]
  },
  {
   "cell_type": "code",
   "execution_count": 81,
   "metadata": {},
   "outputs": [
    {
     "name": "stdout",
     "output_type": "stream",
     "text": [
      "Accuracy - All - Cross Validation  :  [0.94121392 0.94439728 0.93992783 0.9428996  0.9401401 ]\n",
      "Accuracy - Mean - Cross Validation :  0.9417157456503744\n",
      "Accuracy - Std - Cross Validation  :  0.001704305734803832\n",
      "Accuracy - Range of Test-Set       :  0.9400114399155706 - 0.9434200513851783\n"
     ]
    }
   ],
   "source": [
    "# Melakukan cross validation sgdc dengan cross validation\n",
    "acc_train_cross_val_sgdc_1 = cross_val_score(sgdc, X_train_final, y_train, cv=5, scoring = 'accuracy')\n",
    "print('Accuracy - All - Cross Validation  : ', acc_train_cross_val_sgdc_1)\n",
    "print('Accuracy - Mean - Cross Validation : ', acc_train_cross_val_sgdc_1.mean())\n",
    "print('Accuracy - Std - Cross Validation  : ', acc_train_cross_val_sgdc_1.std())\n",
    "print('Accuracy - Range of Train-Set       : ', (acc_train_cross_val_sgdc_1.mean()-acc_train_cross_val_sgdc_1.std()) , '-', (acc_train_cross_val_sgdc_1.mean()+acc_train_cross_val_sgdc_1.std()))"
   ]
  },
  {
   "cell_type": "code",
   "execution_count": 82,
   "metadata": {},
   "outputs": [
    {
     "name": "stdout",
     "output_type": "stream",
     "text": [
      "Accuracy - All - Cross Validation  :  [0.93824278 0.93951613 0.93695606 0.93228614 0.93759287]\n",
      "Accuracy - Mean - Cross Validation :  0.9369187960554697\n",
      "Accuracy - Std - Cross Validation  :  0.0024664289157109937\n",
      "Accuracy - Range of Test-Set       :  0.9344523671397587 - 0.9393852249711807\n"
     ]
    }
   ],
   "source": [
    "# Melakukan cross validation knn dengan cross validation\n",
    "acc_train_cross_val_knn_1 = cross_val_score(knn, X_train_final, y_train, cv=5, scoring = 'accuracy')\n",
    "print('Accuracy - All - Cross Validation  : ', acc_train_cross_val_knn_1)\n",
    "print('Accuracy - Mean - Cross Validation : ', acc_train_cross_val_knn_1.mean())\n",
    "print('Accuracy - Std - Cross Validation  : ', acc_train_cross_val_knn_1.std())\n",
    "print('Accuracy - Range of Train-Set       : ', (acc_train_cross_val_knn_1.mean()-acc_train_cross_val_knn_1.std()) , '-', (acc_train_cross_val_knn_1.mean()+acc_train_cross_val_knn_1.std()))"
   ]
  },
  {
   "cell_type": "markdown",
   "metadata": {},
   "source": [
    "> Terlihat sebelum melakukan hyperparameter tuning, model logistic regression merupakan model yang memiliki nilai accuracy mean terbaik, yaitu 9.42. Selanjutnya setiap model akan dilakukan hyperparameter tuning dengan menggunakan random search."
   ]
  },
  {
   "cell_type": "markdown",
   "metadata": {},
   "source": [
    "## 7.2 Hyperparameter tuning dengan Randomsearch dan Gridsearch"
   ]
  },
  {
   "cell_type": "markdown",
   "metadata": {},
   "source": [
    "### 7.2.1 Logistic Regression"
   ]
  },
  {
   "cell_type": "code",
   "execution_count": 83,
   "metadata": {},
   "outputs": [
    {
     "data": {
      "text/plain": [
       "{'penalty': ['l2', 'none'],\n",
       " 'solver': ['newton-cg', 'lbfgs', 'liblinear', 'sag', 'saga'],\n",
       " 'C': [10, 120, 230, 340, 450, 560, 670, 780, 890, 1000]}"
      ]
     },
     "execution_count": 83,
     "metadata": {},
     "output_type": "execute_result"
    }
   ],
   "source": [
    "# Menentukan hyperparameter untuk logreg\n",
    "penalty = ['l2','none']\n",
    "C = [int(x) for x in np.linspace(start=10, stop=1000, num = 10)]\n",
    "solver = ['newton-cg', 'lbfgs', 'liblinear', 'sag', 'saga']\n",
    "random_grid_logreg = {'penalty': penalty,\n",
    "               'solver':solver,\n",
    "               'C':C}\n",
    "random_grid_logreg"
   ]
  },
  {
   "cell_type": "code",
   "execution_count": 84,
   "metadata": {},
   "outputs": [
    {
     "name": "stderr",
     "output_type": "stream",
     "text": [
      "C:\\Users\\Jimmy\\AppData\\Local\\Packages\\PythonSoftwareFoundation.Python.3.10_qbz5n2kfra8p0\\LocalCache\\local-packages\\Python310\\site-packages\\sklearn\\model_selection\\_validation.py:372: FitFailedWarning: \n",
      "6 fits failed out of a total of 90.\n",
      "The score on these train-test partitions for these parameters will be set to nan.\n",
      "If these failures are not expected, you can try to debug them by setting error_score='raise'.\n",
      "\n",
      "Below are more details about the failures:\n",
      "--------------------------------------------------------------------------------\n",
      "6 fits failed with the following error:\n",
      "Traceback (most recent call last):\n",
      "  File \"C:\\Users\\Jimmy\\AppData\\Local\\Packages\\PythonSoftwareFoundation.Python.3.10_qbz5n2kfra8p0\\LocalCache\\local-packages\\Python310\\site-packages\\sklearn\\model_selection\\_validation.py\", line 680, in _fit_and_score\n",
      "    estimator.fit(X_train, y_train, **fit_params)\n",
      "  File \"C:\\Users\\Jimmy\\AppData\\Local\\Packages\\PythonSoftwareFoundation.Python.3.10_qbz5n2kfra8p0\\LocalCache\\local-packages\\Python310\\site-packages\\sklearn\\linear_model\\_logistic.py\", line 1461, in fit\n",
      "    solver = _check_solver(self.solver, self.penalty, self.dual)\n",
      "  File \"C:\\Users\\Jimmy\\AppData\\Local\\Packages\\PythonSoftwareFoundation.Python.3.10_qbz5n2kfra8p0\\LocalCache\\local-packages\\Python310\\site-packages\\sklearn\\linear_model\\_logistic.py\", line 464, in _check_solver\n",
      "    raise ValueError(\"penalty='none' is not supported for the liblinear solver\")\n",
      "ValueError: penalty='none' is not supported for the liblinear solver\n",
      "\n",
      "  warnings.warn(some_fits_failed_message, FitFailedWarning)\n",
      "C:\\Users\\Jimmy\\AppData\\Local\\Packages\\PythonSoftwareFoundation.Python.3.10_qbz5n2kfra8p0\\LocalCache\\local-packages\\Python310\\site-packages\\sklearn\\model_selection\\_search.py:969: UserWarning: One or more of the test scores are non-finite: [0.94171576 0.94171576        nan 0.94167331 0.94167331 0.94167331\n",
      " 0.94167331 0.94171576 0.94171576 0.94171576 0.94167331 0.94167331\n",
      " 0.94171576        nan 0.94171576 0.94167331 0.94167331 0.94167331\n",
      " 0.94167331 0.94171576 0.94167331 0.94171576 0.94171576 0.94167331\n",
      " 0.94171576 0.94171576 0.94171576 0.94167331 0.94167331 0.94167331]\n",
      "  warnings.warn(\n"
     ]
    },
    {
     "data": {
      "text/plain": [
       "RandomizedSearchCV(cv=3,\n",
       "                   estimator=LogisticRegression(max_iter=300, random_state=22),\n",
       "                   n_iter=30, n_jobs=-1,\n",
       "                   param_distributions={'C': [10, 120, 230, 340, 450, 560, 670,\n",
       "                                              780, 890, 1000],\n",
       "                                        'penalty': ['l2', 'none'],\n",
       "                                        'solver': ['newton-cg', 'lbfgs',\n",
       "                                                   'liblinear', 'sag',\n",
       "                                                   'saga']},\n",
       "                   random_state=46)"
      ]
     },
     "execution_count": 84,
     "metadata": {},
     "output_type": "execute_result"
    }
   ],
   "source": [
    "# Train dengan Random Search\n",
    "\n",
    "logreg_randomcv = RandomizedSearchCV(estimator=logreg, \n",
    "                                 param_distributions=random_grid_logreg,\n",
    "                                 n_iter=30,\n",
    "                                 cv=3, \n",
    "                                 random_state=46, \n",
    "                                 n_jobs=-1)\n",
    "logreg_randomcv.fit(X_train_final, y_train)"
   ]
  },
  {
   "cell_type": "code",
   "execution_count": 85,
   "metadata": {},
   "outputs": [
    {
     "data": {
      "text/plain": [
       "{'solver': 'lbfgs', 'penalty': 'l2', 'C': 780}"
      ]
     },
     "execution_count": 85,
     "metadata": {},
     "output_type": "execute_result"
    }
   ],
   "source": [
    "# Melihat Hyperparameters Terbaik dari logreg\n",
    "logreg_randomcv.best_params_ "
   ]
  },
  {
   "cell_type": "code",
   "execution_count": 86,
   "metadata": {},
   "outputs": [
    {
     "data": {
      "text/plain": [
       "{'penalty': ['l2'], 'solver': ['lbfgs'], 'C': [760, 770, 780, 790, 800]}"
      ]
     },
     "execution_count": 86,
     "metadata": {},
     "output_type": "execute_result"
    }
   ],
   "source": [
    "# Hyperparameter Tuning dengan Grid Search menggunakan hasil dari random search logreg\n",
    "penalty = [logreg_randomcv.best_params_['penalty']]\n",
    "C = [logreg_randomcv.best_params_['C']-20,\n",
    "        logreg_randomcv.best_params_['C']-10,\n",
    "        logreg_randomcv.best_params_['C'],\n",
    "        logreg_randomcv.best_params_['C']+10,\n",
    "        logreg_randomcv.best_params_['C']+20,\n",
    "]\n",
    "solver = [logreg_randomcv.best_params_['solver']]\n",
    "param_grid_logreg = {'penalty': penalty,\n",
    "               'solver':solver,\n",
    "               'C':C}\n",
    "param_grid_logreg\n",
    "    "
   ]
  },
  {
   "cell_type": "code",
   "execution_count": 87,
   "metadata": {},
   "outputs": [
    {
     "name": "stdout",
     "output_type": "stream",
     "text": [
      "Fitting 5 folds for each of 5 candidates, totalling 25 fits\n"
     ]
    },
    {
     "data": {
      "text/plain": [
       "GridSearchCV(cv=5, estimator=LogisticRegression(max_iter=300, random_state=22),\n",
       "             n_jobs=-1,\n",
       "             param_grid={'C': [760, 770, 780, 790, 800], 'penalty': ['l2'],\n",
       "                         'solver': ['lbfgs']},\n",
       "             verbose=2)"
      ]
     },
     "execution_count": 87,
     "metadata": {},
     "output_type": "execute_result"
    }
   ],
   "source": [
    "# Train model logreg dengan Grid Search\n",
    "\n",
    "logreg_gridcv = GridSearchCV(estimator=logreg,\n",
    "                         param_grid=param_grid_logreg,\n",
    "                         cv=5,\n",
    "                         n_jobs=-1,\n",
    "                         verbose=2)\n",
    "\n",
    "logreg_gridcv.fit(X_train_final, y_train)"
   ]
  },
  {
   "cell_type": "code",
   "execution_count": 88,
   "metadata": {},
   "outputs": [
    {
     "data": {
      "text/plain": [
       "{'C': 760, 'penalty': 'l2', 'solver': 'lbfgs'}"
      ]
     },
     "execution_count": 88,
     "metadata": {},
     "output_type": "execute_result"
    }
   ],
   "source": [
    "# Melihat hyperparameter terbaik logreg\n",
    "logreg_gridcv.best_params_"
   ]
  },
  {
   "cell_type": "code",
   "execution_count": 89,
   "metadata": {},
   "outputs": [],
   "source": [
    "# Mendefinisikan model dengan hyperparameter terbaik\n",
    "logreg_gridcv_best = logreg_gridcv.best_estimator_"
   ]
  },
  {
   "cell_type": "code",
   "execution_count": 90,
   "metadata": {},
   "outputs": [
    {
     "name": "stdout",
     "output_type": "stream",
     "text": [
      "Accuracy - All - Cross Validation  :  [0.94227504 0.94524618 0.93759287 0.9401401  0.94205052]\n",
      "Accuracy - Mean - Cross Validation :  0.9414609415740858\n",
      "Accuracy - Std - Cross Validation  :  0.0025316009341892444\n",
      "Accuracy - Range of Test-Set       :  0.9389293406398965 - 0.943992542508275\n"
     ]
    }
   ],
   "source": [
    "# Melakukan cross validation logreg dengan cross validation\n",
    "acc_train_cross_val_logreg = cross_val_score(logreg_gridcv_best, X_train_final, y_train, cv=5, scoring = 'accuracy')\n",
    "print('Accuracy - All - Cross Validation  : ', acc_train_cross_val_logreg)\n",
    "print('Accuracy - Mean - Cross Validation : ', acc_train_cross_val_logreg.mean())\n",
    "print('Accuracy - Std - Cross Validation  : ', acc_train_cross_val_logreg.std())\n",
    "print('Accuracy - Range of Train-Set       : ', (acc_train_cross_val_logreg.mean()-acc_train_cross_val_logreg.std()) , '-', (acc_train_cross_val_logreg.mean()+acc_train_cross_val_logreg.std()))"
   ]
  },
  {
   "cell_type": "code",
   "execution_count": 161,
   "metadata": {},
   "outputs": [
    {
     "data": {
      "text/html": [
       "<div>\n",
       "<style scoped>\n",
       "    .dataframe tbody tr th:only-of-type {\n",
       "        vertical-align: middle;\n",
       "    }\n",
       "\n",
       "    .dataframe tbody tr th {\n",
       "        vertical-align: top;\n",
       "    }\n",
       "\n",
       "    .dataframe thead th {\n",
       "        text-align: right;\n",
       "    }\n",
       "</style>\n",
       "<table border=\"1\" class=\"dataframe\">\n",
       "  <thead>\n",
       "    <tr style=\"text-align: right;\">\n",
       "      <th></th>\n",
       "      <th>model</th>\n",
       "      <th>mean accuracy before</th>\n",
       "      <th>mean accuracy after</th>\n",
       "      <th>selisih mean</th>\n",
       "      <th>selisih mean (%)</th>\n",
       "      <th>std accuracy before</th>\n",
       "      <th>std accuracy after</th>\n",
       "      <th>selisih std</th>\n",
       "      <th>selisih std (%)</th>\n",
       "    </tr>\n",
       "  </thead>\n",
       "  <tbody>\n",
       "    <tr>\n",
       "      <th>0</th>\n",
       "      <td>logreg</td>\n",
       "      <td>0.942055</td>\n",
       "      <td>0.941461</td>\n",
       "      <td>-0.000594</td>\n",
       "      <td>-0.063086</td>\n",
       "      <td>0.002537</td>\n",
       "      <td>0.002532</td>\n",
       "      <td>-0.000005</td>\n",
       "      <td>-0.216565</td>\n",
       "    </tr>\n",
       "  </tbody>\n",
       "</table>\n",
       "</div>"
      ],
      "text/plain": [
       "    model  mean accuracy before  mean accuracy after  selisih mean  \\\n",
       "0  logreg              0.942055             0.941461     -0.000594   \n",
       "\n",
       "   selisih mean (%)  std accuracy before  std accuracy after  selisih std  \\\n",
       "0         -0.063086             0.002537            0.002532    -0.000005   \n",
       "\n",
       "   selisih std (%)  \n",
       "0        -0.216565  "
      ]
     },
     "execution_count": 161,
     "metadata": {},
     "output_type": "execute_result"
    }
   ],
   "source": [
    "# membuat dataframe perbandingan sebelum dan sesudah dilakukan tuning\n",
    "compare_logreg = pd.DataFrame()\n",
    "compare_logreg['model'] = ['logreg']\n",
    "compare_logreg['mean accuracy before'] = [acc_train_cross_val_logreg_1.mean()]\n",
    "compare_logreg['mean accuracy after'] = [acc_train_cross_val_logreg.mean()]\n",
    "compare_logreg['selisih mean'] = compare_logreg['mean accuracy after'] - compare_logreg['mean accuracy before']\n",
    "compare_logreg['selisih mean (%)'] = compare_logreg['selisih mean']/compare_logreg['mean accuracy before']*100\n",
    "compare_logreg['std accuracy before'] = [acc_train_cross_val_logreg_1.std()]\n",
    "compare_logreg['std accuracy after'] = [acc_train_cross_val_logreg.std()]\n",
    "compare_logreg['selisih std'] = compare_logreg['std accuracy after'] - compare_logreg['std accuracy before']\n",
    "compare_logreg['selisih std (%)'] = compare_logreg['selisih std']/compare_logreg['std accuracy before']*100\n",
    "compare_logreg"
   ]
  },
  {
   "cell_type": "markdown",
   "metadata": {},
   "source": [
    "### 7.2.2  SVM"
   ]
  },
  {
   "cell_type": "code",
   "execution_count": 92,
   "metadata": {},
   "outputs": [
    {
     "data": {
      "text/plain": [
       "{'C': [10, 120, 230, 340, 450, 560, 670, 780, 890, 1000],\n",
       " 'kernel': ['poly', 'sigmoid', 'rbf']}"
      ]
     },
     "execution_count": 92,
     "metadata": {},
     "output_type": "execute_result"
    }
   ],
   "source": [
    "# Menentukan hyperparameter untuk svm\n",
    "C = [int(x) for x in np.linspace(start=10, stop=1000, num = 10)]\n",
    "kernel = ['poly', 'sigmoid', 'rbf']\n",
    "random_grid_svm = {'C':C,'kernel':kernel}\n",
    "random_grid_svm"
   ]
  },
  {
   "cell_type": "code",
   "execution_count": 93,
   "metadata": {},
   "outputs": [
    {
     "name": "stderr",
     "output_type": "stream",
     "text": [
      "C:\\Users\\Jimmy\\AppData\\Local\\Packages\\PythonSoftwareFoundation.Python.3.10_qbz5n2kfra8p0\\LocalCache\\local-packages\\Python310\\site-packages\\sklearn\\svm\\_base.py:284: ConvergenceWarning: Solver terminated early (max_iter=200).  Consider pre-processing your data with StandardScaler or MinMaxScaler.\n",
      "  warnings.warn(\n"
     ]
    },
    {
     "data": {
      "text/plain": [
       "RandomizedSearchCV(cv=3, estimator=SVC(max_iter=200, random_state=22),\n",
       "                   n_iter=15, n_jobs=-1,\n",
       "                   param_distributions={'C': [10, 120, 230, 340, 450, 560, 670,\n",
       "                                              780, 890, 1000],\n",
       "                                        'kernel': ['poly', 'sigmoid', 'rbf']},\n",
       "                   random_state=46)"
      ]
     },
     "execution_count": 93,
     "metadata": {},
     "output_type": "execute_result"
    }
   ],
   "source": [
    "# Train dengan Random Search\n",
    "\n",
    "svm_randomcv = RandomizedSearchCV(estimator=svm, \n",
    "                                 param_distributions=random_grid_svm,\n",
    "                                 n_iter=15,\n",
    "                                 cv=3, \n",
    "                                 random_state=46, \n",
    "                                 n_jobs=-1)\n",
    "svm_randomcv.fit(X_train_final, y_train)"
   ]
  },
  {
   "cell_type": "code",
   "execution_count": 94,
   "metadata": {},
   "outputs": [
    {
     "data": {
      "text/plain": [
       "{'kernel': 'poly', 'C': 230}"
      ]
     },
     "execution_count": 94,
     "metadata": {},
     "output_type": "execute_result"
    }
   ],
   "source": [
    "# Melihat Hyperparameters Terbaik dari svm\n",
    "svm_randomcv.best_params_ "
   ]
  },
  {
   "cell_type": "code",
   "execution_count": 95,
   "metadata": {},
   "outputs": [],
   "source": [
    "# Mendefinisikan model dengan hyperparameter terbaik\n",
    "svm_randomcv_best = svm_randomcv.best_estimator_"
   ]
  },
  {
   "cell_type": "code",
   "execution_count": 96,
   "metadata": {},
   "outputs": [
    {
     "data": {
      "text/plain": [
       "{'C': [210, 220, 230, 240, 250], 'kernel': ['poly']}"
      ]
     },
     "execution_count": 96,
     "metadata": {},
     "output_type": "execute_result"
    }
   ],
   "source": [
    "# Hyperparameter Tuning dengan Grid Search menggunakan hasil dari random search svm\n",
    "C = [svm_randomcv.best_params_['C']-20,\n",
    "        svm_randomcv.best_params_['C']-10,\n",
    "        svm_randomcv.best_params_['C'],\n",
    "        svm_randomcv.best_params_['C']+10,\n",
    "        svm_randomcv.best_params_['C']+20,\n",
    "]\n",
    "kernel = [svm_randomcv.best_params_['kernel']]\n",
    "param_grid_svm = {'C':C,'kernel':kernel}\n",
    "param_grid_svm"
   ]
  },
  {
   "cell_type": "code",
   "execution_count": 97,
   "metadata": {},
   "outputs": [
    {
     "name": "stdout",
     "output_type": "stream",
     "text": [
      "Fitting 5 folds for each of 5 candidates, totalling 25 fits\n"
     ]
    },
    {
     "name": "stderr",
     "output_type": "stream",
     "text": [
      "C:\\Users\\Jimmy\\AppData\\Local\\Packages\\PythonSoftwareFoundation.Python.3.10_qbz5n2kfra8p0\\LocalCache\\local-packages\\Python310\\site-packages\\sklearn\\svm\\_base.py:284: ConvergenceWarning: Solver terminated early (max_iter=200).  Consider pre-processing your data with StandardScaler or MinMaxScaler.\n",
      "  warnings.warn(\n"
     ]
    },
    {
     "data": {
      "text/plain": [
       "GridSearchCV(cv=5, estimator=SVC(max_iter=200, random_state=22), n_jobs=-1,\n",
       "             param_grid={'C': [210, 220, 230, 240, 250], 'kernel': ['poly']},\n",
       "             verbose=2)"
      ]
     },
     "execution_count": 97,
     "metadata": {},
     "output_type": "execute_result"
    }
   ],
   "source": [
    "# Train model svm dengan Grid Search\n",
    "\n",
    "svm_gridcv = GridSearchCV(estimator=svm,\n",
    "                         param_grid=param_grid_svm,\n",
    "                         cv=5,\n",
    "                         n_jobs=-1,\n",
    "                         verbose=2)\n",
    "\n",
    "svm_gridcv.fit(X_train_final, y_train)"
   ]
  },
  {
   "cell_type": "code",
   "execution_count": 98,
   "metadata": {},
   "outputs": [
    {
     "data": {
      "text/plain": [
       "{'C': 250, 'kernel': 'poly'}"
      ]
     },
     "execution_count": 98,
     "metadata": {},
     "output_type": "execute_result"
    }
   ],
   "source": [
    "# Melihat hyperparameter terbaik svm\n",
    "svm_gridcv.best_params_"
   ]
  },
  {
   "cell_type": "code",
   "execution_count": 99,
   "metadata": {},
   "outputs": [],
   "source": [
    "# Mendefinisikan model dengan hyperparameter terbaik\n",
    "svm_gridcv_best = svm_gridcv.best_estimator_"
   ]
  },
  {
   "cell_type": "code",
   "execution_count": 100,
   "metadata": {},
   "outputs": [
    {
     "name": "stderr",
     "output_type": "stream",
     "text": [
      "C:\\Users\\Jimmy\\AppData\\Local\\Packages\\PythonSoftwareFoundation.Python.3.10_qbz5n2kfra8p0\\LocalCache\\local-packages\\Python310\\site-packages\\sklearn\\svm\\_base.py:284: ConvergenceWarning: Solver terminated early (max_iter=200).  Consider pre-processing your data with StandardScaler or MinMaxScaler.\n",
      "  warnings.warn(\n",
      "C:\\Users\\Jimmy\\AppData\\Local\\Packages\\PythonSoftwareFoundation.Python.3.10_qbz5n2kfra8p0\\LocalCache\\local-packages\\Python310\\site-packages\\sklearn\\svm\\_base.py:284: ConvergenceWarning: Solver terminated early (max_iter=200).  Consider pre-processing your data with StandardScaler or MinMaxScaler.\n",
      "  warnings.warn(\n",
      "C:\\Users\\Jimmy\\AppData\\Local\\Packages\\PythonSoftwareFoundation.Python.3.10_qbz5n2kfra8p0\\LocalCache\\local-packages\\Python310\\site-packages\\sklearn\\svm\\_base.py:284: ConvergenceWarning: Solver terminated early (max_iter=200).  Consider pre-processing your data with StandardScaler or MinMaxScaler.\n",
      "  warnings.warn(\n",
      "C:\\Users\\Jimmy\\AppData\\Local\\Packages\\PythonSoftwareFoundation.Python.3.10_qbz5n2kfra8p0\\LocalCache\\local-packages\\Python310\\site-packages\\sklearn\\svm\\_base.py:284: ConvergenceWarning: Solver terminated early (max_iter=200).  Consider pre-processing your data with StandardScaler or MinMaxScaler.\n",
      "  warnings.warn(\n"
     ]
    },
    {
     "name": "stdout",
     "output_type": "stream",
     "text": [
      "Accuracy - All - Cross Validation  :  [0.63985569 0.91468591 0.85035024 0.80789641 0.91148376]\n",
      "Accuracy - Mean - Cross Validation :  0.8248544028191075\n",
      "Accuracy - Std - Cross Validation  :  0.10073378890351191\n",
      "Accuracy - Range of Test-Set       :  0.7241206139155956 - 0.9255881917226194\n"
     ]
    },
    {
     "name": "stderr",
     "output_type": "stream",
     "text": [
      "C:\\Users\\Jimmy\\AppData\\Local\\Packages\\PythonSoftwareFoundation.Python.3.10_qbz5n2kfra8p0\\LocalCache\\local-packages\\Python310\\site-packages\\sklearn\\svm\\_base.py:284: ConvergenceWarning: Solver terminated early (max_iter=200).  Consider pre-processing your data with StandardScaler or MinMaxScaler.\n",
      "  warnings.warn(\n"
     ]
    }
   ],
   "source": [
    "# Melakukan cross validation svm dengan cross validation\n",
    "acc_train_cross_val_svm = cross_val_score(svm_gridcv_best, X_train_final, y_train, cv=5, scoring = 'accuracy')\n",
    "print('Accuracy - All - Cross Validation  : ', acc_train_cross_val_svm)\n",
    "print('Accuracy - Mean - Cross Validation : ', acc_train_cross_val_svm.mean())\n",
    "print('Accuracy - Std - Cross Validation  : ', acc_train_cross_val_svm.std())\n",
    "print('Accuracy - Range of Test-Set       : ', (acc_train_cross_val_svm.mean()-acc_train_cross_val_svm.std()) , '-', (acc_train_cross_val_svm.mean()+acc_train_cross_val_svm.std()))"
   ]
  },
  {
   "cell_type": "code",
   "execution_count": 162,
   "metadata": {},
   "outputs": [
    {
     "data": {
      "text/html": [
       "<div>\n",
       "<style scoped>\n",
       "    .dataframe tbody tr th:only-of-type {\n",
       "        vertical-align: middle;\n",
       "    }\n",
       "\n",
       "    .dataframe tbody tr th {\n",
       "        vertical-align: top;\n",
       "    }\n",
       "\n",
       "    .dataframe thead th {\n",
       "        text-align: right;\n",
       "    }\n",
       "</style>\n",
       "<table border=\"1\" class=\"dataframe\">\n",
       "  <thead>\n",
       "    <tr style=\"text-align: right;\">\n",
       "      <th></th>\n",
       "      <th>model</th>\n",
       "      <th>mean accuracy before</th>\n",
       "      <th>mean accuracy after</th>\n",
       "      <th>selisih mean</th>\n",
       "      <th>selisih mean (%)</th>\n",
       "      <th>std accuracy before</th>\n",
       "      <th>std accuracy after</th>\n",
       "      <th>selisih std</th>\n",
       "      <th>selisih std (%)</th>\n",
       "    </tr>\n",
       "  </thead>\n",
       "  <tbody>\n",
       "    <tr>\n",
       "      <th>0</th>\n",
       "      <td>svm</td>\n",
       "      <td>0.873201</td>\n",
       "      <td>0.824854</td>\n",
       "      <td>-0.048346</td>\n",
       "      <td>-5.536686</td>\n",
       "      <td>0.04804</td>\n",
       "      <td>0.100734</td>\n",
       "      <td>0.052694</td>\n",
       "      <td>109.686214</td>\n",
       "    </tr>\n",
       "  </tbody>\n",
       "</table>\n",
       "</div>"
      ],
      "text/plain": [
       "  model  mean accuracy before  mean accuracy after  selisih mean  \\\n",
       "0   svm              0.873201             0.824854     -0.048346   \n",
       "\n",
       "   selisih mean (%)  std accuracy before  std accuracy after  selisih std  \\\n",
       "0         -5.536686              0.04804            0.100734     0.052694   \n",
       "\n",
       "   selisih std (%)  \n",
       "0       109.686214  "
      ]
     },
     "execution_count": 162,
     "metadata": {},
     "output_type": "execute_result"
    }
   ],
   "source": [
    "# membuat dataframe perbandingan sebelum dan sesudah dilakukan tuning\n",
    "compare_svm = pd.DataFrame()\n",
    "compare_svm['model'] = ['svm']\n",
    "compare_svm['mean accuracy before'] = [acc_train_cross_val_svm_1.mean()]\n",
    "compare_svm['mean accuracy after'] = [acc_train_cross_val_svm.mean()]\n",
    "compare_svm['selisih mean'] = compare_svm['mean accuracy after'] - compare_svm['mean accuracy before']\n",
    "compare_svm['selisih mean (%)'] = compare_svm['selisih mean']/compare_svm['mean accuracy before']*100\n",
    "compare_svm['std accuracy before'] = [acc_train_cross_val_svm_1.std()]\n",
    "compare_svm['std accuracy after'] = [acc_train_cross_val_svm.std()]\n",
    "compare_svm['selisih std'] = compare_svm['std accuracy after'] - compare_svm['std accuracy before']\n",
    "compare_svm['selisih std (%)'] = compare_svm['selisih std']/compare_svm['std accuracy before']*100\n",
    "compare_svm"
   ]
  },
  {
   "cell_type": "markdown",
   "metadata": {},
   "source": [
    "### 7.2.3. Decision Tree"
   ]
  },
  {
   "cell_type": "code",
   "execution_count": 101,
   "metadata": {},
   "outputs": [],
   "source": [
    "# Menentukan hyperparameter untuk dt\n",
    "criterion = ['gini', 'entropy']\n",
    "splitter= ['best', 'random']\n",
    "max_depth = [int(x) for x in np.linspace(10, 100, num = 5)]\n",
    "min_samples_split = [2, 5, 10]\n",
    "min_samples_leaf = [1, 2, 4]\n",
    "random_grid_dt = {'criterion': criterion, 'splitter': splitter, 'max_depth': max_depth, 'min_samples_split': min_samples_split, 'min_samples_leaf': min_samples_leaf}"
   ]
  },
  {
   "cell_type": "code",
   "execution_count": 102,
   "metadata": {},
   "outputs": [
    {
     "data": {
      "text/plain": [
       "RandomizedSearchCV(cv=3, estimator=DecisionTreeClassifier(random_state=22),\n",
       "                   n_iter=15, n_jobs=-1,\n",
       "                   param_distributions={'criterion': ['gini', 'entropy'],\n",
       "                                        'max_depth': [10, 32, 55, 77, 100],\n",
       "                                        'min_samples_leaf': [1, 2, 4],\n",
       "                                        'min_samples_split': [2, 5, 10],\n",
       "                                        'splitter': ['best', 'random']},\n",
       "                   random_state=46)"
      ]
     },
     "execution_count": 102,
     "metadata": {},
     "output_type": "execute_result"
    }
   ],
   "source": [
    "# Train dengan Random Search\n",
    "\n",
    "dt_randomcv = RandomizedSearchCV(estimator=dt, \n",
    "                                 param_distributions=random_grid_dt,\n",
    "                                 n_iter=15,\n",
    "                                 cv=3, \n",
    "                                 random_state=46, \n",
    "                                 n_jobs=-1)\n",
    "dt_randomcv.fit(X_train_final, y_train)"
   ]
  },
  {
   "cell_type": "code",
   "execution_count": 103,
   "metadata": {},
   "outputs": [
    {
     "data": {
      "text/plain": [
       "{'splitter': 'random',\n",
       " 'min_samples_split': 10,\n",
       " 'min_samples_leaf': 4,\n",
       " 'max_depth': 10,\n",
       " 'criterion': 'gini'}"
      ]
     },
     "execution_count": 103,
     "metadata": {},
     "output_type": "execute_result"
    }
   ],
   "source": [
    "# Melihat Hyperparameters Terbaik dari dt\n",
    "dt_randomcv.best_params_ "
   ]
  },
  {
   "cell_type": "code",
   "execution_count": 104,
   "metadata": {},
   "outputs": [],
   "source": [
    "# Mendefinisikan model dengan hyperparameter terbaik\n",
    "dt_randomcv_best = dt_randomcv.best_estimator_"
   ]
  },
  {
   "cell_type": "code",
   "execution_count": 105,
   "metadata": {},
   "outputs": [],
   "source": [
    "# Hyperparameter Tuning dengan Grid Search menggunakan hasil dari random search dt\n",
    "criterion = [dt_randomcv.best_params_['criterion']]\n",
    "splitter= [dt_randomcv.best_params_['splitter']]\n",
    "max_depth = [dt_randomcv.best_params_['max_depth']-5,\n",
    "        dt_randomcv.best_params_['max_depth'],\n",
    "        dt_randomcv.best_params_['max_depth']+5,\n",
    "]\n",
    "min_samples_split = [dt_randomcv.best_params_['min_samples_split']]\n",
    "min_samples_leaf = [dt_randomcv.best_params_['min_samples_leaf']-1,\n",
    "        dt_randomcv.best_params_['min_samples_leaf'],\n",
    "        dt_randomcv.best_params_['min_samples_leaf']+1,\n",
    "]   \n",
    "param_grid_dt = {'criterion': criterion, 'splitter': splitter, 'max_depth': max_depth, 'min_samples_split': min_samples_split, 'min_samples_leaf': min_samples_leaf}"
   ]
  },
  {
   "cell_type": "code",
   "execution_count": 106,
   "metadata": {},
   "outputs": [
    {
     "name": "stdout",
     "output_type": "stream",
     "text": [
      "Fitting 3 folds for each of 9 candidates, totalling 27 fits\n"
     ]
    },
    {
     "data": {
      "text/plain": [
       "GridSearchCV(cv=3, estimator=DecisionTreeClassifier(random_state=22), n_jobs=-1,\n",
       "             param_grid={'criterion': ['gini'], 'max_depth': [5, 10, 15],\n",
       "                         'min_samples_leaf': [3, 4, 5],\n",
       "                         'min_samples_split': [10], 'splitter': ['random']},\n",
       "             verbose=2)"
      ]
     },
     "execution_count": 106,
     "metadata": {},
     "output_type": "execute_result"
    }
   ],
   "source": [
    "# Train model dt dengan Grid Search\n",
    "\n",
    "dt_gridcv = GridSearchCV(estimator=dt,\n",
    "                         param_grid=param_grid_dt,\n",
    "                         cv=3,\n",
    "                         n_jobs=-1,\n",
    "                         verbose=2)\n",
    "\n",
    "dt_gridcv.fit(X_train_final, y_train)"
   ]
  },
  {
   "cell_type": "code",
   "execution_count": 107,
   "metadata": {},
   "outputs": [
    {
     "data": {
      "text/plain": [
       "{'criterion': 'gini',\n",
       " 'max_depth': 5,\n",
       " 'min_samples_leaf': 3,\n",
       " 'min_samples_split': 10,\n",
       " 'splitter': 'random'}"
      ]
     },
     "execution_count": 107,
     "metadata": {},
     "output_type": "execute_result"
    }
   ],
   "source": [
    "# Melihat hyperparameter terbaik dt\n",
    "dt_gridcv.best_params_"
   ]
  },
  {
   "cell_type": "code",
   "execution_count": 108,
   "metadata": {},
   "outputs": [],
   "source": [
    "# Mendefinisikan model dengan hyperparameter terbaik\n",
    "dt_gridcv_best = dt_gridcv.best_estimator_"
   ]
  },
  {
   "cell_type": "code",
   "execution_count": 109,
   "metadata": {},
   "outputs": [
    {
     "name": "stdout",
     "output_type": "stream",
     "text": [
      "Accuracy - All - Cross Validation  :  [0.94269949 0.94439728 0.93822968 0.94120144 0.94120144]\n",
      "Accuracy - Mean - Cross Validation :  0.9415458672564554\n",
      "Accuracy - Std - Cross Validation  :  0.0020344929023045064\n",
      "Accuracy - Range of Test-Set       :  0.9395113743541509 - 0.9435803601587599\n"
     ]
    }
   ],
   "source": [
    "# Melakukan cross validation dt dengan cross validation\n",
    "acc_train_cross_val_dt = cross_val_score(dt_gridcv_best, X_train_final, y_train, cv=5, scoring = 'accuracy')\n",
    "print('Accuracy - All - Cross Validation  : ', acc_train_cross_val_dt)\n",
    "print('Accuracy - Mean - Cross Validation : ', acc_train_cross_val_dt.mean())\n",
    "print('Accuracy - Std - Cross Validation  : ', acc_train_cross_val_dt.std())\n",
    "print('Accuracy - Range of Train-Set       : ', (acc_train_cross_val_dt.mean()-acc_train_cross_val_dt.std()) , '-', (acc_train_cross_val_dt.mean()+acc_train_cross_val_dt.std()))"
   ]
  },
  {
   "cell_type": "code",
   "execution_count": 163,
   "metadata": {},
   "outputs": [
    {
     "data": {
      "text/html": [
       "<div>\n",
       "<style scoped>\n",
       "    .dataframe tbody tr th:only-of-type {\n",
       "        vertical-align: middle;\n",
       "    }\n",
       "\n",
       "    .dataframe tbody tr th {\n",
       "        vertical-align: top;\n",
       "    }\n",
       "\n",
       "    .dataframe thead th {\n",
       "        text-align: right;\n",
       "    }\n",
       "</style>\n",
       "<table border=\"1\" class=\"dataframe\">\n",
       "  <thead>\n",
       "    <tr style=\"text-align: right;\">\n",
       "      <th></th>\n",
       "      <th>model</th>\n",
       "      <th>mean accuracy before</th>\n",
       "      <th>mean accuracy after</th>\n",
       "      <th>selisih mean</th>\n",
       "      <th>selisih mean (%)</th>\n",
       "      <th>std accuracy before</th>\n",
       "      <th>std accuracy after</th>\n",
       "      <th>selisih std</th>\n",
       "      <th>selisih std (%)</th>\n",
       "    </tr>\n",
       "  </thead>\n",
       "  <tbody>\n",
       "    <tr>\n",
       "      <th>0</th>\n",
       "      <td>dt</td>\n",
       "      <td>0.917859</td>\n",
       "      <td>0.941546</td>\n",
       "      <td>0.023687</td>\n",
       "      <td>2.580693</td>\n",
       "      <td>0.002789</td>\n",
       "      <td>0.002034</td>\n",
       "      <td>-0.000754</td>\n",
       "      <td>-27.052257</td>\n",
       "    </tr>\n",
       "  </tbody>\n",
       "</table>\n",
       "</div>"
      ],
      "text/plain": [
       "  model  mean accuracy before  mean accuracy after  selisih mean  \\\n",
       "0    dt              0.917859             0.941546      0.023687   \n",
       "\n",
       "   selisih mean (%)  std accuracy before  std accuracy after  selisih std  \\\n",
       "0          2.580693             0.002789            0.002034    -0.000754   \n",
       "\n",
       "   selisih std (%)  \n",
       "0       -27.052257  "
      ]
     },
     "execution_count": 163,
     "metadata": {},
     "output_type": "execute_result"
    }
   ],
   "source": [
    "# membuat dataframe perbandingan sebelum dan sesudah dilakukan tuning\n",
    "compare_dt = pd.DataFrame()\n",
    "compare_dt['model'] = ['dt']\n",
    "compare_dt['mean accuracy before'] = [acc_train_cross_val_dt_1.mean()]\n",
    "compare_dt['mean accuracy after'] = [acc_train_cross_val_dt.mean()]\n",
    "compare_dt['selisih mean'] = compare_dt['mean accuracy after'] - compare_dt['mean accuracy before']\n",
    "compare_dt['selisih mean (%)'] = compare_dt['selisih mean']/compare_dt['mean accuracy before']*100\n",
    "compare_dt['std accuracy before'] = [acc_train_cross_val_dt_1.std()]\n",
    "compare_dt['std accuracy after'] = [acc_train_cross_val_dt.std()]\n",
    "compare_dt['selisih std'] = compare_dt['std accuracy after'] - compare_dt['std accuracy before']\n",
    "compare_dt['selisih std (%)'] = compare_dt['selisih std']/compare_dt['std accuracy before']*100\n",
    "compare_dt"
   ]
  },
  {
   "cell_type": "markdown",
   "metadata": {},
   "source": [
    "### 7.2.4. Random Forest"
   ]
  },
  {
   "cell_type": "code",
   "execution_count": 110,
   "metadata": {},
   "outputs": [],
   "source": [
    "# Menentukan hyperparameter untuk rf\n",
    "n_estimators = [int(x) for x in np.linspace(start = 200, stop = 1000, num = 5)]\n",
    "max_depth = [int(x) for x in np.linspace(10, 100, num = 5)]\n",
    "min_samples_split = [2, 5, 10]\n",
    "random_grid_rf = {'n_estimators': n_estimators, 'max_depth': max_depth, 'min_samples_split': min_samples_split}"
   ]
  },
  {
   "cell_type": "code",
   "execution_count": 111,
   "metadata": {},
   "outputs": [
    {
     "data": {
      "text/plain": [
       "RandomizedSearchCV(cv=3, estimator=RandomForestClassifier(random_state=22),\n",
       "                   n_iter=20, n_jobs=-1,\n",
       "                   param_distributions={'max_depth': [10, 32, 55, 77, 100],\n",
       "                                        'min_samples_split': [2, 5, 10],\n",
       "                                        'n_estimators': [200, 400, 600, 800,\n",
       "                                                         1000]},\n",
       "                   random_state=46)"
      ]
     },
     "execution_count": 111,
     "metadata": {},
     "output_type": "execute_result"
    }
   ],
   "source": [
    "# Train dengan Random Search\n",
    "\n",
    "rf_randomcv = RandomizedSearchCV(estimator=rf, \n",
    "                                 param_distributions=random_grid_rf,\n",
    "                                 n_iter=20,\n",
    "                                 cv=3, \n",
    "                                 random_state=46, \n",
    "                                 n_jobs=-1)\n",
    "rf_randomcv.fit(X_train_final, y_train)"
   ]
  },
  {
   "cell_type": "code",
   "execution_count": 112,
   "metadata": {},
   "outputs": [
    {
     "data": {
      "text/plain": [
       "{'n_estimators': 200, 'min_samples_split': 10, 'max_depth': 32}"
      ]
     },
     "execution_count": 112,
     "metadata": {},
     "output_type": "execute_result"
    }
   ],
   "source": [
    "# Melihat Hyperparameters Terbaik dari rf\n",
    "rf_randomcv.best_params_ "
   ]
  },
  {
   "cell_type": "code",
   "execution_count": 113,
   "metadata": {},
   "outputs": [],
   "source": [
    "# Mendefinisikan model dengan hyperparameter terbaik\n",
    "rf_randomcv_best = rf_randomcv.best_estimator_"
   ]
  },
  {
   "cell_type": "code",
   "execution_count": 114,
   "metadata": {},
   "outputs": [],
   "source": [
    "# Hyperparameter Tuning dengan Grid Search menggunakan hasil dari random search rf\n",
    "n_estimators = [rf_randomcv.best_params_['n_estimators']-50,\n",
    "        rf_randomcv.best_params_['n_estimators'],\n",
    "        rf_randomcv.best_params_['n_estimators']+50,\n",
    "]\n",
    "max_depth = [rf_randomcv.best_params_['max_depth']-5,\n",
    "        rf_randomcv.best_params_['max_depth'],\n",
    "        rf_randomcv.best_params_['max_depth']+5,\n",
    "]   \n",
    "min_samples_split = [rf_randomcv.best_params_['min_samples_split']]   \n",
    "param_grid_rf = {'n_estimators': n_estimators,'max_depth': max_depth,  'min_samples_split': min_samples_split}"
   ]
  },
  {
   "cell_type": "code",
   "execution_count": 115,
   "metadata": {},
   "outputs": [
    {
     "name": "stdout",
     "output_type": "stream",
     "text": [
      "Fitting 3 folds for each of 9 candidates, totalling 27 fits\n"
     ]
    },
    {
     "data": {
      "text/plain": [
       "GridSearchCV(cv=3, estimator=RandomForestClassifier(random_state=22), n_jobs=-1,\n",
       "             param_grid={'max_depth': [27, 32, 37], 'min_samples_split': [10],\n",
       "                         'n_estimators': [150, 200, 250]},\n",
       "             verbose=2)"
      ]
     },
     "execution_count": 115,
     "metadata": {},
     "output_type": "execute_result"
    }
   ],
   "source": [
    "# Train model rf dengan Grid Search\n",
    "\n",
    "rf_gridcv = GridSearchCV(estimator=rf,\n",
    "                         param_grid=param_grid_rf,\n",
    "                         cv=3,\n",
    "                         n_jobs=-1,\n",
    "                         verbose=2)\n",
    "\n",
    "rf_gridcv.fit(X_train_final, y_train)"
   ]
  },
  {
   "cell_type": "code",
   "execution_count": 116,
   "metadata": {},
   "outputs": [
    {
     "data": {
      "text/plain": [
       "{'max_depth': 27, 'min_samples_split': 10, 'n_estimators': 150}"
      ]
     },
     "execution_count": 116,
     "metadata": {},
     "output_type": "execute_result"
    }
   ],
   "source": [
    "# Melihat hyperparameter terbaik rf\n",
    "rf_gridcv.best_params_"
   ]
  },
  {
   "cell_type": "code",
   "execution_count": 117,
   "metadata": {},
   "outputs": [],
   "source": [
    "# Mendefinisikan model dengan hyperparameter terbaik\n",
    "rf_gridcv_best = rf_gridcv.best_estimator_"
   ]
  },
  {
   "cell_type": "code",
   "execution_count": 118,
   "metadata": {},
   "outputs": [
    {
     "name": "stdout",
     "output_type": "stream",
     "text": [
      "Accuracy - All - Cross Validation  :  [0.94460951 0.94821732 0.93865421 0.94268733 0.94268733]\n",
      "Accuracy - Mean - Cross Validation :  0.9433711387465452\n",
      "Accuracy - Std - Cross Validation  :  0.0031049503969505458\n",
      "Accuracy - Range of Test-Set       :  0.9402661883495946 - 0.9464760891434958\n"
     ]
    }
   ],
   "source": [
    "# Melakukan cross validation rf dengan cross validation\n",
    "acc_train_cross_val_rf = cross_val_score(rf_gridcv_best, X_train_final, y_train, cv=5, scoring = 'accuracy')\n",
    "print('Accuracy - All - Cross Validation  : ', acc_train_cross_val_rf)\n",
    "print('Accuracy - Mean - Cross Validation : ', acc_train_cross_val_rf.mean())\n",
    "print('Accuracy - Std - Cross Validation  : ', acc_train_cross_val_rf.std())\n",
    "print('Accuracy - Range of Train-Set       : ', (acc_train_cross_val_rf.mean()-acc_train_cross_val_rf.std()) , '-', (acc_train_cross_val_rf.mean()+acc_train_cross_val_rf.std()))"
   ]
  },
  {
   "cell_type": "code",
   "execution_count": 164,
   "metadata": {},
   "outputs": [
    {
     "data": {
      "text/html": [
       "<div>\n",
       "<style scoped>\n",
       "    .dataframe tbody tr th:only-of-type {\n",
       "        vertical-align: middle;\n",
       "    }\n",
       "\n",
       "    .dataframe tbody tr th {\n",
       "        vertical-align: top;\n",
       "    }\n",
       "\n",
       "    .dataframe thead th {\n",
       "        text-align: right;\n",
       "    }\n",
       "</style>\n",
       "<table border=\"1\" class=\"dataframe\">\n",
       "  <thead>\n",
       "    <tr style=\"text-align: right;\">\n",
       "      <th></th>\n",
       "      <th>model</th>\n",
       "      <th>mean accuracy before</th>\n",
       "      <th>mean accuracy after</th>\n",
       "      <th>selisih mean</th>\n",
       "      <th>selisih mean (%)</th>\n",
       "      <th>std accuracy before</th>\n",
       "      <th>std accuracy after</th>\n",
       "      <th>selisih std</th>\n",
       "      <th>selisih std (%)</th>\n",
       "    </tr>\n",
       "  </thead>\n",
       "  <tbody>\n",
       "    <tr>\n",
       "      <th>0</th>\n",
       "      <td>rf</td>\n",
       "      <td>0.939975</td>\n",
       "      <td>0.943371</td>\n",
       "      <td>0.003396</td>\n",
       "      <td>0.361283</td>\n",
       "      <td>0.002654</td>\n",
       "      <td>0.003105</td>\n",
       "      <td>0.000451</td>\n",
       "      <td>17.005616</td>\n",
       "    </tr>\n",
       "  </tbody>\n",
       "</table>\n",
       "</div>"
      ],
      "text/plain": [
       "  model  mean accuracy before  mean accuracy after  selisih mean  \\\n",
       "0    rf              0.939975             0.943371      0.003396   \n",
       "\n",
       "   selisih mean (%)  std accuracy before  std accuracy after  selisih std  \\\n",
       "0          0.361283             0.002654            0.003105     0.000451   \n",
       "\n",
       "   selisih std (%)  \n",
       "0        17.005616  "
      ]
     },
     "execution_count": 164,
     "metadata": {},
     "output_type": "execute_result"
    }
   ],
   "source": [
    "# membuat dataframe perbandingan sebelum dan sesudah dilakukan tuning\n",
    "compare_rf = pd.DataFrame()\n",
    "compare_rf['model'] = ['rf']\n",
    "compare_rf['mean accuracy before'] = [acc_train_cross_val_rf_1.mean()]\n",
    "compare_rf['mean accuracy after'] = [acc_train_cross_val_rf.mean()]\n",
    "compare_rf['selisih mean'] = compare_rf['mean accuracy after'] - compare_rf['mean accuracy before']\n",
    "compare_rf['selisih mean (%)'] = compare_rf['selisih mean']/compare_rf['mean accuracy before']*100\n",
    "compare_rf['std accuracy before'] = [acc_train_cross_val_rf_1.std()]\n",
    "compare_rf['std accuracy after'] = [acc_train_cross_val_rf.std()]\n",
    "compare_rf['selisih std'] = compare_rf['std accuracy after'] - compare_rf['std accuracy before']\n",
    "compare_rf['selisih std (%)'] = compare_rf['selisih std']/compare_rf['std accuracy before']*100\n",
    "compare_rf"
   ]
  },
  {
   "cell_type": "markdown",
   "metadata": {},
   "source": [
    "### 7.2.5. Naive Bayes"
   ]
  },
  {
   "cell_type": "code",
   "execution_count": 119,
   "metadata": {},
   "outputs": [],
   "source": [
    "# Menentukan hyperparameter untuk nb\n",
    "alpha = [0.1, 0.5, 1]\n",
    "param_grid_nb = {'alpha': alpha}"
   ]
  },
  {
   "cell_type": "code",
   "execution_count": 120,
   "metadata": {},
   "outputs": [
    {
     "name": "stdout",
     "output_type": "stream",
     "text": [
      "Fitting 5 folds for each of 3 candidates, totalling 15 fits\n"
     ]
    },
    {
     "data": {
      "text/plain": [
       "GridSearchCV(cv=5, estimator=MultinomialNB(), n_jobs=-1,\n",
       "             param_grid={'alpha': [0.1, 0.5, 1]}, verbose=2)"
      ]
     },
     "execution_count": 120,
     "metadata": {},
     "output_type": "execute_result"
    }
   ],
   "source": [
    "# Train dengan Grid Search karena hanya 3 kemungkinan yang ingin diuji\n",
    "\n",
    "nb_gridcv = GridSearchCV(estimator=nb, \n",
    "                                 param_grid=param_grid_nb,\n",
    "                                 cv=5, \n",
    "                                 verbose=2, \n",
    "                                 n_jobs=-1)\n",
    "nb_gridcv.fit(X_train_final, y_train)"
   ]
  },
  {
   "cell_type": "code",
   "execution_count": 121,
   "metadata": {},
   "outputs": [
    {
     "data": {
      "text/plain": [
       "{'alpha': 1}"
      ]
     },
     "execution_count": 121,
     "metadata": {},
     "output_type": "execute_result"
    }
   ],
   "source": [
    "# Melihat hyperparameter terbaik nb\n",
    "nb_gridcv.best_params_"
   ]
  },
  {
   "cell_type": "code",
   "execution_count": 122,
   "metadata": {},
   "outputs": [],
   "source": [
    "# Mendefinisikan model dengan hyperparameter terbaik\n",
    "nb_gridcv_best = nb_gridcv.best_estimator_"
   ]
  },
  {
   "cell_type": "code",
   "execution_count": 123,
   "metadata": {},
   "outputs": [
    {
     "name": "stdout",
     "output_type": "stream",
     "text": [
      "Accuracy - All - Cross Validation  :  [0.93548387 0.9356961  0.92867756 0.93589471 0.93759287]\n",
      "Accuracy - Mean - Cross Validation :  0.9346690222897032\n",
      "Accuracy - Std - Cross Validation  :  0.00308764095066715\n",
      "Accuracy - Range of Test-Set       :  0.931581381339036 - 0.9377566632403703\n"
     ]
    }
   ],
   "source": [
    "# Melakukan cross validation nb dengan cross validation\n",
    "acc_train_cross_val_nb = cross_val_score(nb_gridcv_best, X_train_final, y_train, cv=5, scoring = 'accuracy')\n",
    "print('Accuracy - All - Cross Validation  : ', acc_train_cross_val_nb)\n",
    "print('Accuracy - Mean - Cross Validation : ', acc_train_cross_val_nb.mean())\n",
    "print('Accuracy - Std - Cross Validation  : ', acc_train_cross_val_nb.std())\n",
    "print('Accuracy - Range of Train-Set       : ', (acc_train_cross_val_nb.mean()-acc_train_cross_val_nb.std()) , '-', (acc_train_cross_val_nb.mean()+acc_train_cross_val_nb.std()))"
   ]
  },
  {
   "cell_type": "code",
   "execution_count": 211,
   "metadata": {},
   "outputs": [
    {
     "data": {
      "text/html": [
       "<div>\n",
       "<style scoped>\n",
       "    .dataframe tbody tr th:only-of-type {\n",
       "        vertical-align: middle;\n",
       "    }\n",
       "\n",
       "    .dataframe tbody tr th {\n",
       "        vertical-align: top;\n",
       "    }\n",
       "\n",
       "    .dataframe thead th {\n",
       "        text-align: right;\n",
       "    }\n",
       "</style>\n",
       "<table border=\"1\" class=\"dataframe\">\n",
       "  <thead>\n",
       "    <tr style=\"text-align: right;\">\n",
       "      <th></th>\n",
       "      <th>model</th>\n",
       "      <th>mean accuracy before</th>\n",
       "      <th>mean accuracy after</th>\n",
       "      <th>selisih mean</th>\n",
       "      <th>selisih mean (%)</th>\n",
       "      <th>std accuracy before</th>\n",
       "      <th>std accuracy after</th>\n",
       "      <th>selisih std</th>\n",
       "      <th>selisih std (%)</th>\n",
       "    </tr>\n",
       "  </thead>\n",
       "  <tbody>\n",
       "    <tr>\n",
       "      <th>0</th>\n",
       "      <td>nb</td>\n",
       "      <td>0.934669</td>\n",
       "      <td>0.934669</td>\n",
       "      <td>0.0</td>\n",
       "      <td>0.0</td>\n",
       "      <td>0.003088</td>\n",
       "      <td>0.003088</td>\n",
       "      <td>0.0</td>\n",
       "      <td>0.0</td>\n",
       "    </tr>\n",
       "  </tbody>\n",
       "</table>\n",
       "</div>"
      ],
      "text/plain": [
       "  model  mean accuracy before  mean accuracy after  selisih mean  \\\n",
       "0    nb              0.934669             0.934669           0.0   \n",
       "\n",
       "   selisih mean (%)  std accuracy before  std accuracy after  selisih std  \\\n",
       "0               0.0             0.003088            0.003088          0.0   \n",
       "\n",
       "   selisih std (%)  \n",
       "0              0.0  "
      ]
     },
     "execution_count": 211,
     "metadata": {},
     "output_type": "execute_result"
    }
   ],
   "source": [
    "# membuat dataframe perbandingan sebelum dan sesudah dilakukan tuning\n",
    "compare_nb = pd.DataFrame()\n",
    "compare_nb['model'] = ['nb']\n",
    "compare_nb['mean accuracy before'] = [acc_train_cross_val_nb_1.mean()]\n",
    "compare_nb['mean accuracy after'] = [acc_train_cross_val_nb.mean()]\n",
    "compare_nb['selisih mean'] = compare_nb['mean accuracy after'] - compare_nb['mean accuracy before']\n",
    "compare_nb['selisih mean (%)'] = compare_nb['selisih mean']/compare_nb['mean accuracy before']*100\n",
    "compare_nb['std accuracy before'] = [acc_train_cross_val_nb_1.std()]\n",
    "compare_nb['std accuracy after'] = [acc_train_cross_val_nb.std()]\n",
    "compare_nb['selisih std'] = compare_nb['std accuracy after'] - compare_nb['std accuracy before']\n",
    "compare_nb['selisih std (%)'] = compare_nb['selisih std']/compare_nb['std accuracy before']*100\n",
    "compare_nb"
   ]
  },
  {
   "cell_type": "markdown",
   "metadata": {},
   "source": [
    "### 7.2.6. SDGClasiifier"
   ]
  },
  {
   "cell_type": "code",
   "execution_count": 124,
   "metadata": {},
   "outputs": [],
   "source": [
    "# Menentukan hyperparameter untuk sgdc\n",
    "penalty= ['l2','l1','elasticnet']\n",
    "alpha = [0.0001, 0.001, 0.01]\n",
    "epsilon = [0.1, 0.5, 1.0]\n",
    "random_grid_sgdc = {'penalty': penalty, 'alpha': alpha, 'epsilon': epsilon}"
   ]
  },
  {
   "cell_type": "code",
   "execution_count": 125,
   "metadata": {},
   "outputs": [
    {
     "data": {
      "text/plain": [
       "RandomizedSearchCV(cv=3, estimator=SGDClassifier(max_iter=50, random_state=22),\n",
       "                   n_iter=15, n_jobs=-1,\n",
       "                   param_distributions={'alpha': [0.0001, 0.001, 0.01],\n",
       "                                        'epsilon': [0.1, 0.5, 1.0],\n",
       "                                        'penalty': ['l2', 'l1', 'elasticnet']},\n",
       "                   random_state=46)"
      ]
     },
     "execution_count": 125,
     "metadata": {},
     "output_type": "execute_result"
    }
   ],
   "source": [
    "# Train dengan Random Search\n",
    "\n",
    "sgdc_randomcv = RandomizedSearchCV(estimator=sgdc, \n",
    "                                 param_distributions=random_grid_sgdc,\n",
    "                                 n_iter=15,\n",
    "                                 cv=3, \n",
    "                                 random_state=46, \n",
    "                                 n_jobs=-1)\n",
    "sgdc_randomcv.fit(X_train_final, y_train)"
   ]
  },
  {
   "cell_type": "code",
   "execution_count": 126,
   "metadata": {},
   "outputs": [
    {
     "data": {
      "text/plain": [
       "{'penalty': 'l2', 'epsilon': 0.5, 'alpha': 0.0001}"
      ]
     },
     "execution_count": 126,
     "metadata": {},
     "output_type": "execute_result"
    }
   ],
   "source": [
    "# Melihat Hyperparameters Terbaik dari sgdc\n",
    "sgdc_randomcv.best_params_ "
   ]
  },
  {
   "cell_type": "code",
   "execution_count": 127,
   "metadata": {},
   "outputs": [
    {
     "data": {
      "text/plain": [
       "{'penalty': ['l2'],\n",
       " 'alpha': [5e-05, 0.0001, 0.0002, 0.00030000000000000003],\n",
       " 'epsilon': [0.3, 0.4, 0.5, 0.6, 0.7]}"
      ]
     },
     "execution_count": 127,
     "metadata": {},
     "output_type": "execute_result"
    }
   ],
   "source": [
    "# Hyperparameter Tuning dengan Grid Search menggunakan hasil dari random search sgdc\n",
    "penalty = [sgdc_randomcv.best_params_['penalty']]\n",
    "epsilon = [sgdc_randomcv.best_params_['epsilon']-0.2,\n",
    "        sgdc_randomcv.best_params_['epsilon']-0.1,\n",
    "        sgdc_randomcv.best_params_['epsilon'],\n",
    "        sgdc_randomcv.best_params_['epsilon']+0.1,\n",
    "        sgdc_randomcv.best_params_['epsilon']+0.2,\n",
    "]\n",
    "alpha = [sgdc_randomcv.best_params_['alpha']-0.00005,\n",
    "        sgdc_randomcv.best_params_['alpha'],\n",
    "        sgdc_randomcv.best_params_['alpha']+0.0001,\n",
    "        sgdc_randomcv.best_params_['alpha']+0.0002,\n",
    "]\n",
    "param_grid_sgdc = {'penalty': penalty,\n",
    "               'alpha':alpha,\n",
    "               'epsilon':epsilon}\n",
    "param_grid_sgdc\n",
    "    "
   ]
  },
  {
   "cell_type": "code",
   "execution_count": 128,
   "metadata": {},
   "outputs": [
    {
     "name": "stdout",
     "output_type": "stream",
     "text": [
      "Fitting 5 folds for each of 20 candidates, totalling 100 fits\n"
     ]
    },
    {
     "data": {
      "text/plain": [
       "GridSearchCV(cv=5, estimator=SGDClassifier(max_iter=50, random_state=22),\n",
       "             n_jobs=-1,\n",
       "             param_grid={'alpha': [5e-05, 0.0001, 0.0002,\n",
       "                                   0.00030000000000000003],\n",
       "                         'epsilon': [0.3, 0.4, 0.5, 0.6, 0.7],\n",
       "                         'penalty': ['l2']},\n",
       "             verbose=2)"
      ]
     },
     "execution_count": 128,
     "metadata": {},
     "output_type": "execute_result"
    }
   ],
   "source": [
    "# Train model sgdc dengan Grid Search\n",
    "\n",
    "sgdc_gridcv = GridSearchCV(estimator=sgdc,\n",
    "                         param_grid=param_grid_sgdc,\n",
    "                         cv=5,\n",
    "                         n_jobs=-1,\n",
    "                         verbose=2)\n",
    "\n",
    "sgdc_gridcv.fit(X_train_final, y_train)"
   ]
  },
  {
   "cell_type": "code",
   "execution_count": 129,
   "metadata": {},
   "outputs": [
    {
     "data": {
      "text/plain": [
       "{'alpha': 0.0001, 'epsilon': 0.3, 'penalty': 'l2'}"
      ]
     },
     "execution_count": 129,
     "metadata": {},
     "output_type": "execute_result"
    }
   ],
   "source": [
    "# Melihat hyperparameter terbaik sgdc\n",
    "sgdc_gridcv.best_params_"
   ]
  },
  {
   "cell_type": "code",
   "execution_count": 130,
   "metadata": {},
   "outputs": [],
   "source": [
    "# Mendefinisikan model dengan hyperparameter terbaik\n",
    "sgdc_gridcv_best = sgdc_gridcv.best_estimator_"
   ]
  },
  {
   "cell_type": "code",
   "execution_count": 131,
   "metadata": {},
   "outputs": [
    {
     "name": "stdout",
     "output_type": "stream",
     "text": [
      "Accuracy - All - Cross Validation  :  [0.94121392 0.94439728 0.93992783 0.9428996  0.9401401 ]\n",
      "Accuracy - Mean - Cross Validation :  0.9417157456503744\n",
      "Accuracy - Std - Cross Validation  :  0.001704305734803832\n",
      "Accuracy - Range of Test-Set       :  0.9400114399155706 - 0.9434200513851783\n"
     ]
    }
   ],
   "source": [
    "# Melakukan cross validation sgdc dengan cross validation\n",
    "acc_train_cross_val_sgdc = cross_val_score(sgdc_gridcv_best, X_train_final, y_train, cv=5, scoring = 'accuracy')\n",
    "print('Accuracy - All - Cross Validation  : ', acc_train_cross_val_sgdc)\n",
    "print('Accuracy - Mean - Cross Validation : ', acc_train_cross_val_sgdc.mean())\n",
    "print('Accuracy - Std - Cross Validation  : ', acc_train_cross_val_sgdc.std())\n",
    "print('Accuracy - Range of Train-Set       : ', (acc_train_cross_val_sgdc.mean()-acc_train_cross_val_sgdc.std()) , '-', (acc_train_cross_val_sgdc.mean()+acc_train_cross_val_sgdc.std()))"
   ]
  },
  {
   "cell_type": "code",
   "execution_count": 166,
   "metadata": {},
   "outputs": [
    {
     "data": {
      "text/html": [
       "<div>\n",
       "<style scoped>\n",
       "    .dataframe tbody tr th:only-of-type {\n",
       "        vertical-align: middle;\n",
       "    }\n",
       "\n",
       "    .dataframe tbody tr th {\n",
       "        vertical-align: top;\n",
       "    }\n",
       "\n",
       "    .dataframe thead th {\n",
       "        text-align: right;\n",
       "    }\n",
       "</style>\n",
       "<table border=\"1\" class=\"dataframe\">\n",
       "  <thead>\n",
       "    <tr style=\"text-align: right;\">\n",
       "      <th></th>\n",
       "      <th>model</th>\n",
       "      <th>mean accuracy before</th>\n",
       "      <th>mean accuracy after</th>\n",
       "      <th>selisih mean</th>\n",
       "      <th>selisih mean (%)</th>\n",
       "      <th>std accuracy before</th>\n",
       "      <th>std accuracy after</th>\n",
       "      <th>selisih std</th>\n",
       "      <th>selisih std (%)</th>\n",
       "    </tr>\n",
       "  </thead>\n",
       "  <tbody>\n",
       "    <tr>\n",
       "      <th>0</th>\n",
       "      <td>sgdc</td>\n",
       "      <td>0.941716</td>\n",
       "      <td>0.941716</td>\n",
       "      <td>0.0</td>\n",
       "      <td>0.0</td>\n",
       "      <td>0.001704</td>\n",
       "      <td>0.001704</td>\n",
       "      <td>0.0</td>\n",
       "      <td>0.0</td>\n",
       "    </tr>\n",
       "  </tbody>\n",
       "</table>\n",
       "</div>"
      ],
      "text/plain": [
       "  model  mean accuracy before  mean accuracy after  selisih mean  \\\n",
       "0  sgdc              0.941716             0.941716           0.0   \n",
       "\n",
       "   selisih mean (%)  std accuracy before  std accuracy after  selisih std  \\\n",
       "0               0.0             0.001704            0.001704          0.0   \n",
       "\n",
       "   selisih std (%)  \n",
       "0              0.0  "
      ]
     },
     "execution_count": 166,
     "metadata": {},
     "output_type": "execute_result"
    }
   ],
   "source": [
    "# membuat dataframe perbandingan sebelum dan sesudah dilakukan tuning\n",
    "compare_sgdc = pd.DataFrame()\n",
    "compare_sgdc['model'] = ['sgdc']\n",
    "compare_sgdc['mean accuracy before'] = [acc_train_cross_val_sgdc_1.mean()]\n",
    "compare_sgdc['mean accuracy after'] = [acc_train_cross_val_sgdc.mean()]\n",
    "compare_sgdc['selisih mean'] = compare_sgdc['mean accuracy after'] - compare_sgdc['mean accuracy before']\n",
    "compare_sgdc['selisih mean (%)'] = compare_sgdc['selisih mean']/compare_sgdc['mean accuracy before']*100\n",
    "compare_sgdc['std accuracy before'] = [acc_train_cross_val_sgdc_1.std()]\n",
    "compare_sgdc['std accuracy after'] = [acc_train_cross_val_sgdc.std()]\n",
    "compare_sgdc['selisih std'] = compare_sgdc['std accuracy after'] - compare_sgdc['std accuracy before']\n",
    "compare_sgdc['selisih std (%)'] = compare_sgdc['selisih std']/compare_sgdc['std accuracy before']*100\n",
    "compare_sgdc"
   ]
  },
  {
   "cell_type": "markdown",
   "metadata": {},
   "source": [
    "### 7.2.7 KNN"
   ]
  },
  {
   "cell_type": "code",
   "execution_count": 132,
   "metadata": {},
   "outputs": [],
   "source": [
    "# Menentukan hyperparameter untuk knn\n",
    "n_neighbors = [int(x) for x in range(1,11,2)]\n",
    "weights = ['uniform', 'distance']\n",
    "p = [1, 2]\n",
    "random_grid_knn = {'n_neighbors': n_neighbors, 'weights': weights, 'p': p}\n"
   ]
  },
  {
   "cell_type": "code",
   "execution_count": 133,
   "metadata": {},
   "outputs": [
    {
     "data": {
      "text/plain": [
       "RandomizedSearchCV(cv=2, estimator=KNeighborsClassifier(), n_iter=5, n_jobs=-1,\n",
       "                   param_distributions={'n_neighbors': [1, 3, 5, 7, 9],\n",
       "                                        'p': [1, 2],\n",
       "                                        'weights': ['uniform', 'distance']},\n",
       "                   random_state=46)"
      ]
     },
     "execution_count": 133,
     "metadata": {},
     "output_type": "execute_result"
    }
   ],
   "source": [
    "# Train dengan Random Search\n",
    "\n",
    "knn_randomcv = RandomizedSearchCV(estimator=knn, \n",
    "                                 param_distributions=random_grid_knn,\n",
    "                                 n_iter=5,\n",
    "                                 cv=2, \n",
    "                                 random_state=46, \n",
    "                                 n_jobs=-1)\n",
    "knn_randomcv.fit(X_train_final, y_train)"
   ]
  },
  {
   "cell_type": "code",
   "execution_count": 134,
   "metadata": {},
   "outputs": [
    {
     "data": {
      "text/plain": [
       "{'weights': 'distance', 'p': 2, 'n_neighbors': 9}"
      ]
     },
     "execution_count": 134,
     "metadata": {},
     "output_type": "execute_result"
    }
   ],
   "source": [
    "# Melihat Hyperparameters Terbaik dari knn\n",
    "knn_randomcv.best_params_ "
   ]
  },
  {
   "cell_type": "code",
   "execution_count": 135,
   "metadata": {},
   "outputs": [],
   "source": [
    "# Mendefinisikan model dengan hyperparameter terbaik\n",
    "knn_randomcv_best = knn_randomcv.best_estimator_"
   ]
  },
  {
   "cell_type": "code",
   "execution_count": 136,
   "metadata": {},
   "outputs": [
    {
     "data": {
      "text/plain": [
       "{'n_neighbors': [7, 9, 11], 'weights': ['distance'], 'p': [2]}"
      ]
     },
     "execution_count": 136,
     "metadata": {},
     "output_type": "execute_result"
    }
   ],
   "source": [
    "# Hyperparameter Tuning dengan Grid Search menggunakan hasil dari random search knn\n",
    "n_neighbors = [knn_randomcv.best_params_['n_neighbors']-2,\n",
    "        knn_randomcv.best_params_['n_neighbors'],\n",
    "        knn_randomcv.best_params_['n_neighbors']+2,\n",
    "]   \n",
    "weights = [knn_randomcv.best_params_['weights']]\n",
    "p = [knn_randomcv.best_params_['p']]\n",
    "param_grid_knn = {'n_neighbors': n_neighbors,\n",
    "                'weights':weights,\n",
    "                'p':p}  \n",
    "param_grid_knn  \n"
   ]
  },
  {
   "cell_type": "code",
   "execution_count": 137,
   "metadata": {},
   "outputs": [
    {
     "name": "stdout",
     "output_type": "stream",
     "text": [
      "Fitting 5 folds for each of 3 candidates, totalling 15 fits\n"
     ]
    },
    {
     "data": {
      "text/plain": [
       "GridSearchCV(cv=5, estimator=KNeighborsClassifier(), n_jobs=-1,\n",
       "             param_grid={'n_neighbors': [7, 9, 11], 'p': [2],\n",
       "                         'weights': ['distance']},\n",
       "             verbose=2)"
      ]
     },
     "execution_count": 137,
     "metadata": {},
     "output_type": "execute_result"
    }
   ],
   "source": [
    "# Train model knn dengan Grid Search\n",
    "\n",
    "knn_gridcv = GridSearchCV(estimator=knn,\n",
    "                         param_grid=param_grid_knn,\n",
    "                         cv=5,\n",
    "                         n_jobs=-1,\n",
    "                         verbose=2)\n",
    "\n",
    "knn_gridcv.fit(X_train_final, y_train)"
   ]
  },
  {
   "cell_type": "code",
   "execution_count": 138,
   "metadata": {},
   "outputs": [
    {
     "data": {
      "text/plain": [
       "{'n_neighbors': 11, 'p': 2, 'weights': 'distance'}"
      ]
     },
     "execution_count": 138,
     "metadata": {},
     "output_type": "execute_result"
    }
   ],
   "source": [
    "# Melihat hyperparameter terbaik knn\n",
    "knn_gridcv.best_params_"
   ]
  },
  {
   "cell_type": "code",
   "execution_count": 139,
   "metadata": {},
   "outputs": [],
   "source": [
    "# Mendefinisikan model dengan hyperparameter terbaik\n",
    "knn_gridcv_best = knn_gridcv.best_estimator_"
   ]
  },
  {
   "cell_type": "code",
   "execution_count": 140,
   "metadata": {},
   "outputs": [
    {
     "name": "stdout",
     "output_type": "stream",
     "text": [
      "Accuracy - All - Cross Validation  :  [0.94121392 0.94227504 0.93568245 0.93568245 0.93886648]\n",
      "Accuracy - Mean - Cross Validation :  0.9387440675455595\n",
      "Accuracy - Std - Cross Validation  :  0.00273239860926784\n",
      "Accuracy - Range of Test-Set       :  0.9360116689362916 - 0.9414764661548274\n"
     ]
    }
   ],
   "source": [
    "# Melakukan cross validation knn dengan cross validation\n",
    "acc_train_cross_val_knn = cross_val_score(knn_gridcv_best, X_train_final, y_train, cv=5, scoring = 'accuracy')\n",
    "print('Accuracy - All - Cross Validation  : ', acc_train_cross_val_knn)\n",
    "print('Accuracy - Mean - Cross Validation : ', acc_train_cross_val_knn.mean())\n",
    "print('Accuracy - Std - Cross Validation  : ', acc_train_cross_val_knn.std())\n",
    "print('Accuracy - Range of Train-Set       : ', (acc_train_cross_val_knn.mean()-acc_train_cross_val_knn.std()) , '-', (acc_train_cross_val_knn.mean()+acc_train_cross_val_knn.std()))"
   ]
  },
  {
   "cell_type": "code",
   "execution_count": 167,
   "metadata": {},
   "outputs": [
    {
     "data": {
      "text/html": [
       "<div>\n",
       "<style scoped>\n",
       "    .dataframe tbody tr th:only-of-type {\n",
       "        vertical-align: middle;\n",
       "    }\n",
       "\n",
       "    .dataframe tbody tr th {\n",
       "        vertical-align: top;\n",
       "    }\n",
       "\n",
       "    .dataframe thead th {\n",
       "        text-align: right;\n",
       "    }\n",
       "</style>\n",
       "<table border=\"1\" class=\"dataframe\">\n",
       "  <thead>\n",
       "    <tr style=\"text-align: right;\">\n",
       "      <th></th>\n",
       "      <th>model</th>\n",
       "      <th>mean accuracy before</th>\n",
       "      <th>mean accuracy after</th>\n",
       "      <th>selisih mean</th>\n",
       "      <th>selisih mean (%)</th>\n",
       "      <th>std accuracy before</th>\n",
       "      <th>std accuracy after</th>\n",
       "      <th>selisih std</th>\n",
       "      <th>selisih std (%)</th>\n",
       "    </tr>\n",
       "  </thead>\n",
       "  <tbody>\n",
       "    <tr>\n",
       "      <th>0</th>\n",
       "      <td>knn</td>\n",
       "      <td>0.936919</td>\n",
       "      <td>0.938744</td>\n",
       "      <td>0.001825</td>\n",
       "      <td>0.194816</td>\n",
       "      <td>0.002466</td>\n",
       "      <td>0.002732</td>\n",
       "      <td>0.000266</td>\n",
       "      <td>10.783595</td>\n",
       "    </tr>\n",
       "  </tbody>\n",
       "</table>\n",
       "</div>"
      ],
      "text/plain": [
       "  model  mean accuracy before  mean accuracy after  selisih mean  \\\n",
       "0   knn              0.936919             0.938744      0.001825   \n",
       "\n",
       "   selisih mean (%)  std accuracy before  std accuracy after  selisih std  \\\n",
       "0          0.194816             0.002466            0.002732     0.000266   \n",
       "\n",
       "   selisih std (%)  \n",
       "0        10.783595  "
      ]
     },
     "execution_count": 167,
     "metadata": {},
     "output_type": "execute_result"
    }
   ],
   "source": [
    "# membuat dataframe perbandingan sebelum dan sesudah dilakukan tuning\n",
    "compare_knn = pd.DataFrame()\n",
    "compare_knn['model'] = ['knn']\n",
    "compare_knn['mean accuracy before'] = [acc_train_cross_val_knn_1.mean()]\n",
    "compare_knn['mean accuracy after'] = [acc_train_cross_val_knn.mean()]\n",
    "compare_knn['selisih mean'] = compare_knn['mean accuracy after'] - compare_knn['mean accuracy before']\n",
    "compare_knn['selisih mean (%)'] = compare_knn['selisih mean']/compare_knn['mean accuracy before']*100\n",
    "compare_knn['std accuracy before'] = [acc_train_cross_val_knn_1.std()]\n",
    "compare_knn['std accuracy after'] = [acc_train_cross_val_knn.std()]\n",
    "compare_knn['selisih std'] = compare_knn['std accuracy after'] - compare_knn['std accuracy before']\n",
    "compare_knn['selisih std (%)'] = compare_knn['selisih std']/compare_knn['std accuracy before']*100\n",
    "compare_knn"
   ]
  },
  {
   "cell_type": "markdown",
   "metadata": {},
   "source": [
    "### 7.2.8. Rangkuman hasil cross validation semua model"
   ]
  },
  {
   "cell_type": "code",
   "execution_count": 212,
   "metadata": {},
   "outputs": [
    {
     "data": {
      "text/html": [
       "<div>\n",
       "<style scoped>\n",
       "    .dataframe tbody tr th:only-of-type {\n",
       "        vertical-align: middle;\n",
       "    }\n",
       "\n",
       "    .dataframe tbody tr th {\n",
       "        vertical-align: top;\n",
       "    }\n",
       "\n",
       "    .dataframe thead th {\n",
       "        text-align: right;\n",
       "    }\n",
       "</style>\n",
       "<table border=\"1\" class=\"dataframe\">\n",
       "  <thead>\n",
       "    <tr style=\"text-align: right;\">\n",
       "      <th></th>\n",
       "      <th>model</th>\n",
       "      <th>mean accuracy before</th>\n",
       "      <th>mean accuracy after</th>\n",
       "      <th>selisih mean</th>\n",
       "      <th>selisih mean (%)</th>\n",
       "      <th>std accuracy before</th>\n",
       "      <th>std accuracy after</th>\n",
       "      <th>selisih std</th>\n",
       "      <th>selisih std (%)</th>\n",
       "    </tr>\n",
       "  </thead>\n",
       "  <tbody>\n",
       "    <tr>\n",
       "      <th>0</th>\n",
       "      <td>rf</td>\n",
       "      <td>0.939975</td>\n",
       "      <td>0.943371</td>\n",
       "      <td>0.003396</td>\n",
       "      <td>0.361283</td>\n",
       "      <td>0.002654</td>\n",
       "      <td>0.003105</td>\n",
       "      <td>0.000451</td>\n",
       "      <td>17.005616</td>\n",
       "    </tr>\n",
       "    <tr>\n",
       "      <th>1</th>\n",
       "      <td>sgdc</td>\n",
       "      <td>0.941716</td>\n",
       "      <td>0.941716</td>\n",
       "      <td>0.000000</td>\n",
       "      <td>0.000000</td>\n",
       "      <td>0.001704</td>\n",
       "      <td>0.001704</td>\n",
       "      <td>0.000000</td>\n",
       "      <td>0.000000</td>\n",
       "    </tr>\n",
       "    <tr>\n",
       "      <th>2</th>\n",
       "      <td>dt</td>\n",
       "      <td>0.917859</td>\n",
       "      <td>0.941546</td>\n",
       "      <td>0.023687</td>\n",
       "      <td>2.580693</td>\n",
       "      <td>0.002789</td>\n",
       "      <td>0.002034</td>\n",
       "      <td>-0.000754</td>\n",
       "      <td>-27.052257</td>\n",
       "    </tr>\n",
       "    <tr>\n",
       "      <th>3</th>\n",
       "      <td>logreg</td>\n",
       "      <td>0.942055</td>\n",
       "      <td>0.941461</td>\n",
       "      <td>-0.000594</td>\n",
       "      <td>-0.063086</td>\n",
       "      <td>0.002537</td>\n",
       "      <td>0.002532</td>\n",
       "      <td>-0.000005</td>\n",
       "      <td>-0.216565</td>\n",
       "    </tr>\n",
       "    <tr>\n",
       "      <th>4</th>\n",
       "      <td>knn</td>\n",
       "      <td>0.936919</td>\n",
       "      <td>0.938744</td>\n",
       "      <td>0.001825</td>\n",
       "      <td>0.194816</td>\n",
       "      <td>0.002466</td>\n",
       "      <td>0.002732</td>\n",
       "      <td>0.000266</td>\n",
       "      <td>10.783595</td>\n",
       "    </tr>\n",
       "    <tr>\n",
       "      <th>5</th>\n",
       "      <td>nb</td>\n",
       "      <td>0.934669</td>\n",
       "      <td>0.934669</td>\n",
       "      <td>0.000000</td>\n",
       "      <td>0.000000</td>\n",
       "      <td>0.003088</td>\n",
       "      <td>0.003088</td>\n",
       "      <td>0.000000</td>\n",
       "      <td>0.000000</td>\n",
       "    </tr>\n",
       "    <tr>\n",
       "      <th>6</th>\n",
       "      <td>svm</td>\n",
       "      <td>0.873201</td>\n",
       "      <td>0.824854</td>\n",
       "      <td>-0.048346</td>\n",
       "      <td>-5.536686</td>\n",
       "      <td>0.048040</td>\n",
       "      <td>0.100734</td>\n",
       "      <td>0.052694</td>\n",
       "      <td>109.686214</td>\n",
       "    </tr>\n",
       "  </tbody>\n",
       "</table>\n",
       "</div>"
      ],
      "text/plain": [
       "    model  mean accuracy before  mean accuracy after  selisih mean  \\\n",
       "0      rf              0.939975             0.943371      0.003396   \n",
       "1    sgdc              0.941716             0.941716      0.000000   \n",
       "2      dt              0.917859             0.941546      0.023687   \n",
       "3  logreg              0.942055             0.941461     -0.000594   \n",
       "4     knn              0.936919             0.938744      0.001825   \n",
       "5      nb              0.934669             0.934669      0.000000   \n",
       "6     svm              0.873201             0.824854     -0.048346   \n",
       "\n",
       "   selisih mean (%)  std accuracy before  std accuracy after  selisih std  \\\n",
       "0          0.361283             0.002654            0.003105     0.000451   \n",
       "1          0.000000             0.001704            0.001704     0.000000   \n",
       "2          2.580693             0.002789            0.002034    -0.000754   \n",
       "3         -0.063086             0.002537            0.002532    -0.000005   \n",
       "4          0.194816             0.002466            0.002732     0.000266   \n",
       "5          0.000000             0.003088            0.003088     0.000000   \n",
       "6         -5.536686             0.048040            0.100734     0.052694   \n",
       "\n",
       "   selisih std (%)  \n",
       "0        17.005616  \n",
       "1         0.000000  \n",
       "2       -27.052257  \n",
       "3        -0.216565  \n",
       "4        10.783595  \n",
       "5         0.000000  \n",
       "6       109.686214  "
      ]
     },
     "execution_count": 212,
     "metadata": {},
     "output_type": "execute_result"
    }
   ],
   "source": [
    "# Menggabung semua dataframe compare diurutkan dari mean accuracy setelah tuning\n",
    "compare = pd.concat([compare_logreg, compare_svm, compare_dt, compare_rf, compare_nb, compare_sgdc, compare_knn], axis=0, ignore_index=True).sort_values(by=['mean accuracy after'], ascending=False).reset_index(drop=True)\n",
    "compare"
   ]
  },
  {
   "cell_type": "markdown",
   "metadata": {},
   "source": [
    "> Terlihat dari tabel di atas bahwa model ada yang semakin baik, netral, dan semakin buruk akurasinya setelah dilakukan hyperparameter tuning. dalam hal akurasi, model random forest menenpati ranking pertama. Namun tentunya akan dilakukan predict ke test set untuk melihat performa dari semua model di atas. "
   ]
  },
  {
   "cell_type": "markdown",
   "metadata": {},
   "source": [
    "# 8. Model Evaluation"
   ]
  },
  {
   "cell_type": "markdown",
   "metadata": {},
   "source": [
    "## 8.1. Pengetesan predict ke test set"
   ]
  },
  {
   "cell_type": "code",
   "execution_count": 218,
   "metadata": {},
   "outputs": [
    {
     "name": "stdout",
     "output_type": "stream",
     "text": [
      "Accuracy - Test Set   :  0.8984820886460231 \n",
      "\n",
      "Classification Report : \n",
      "               precision    recall  f1-score   support\n",
      "\n",
      "           0       0.93      0.96      0.94      7307\n",
      "           1       0.56      0.43      0.49       928\n",
      "\n",
      "    accuracy                           0.90      8235\n",
      "   macro avg       0.75      0.69      0.72      8235\n",
      "weighted avg       0.89      0.90      0.89      8235\n",
      " \n",
      "\n"
     ]
    }
   ],
   "source": [
    "# Melihat performa logreg model terhadap data test\n",
    "\n",
    "logreg_y_pred_test = logreg_gridcv_best.predict(X_test_final)\n",
    "\n",
    "print('Accuracy - Test Set   : ', accuracy_score(y_test, logreg_y_pred_test), '\\n')\n",
    "print('Classification Report : \\n', classification_report(y_test, logreg_y_pred_test), '\\n')\n",
    "\n",
    "# Memasukan ke dalam dataframe untuk rangkuman f1 score dan accuracy\n",
    "compare_2_logreg = pd.DataFrame()\n",
    "compare_2_logreg['model'] = ['logreg']\n",
    "compare_2_logreg['f1 score 0'] = [f1_score(y_test, logreg_y_pred_test, pos_label=0)]\n",
    "compare_2_logreg['f1 score 1'] = [f1_score(y_test, logreg_y_pred_test, pos_label=1)]\n",
    "compare_2_logreg['accuracy'] = [accuracy_score(y_test, logreg_y_pred_test)]"
   ]
  },
  {
   "cell_type": "code",
   "execution_count": 177,
   "metadata": {},
   "outputs": [
    {
     "name": "stdout",
     "output_type": "stream",
     "text": [
      "Accuracy - Test Set   :  0.30722525804493017 \n",
      "\n",
      "Classification Report : \n",
      "               precision    recall  f1-score   support\n",
      "\n",
      "           0       0.83      0.27      0.41      7307\n",
      "           1       0.09      0.56      0.15       928\n",
      "\n",
      "    accuracy                           0.31      8235\n",
      "   macro avg       0.46      0.42      0.28      8235\n",
      "weighted avg       0.75      0.31      0.38      8235\n",
      " \n",
      "\n"
     ]
    }
   ],
   "source": [
    "# Melihat performa svm model terhadap data test\n",
    "\n",
    "svm_y_pred_test = svm_gridcv_best.predict(X_test_final)\n",
    "\n",
    "print('Accuracy - Test Set   : ', accuracy_score(y_test, svm_y_pred_test), '\\n')\n",
    "print('Classification Report : \\n', classification_report(y_test, svm_y_pred_test), '\\n')\n",
    "\n",
    "# Memasukan ke dalam dataframe untuk rangkuman f1 score dan accuracy\n",
    "compare_2_svm = pd.DataFrame()\n",
    "compare_2_svm['model'] = ['svm']\n",
    "compare_2_svm['f1 score 0'] = [f1_score(y_test, svm_y_pred_test, pos_label=0)]\n",
    "compare_2_svm['f1 score 1'] = [f1_score(y_test, svm_y_pred_test, pos_label=1)]\n",
    "compare_2_svm['accuracy'] = [accuracy_score(y_test, svm_y_pred_test)]"
   ]
  },
  {
   "cell_type": "code",
   "execution_count": 178,
   "metadata": {},
   "outputs": [
    {
     "name": "stdout",
     "output_type": "stream",
     "text": [
      "Accuracy - Test Set   :  0.8879174256223437 \n",
      "\n",
      "Classification Report : \n",
      "               precision    recall  f1-score   support\n",
      "\n",
      "           0       0.91      0.97      0.94      7307\n",
      "           1       0.51      0.24      0.32       928\n",
      "\n",
      "    accuracy                           0.89      8235\n",
      "   macro avg       0.71      0.60      0.63      8235\n",
      "weighted avg       0.86      0.89      0.87      8235\n",
      " \n",
      "\n"
     ]
    }
   ],
   "source": [
    "# Melihat performa dt model terhadap data test\n",
    "\n",
    "dt_y_pred_test = dt_gridcv_best.predict(X_test_final)\n",
    "\n",
    "print('Accuracy - Test Set   : ', accuracy_score(y_test, dt_y_pred_test), '\\n')\n",
    "print('Classification Report : \\n', classification_report(y_test, dt_y_pred_test), '\\n')\n",
    "\n",
    "# Memasukan ke dalam dataframe untuk rangkuman f1 score dan accuracy\n",
    "compare_2_dt = pd.DataFrame()\n",
    "compare_2_dt['model'] = ['dt']\n",
    "compare_2_dt['f1 score 0'] = [f1_score(y_test, dt_y_pred_test, pos_label=0)]\n",
    "compare_2_dt['f1 score 1'] = [f1_score(y_test, dt_y_pred_test, pos_label=1)]\n",
    "compare_2_dt['accuracy'] = [accuracy_score(y_test, dt_y_pred_test)]"
   ]
  },
  {
   "cell_type": "code",
   "execution_count": 179,
   "metadata": {},
   "outputs": [
    {
     "name": "stdout",
     "output_type": "stream",
     "text": [
      "Accuracy - Test Set   :  0.8996964177292046 \n",
      "\n",
      "Classification Report : \n",
      "               precision    recall  f1-score   support\n",
      "\n",
      "           0       0.91      0.98      0.95      7307\n",
      "           1       0.66      0.23      0.34       928\n",
      "\n",
      "    accuracy                           0.90      8235\n",
      "   macro avg       0.78      0.61      0.64      8235\n",
      "weighted avg       0.88      0.90      0.88      8235\n",
      " \n",
      "\n"
     ]
    }
   ],
   "source": [
    "# Melihat performa rf model terhadap data test\n",
    "\n",
    "rf_y_pred_test = rf_gridcv_best.predict(X_test_final)\n",
    "\n",
    "print('Accuracy - Test Set   : ', accuracy_score(y_test, rf_y_pred_test), '\\n')\n",
    "print('Classification Report : \\n', classification_report(y_test, rf_y_pred_test), '\\n')\n",
    "\n",
    "# Memasukan ke dalam dataframe untuk rangkuman f1 score dan accuracy\n",
    "compare_2_rf = pd.DataFrame()\n",
    "compare_2_rf['model'] = ['rf']\n",
    "compare_2_rf['f1 score 0'] = [f1_score(y_test, rf_y_pred_test, pos_label=0)]\n",
    "compare_2_rf['f1 score 1'] = [f1_score(y_test, rf_y_pred_test, pos_label=1)]\n",
    "compare_2_rf['accuracy'] = [accuracy_score(y_test, rf_y_pred_test)]"
   ]
  },
  {
   "cell_type": "code",
   "execution_count": 180,
   "metadata": {},
   "outputs": [
    {
     "name": "stdout",
     "output_type": "stream",
     "text": [
      "Accuracy - Test Set   :  0.8949605343047966 \n",
      "\n",
      "Classification Report : \n",
      "               precision    recall  f1-score   support\n",
      "\n",
      "           0       0.91      0.97      0.94      7307\n",
      "           1       0.57      0.28      0.38       928\n",
      "\n",
      "    accuracy                           0.89      8235\n",
      "   macro avg       0.74      0.63      0.66      8235\n",
      "weighted avg       0.88      0.89      0.88      8235\n",
      " \n",
      "\n"
     ]
    }
   ],
   "source": [
    "# Melihat performa nb model terhadap data test\n",
    "\n",
    "nb_y_pred_test = nb_gridcv_best.predict(X_test_final)\n",
    "\n",
    "print('Accuracy - Test Set   : ', accuracy_score(y_test, nb_y_pred_test), '\\n')\n",
    "print('Classification Report : \\n', classification_report(y_test, nb_y_pred_test), '\\n')\n",
    "\n",
    "# Memasukan ke dalam dataframe untuk rangkuman f1 score dan accuracy\n",
    "compare_2_nb = pd.DataFrame()\n",
    "compare_2_nb['model'] = ['nb']\n",
    "compare_2_nb['f1 score 0'] = [f1_score(y_test, nb_y_pred_test, pos_label=0)]\n",
    "compare_2_nb['f1 score 1'] = [f1_score(y_test, nb_y_pred_test, pos_label=1)]\n",
    "compare_2_nb['accuracy'] = [accuracy_score(y_test, nb_y_pred_test)]"
   ]
  },
  {
   "cell_type": "code",
   "execution_count": 181,
   "metadata": {},
   "outputs": [
    {
     "name": "stdout",
     "output_type": "stream",
     "text": [
      "Accuracy - Test Set   :  0.8892531876138433 \n",
      "\n",
      "Classification Report : \n",
      "               precision    recall  f1-score   support\n",
      "\n",
      "           0       0.90      0.98      0.94      7307\n",
      "           1       0.53      0.16      0.25       928\n",
      "\n",
      "    accuracy                           0.89      8235\n",
      "   macro avg       0.72      0.57      0.59      8235\n",
      "weighted avg       0.86      0.89      0.86      8235\n",
      " \n",
      "\n"
     ]
    }
   ],
   "source": [
    "# Melihat performa sgdc model terhadap data test\n",
    "\n",
    "sgdc_y_pred_test = sgdc_gridcv_best.predict(X_test_final)\n",
    "\n",
    "print('Accuracy - Test Set   : ', accuracy_score(y_test, sgdc_y_pred_test), '\\n')\n",
    "print('Classification Report : \\n', classification_report(y_test, sgdc_y_pred_test), '\\n')\n",
    "\n",
    "# Memasukan ke dalam dataframe untuk rangkuman f1 score dan accuracy\n",
    "compare_2_sgdc = pd.DataFrame()\n",
    "compare_2_sgdc['model'] = ['sgdc']\n",
    "compare_2_sgdc['f1 score 0'] = [f1_score(y_test, sgdc_y_pred_test, pos_label=0)]\n",
    "compare_2_sgdc['f1 score 1'] = [f1_score(y_test, sgdc_y_pred_test, pos_label=1)]\n",
    "compare_2_sgdc['accuracy'] = [accuracy_score(y_test, sgdc_y_pred_test)]"
   ]
  },
  {
   "cell_type": "code",
   "execution_count": 183,
   "metadata": {},
   "outputs": [
    {
     "name": "stdout",
     "output_type": "stream",
     "text": [
      "Accuracy - Test Set   :  0.8954462659380692 \n",
      "\n",
      "Classification Report : \n",
      "               precision    recall  f1-score   support\n",
      "\n",
      "           0       0.91      0.98      0.94      7307\n",
      "           1       0.59      0.24      0.34       928\n",
      "\n",
      "    accuracy                           0.90      8235\n",
      "   macro avg       0.75      0.61      0.64      8235\n",
      "weighted avg       0.87      0.90      0.88      8235\n",
      " \n",
      "\n"
     ]
    }
   ],
   "source": [
    "# Melihat performa knn model terhadap data test\n",
    "\n",
    "knn_y_pred_test = knn_gridcv_best.predict(X_test_final)\n",
    "\n",
    "print('Accuracy - Test Set   : ', accuracy_score(y_test, knn_y_pred_test), '\\n')\n",
    "print('Classification Report : \\n', classification_report(y_test, knn_y_pred_test), '\\n')\n",
    "\n",
    "# Memasukan ke dalam dataframe untuk rangkuman f1 score dan accuracy\n",
    "compare_2_knn = pd.DataFrame()\n",
    "compare_2_knn['model'] = ['knn']\n",
    "compare_2_knn['f1 score 0'] = [f1_score(y_test, knn_y_pred_test, pos_label=0)]\n",
    "compare_2_knn['f1 score 1'] = [f1_score(y_test, knn_y_pred_test, pos_label=1)]\n",
    "compare_2_knn['accuracy'] = [accuracy_score(y_test, knn_y_pred_test)]"
   ]
  },
  {
   "cell_type": "markdown",
   "metadata": {},
   "source": [
    "## 8.2. Rangkuman hasil pengetesan semua model"
   ]
  },
  {
   "cell_type": "code",
   "execution_count": 221,
   "metadata": {},
   "outputs": [
    {
     "data": {
      "text/html": [
       "<div>\n",
       "<style scoped>\n",
       "    .dataframe tbody tr th:only-of-type {\n",
       "        vertical-align: middle;\n",
       "    }\n",
       "\n",
       "    .dataframe tbody tr th {\n",
       "        vertical-align: top;\n",
       "    }\n",
       "\n",
       "    .dataframe thead th {\n",
       "        text-align: right;\n",
       "    }\n",
       "</style>\n",
       "<table border=\"1\" class=\"dataframe\">\n",
       "  <thead>\n",
       "    <tr style=\"text-align: right;\">\n",
       "      <th></th>\n",
       "      <th>model</th>\n",
       "      <th>f1 score 0</th>\n",
       "      <th>f1 score 1</th>\n",
       "      <th>accuracy</th>\n",
       "      <th>mean accuracy after</th>\n",
       "    </tr>\n",
       "  </thead>\n",
       "  <tbody>\n",
       "    <tr>\n",
       "      <th>0</th>\n",
       "      <td>rf</td>\n",
       "      <td>0.945729</td>\n",
       "      <td>0.339200</td>\n",
       "      <td>0.899696</td>\n",
       "      <td>0.943371</td>\n",
       "    </tr>\n",
       "    <tr>\n",
       "      <th>1</th>\n",
       "      <td>logreg</td>\n",
       "      <td>0.943643</td>\n",
       "      <td>0.488998</td>\n",
       "      <td>0.898482</td>\n",
       "      <td>0.941461</td>\n",
       "    </tr>\n",
       "    <tr>\n",
       "      <th>2</th>\n",
       "      <td>knn</td>\n",
       "      <td>0.943217</td>\n",
       "      <td>0.341239</td>\n",
       "      <td>0.895446</td>\n",
       "      <td>0.938744</td>\n",
       "    </tr>\n",
       "    <tr>\n",
       "      <th>3</th>\n",
       "      <td>nb</td>\n",
       "      <td>0.942635</td>\n",
       "      <td>0.378145</td>\n",
       "      <td>0.894961</td>\n",
       "      <td>0.934669</td>\n",
       "    </tr>\n",
       "    <tr>\n",
       "      <th>4</th>\n",
       "      <td>sgdc</td>\n",
       "      <td>0.940220</td>\n",
       "      <td>0.248764</td>\n",
       "      <td>0.889253</td>\n",
       "      <td>0.941716</td>\n",
       "    </tr>\n",
       "    <tr>\n",
       "      <th>5</th>\n",
       "      <td>dt</td>\n",
       "      <td>0.938902</td>\n",
       "      <td>0.322817</td>\n",
       "      <td>0.887917</td>\n",
       "      <td>0.941546</td>\n",
       "    </tr>\n",
       "    <tr>\n",
       "      <th>6</th>\n",
       "      <td>svm</td>\n",
       "      <td>0.413005</td>\n",
       "      <td>0.154940</td>\n",
       "      <td>0.307225</td>\n",
       "      <td>0.824854</td>\n",
       "    </tr>\n",
       "  </tbody>\n",
       "</table>\n",
       "</div>"
      ],
      "text/plain": [
       "    model  f1 score 0  f1 score 1  accuracy  mean accuracy after\n",
       "0      rf    0.945729    0.339200  0.899696             0.943371\n",
       "1  logreg    0.943643    0.488998  0.898482             0.941461\n",
       "2     knn    0.943217    0.341239  0.895446             0.938744\n",
       "3      nb    0.942635    0.378145  0.894961             0.934669\n",
       "4    sgdc    0.940220    0.248764  0.889253             0.941716\n",
       "5      dt    0.938902    0.322817  0.887917             0.941546\n",
       "6     svm    0.413005    0.154940  0.307225             0.824854"
      ]
     },
     "execution_count": 221,
     "metadata": {},
     "output_type": "execute_result"
    }
   ],
   "source": [
    "# membuat dataframe berisi rangkuman compare \n",
    "compare_2 = pd.concat([compare_2_logreg, compare_2_svm, compare_2_dt, compare_2_rf, compare_2_nb, compare_2_sgdc, compare_2_knn], axis=0).sort_values(by='accuracy', ascending=False).reset_index(drop=True)\n",
    "compare_3 = pd.merge(compare_2, compare[['model','mean accuracy after']],left_on='model',right_on='model',how='outer')\n",
    "compare_3"
   ]
  },
  {
   "cell_type": "markdown",
   "metadata": {},
   "source": [
    "> Terlihat kalau terjadi overfitting pada semua model, terutama svm.<br><br>\n",
    "> Dalam hal akurasi memang model rf (random forest) mendapat nilai yang paling tinggi, namun secara f1 score, berhubung model ini dibuat untuk mengetahui konsumen yang kemungkinan akan berhasil ditawarkan promo selanjutnya at8aupun cara meningkatkan efektifitas promosi, maka f1 score untuk jawaban 1 (yes) juga menjadi faktor penting. <br><br> \n",
    "> Alhasil, model logreg (logistic regression) akan menjadi model yang dipilih karena nilai f1 score 1 nya.<br><br>\n",
    "> Meskipun demikian, nilai f1 score tersebut masih kiranya jauh dari cukup untuk dikategorikan sebagai baik."
   ]
  },
  {
   "cell_type": "markdown",
   "metadata": {},
   "source": [
    "# 9. Model Inference"
   ]
  },
  {
   "cell_type": "code",
   "execution_count": 196,
   "metadata": {},
   "outputs": [
    {
     "data": {
      "text/html": [
       "<div>\n",
       "<style scoped>\n",
       "    .dataframe tbody tr th:only-of-type {\n",
       "        vertical-align: middle;\n",
       "    }\n",
       "\n",
       "    .dataframe tbody tr th {\n",
       "        vertical-align: top;\n",
       "    }\n",
       "\n",
       "    .dataframe thead th {\n",
       "        text-align: right;\n",
       "    }\n",
       "</style>\n",
       "<table border=\"1\" class=\"dataframe\">\n",
       "  <thead>\n",
       "    <tr style=\"text-align: right;\">\n",
       "      <th></th>\n",
       "      <th>age</th>\n",
       "      <th>job</th>\n",
       "      <th>education</th>\n",
       "      <th>contact</th>\n",
       "      <th>month</th>\n",
       "      <th>duration</th>\n",
       "      <th>campaign</th>\n",
       "      <th>previous</th>\n",
       "      <th>poutcome</th>\n",
       "      <th>cons.price.idx</th>\n",
       "      <th>cons.conf.idx</th>\n",
       "      <th>nr.employed</th>\n",
       "      <th>pdays_groups</th>\n",
       "    </tr>\n",
       "  </thead>\n",
       "  <tbody>\n",
       "    <tr>\n",
       "      <th>0</th>\n",
       "      <td>35</td>\n",
       "      <td>housemaid</td>\n",
       "      <td>unknown</td>\n",
       "      <td>telephone</td>\n",
       "      <td>jun</td>\n",
       "      <td>66</td>\n",
       "      <td>1</td>\n",
       "      <td>0</td>\n",
       "      <td>nonexistent</td>\n",
       "      <td>94.465</td>\n",
       "      <td>-41.8</td>\n",
       "      <td>5228.1</td>\n",
       "      <td>belum pernah dihubungi</td>\n",
       "    </tr>\n",
       "    <tr>\n",
       "      <th>1</th>\n",
       "      <td>38</td>\n",
       "      <td>admin.</td>\n",
       "      <td>university.degree</td>\n",
       "      <td>telephone</td>\n",
       "      <td>may</td>\n",
       "      <td>186</td>\n",
       "      <td>1</td>\n",
       "      <td>0</td>\n",
       "      <td>nonexistent</td>\n",
       "      <td>93.994</td>\n",
       "      <td>-36.4</td>\n",
       "      <td>5191.0</td>\n",
       "      <td>belum pernah dihubungi</td>\n",
       "    </tr>\n",
       "    <tr>\n",
       "      <th>2</th>\n",
       "      <td>47</td>\n",
       "      <td>technician</td>\n",
       "      <td>professional.course</td>\n",
       "      <td>telephone</td>\n",
       "      <td>may</td>\n",
       "      <td>202</td>\n",
       "      <td>1</td>\n",
       "      <td>0</td>\n",
       "      <td>nonexistent</td>\n",
       "      <td>93.994</td>\n",
       "      <td>-36.4</td>\n",
       "      <td>5191.0</td>\n",
       "      <td>belum pernah dihubungi</td>\n",
       "    </tr>\n",
       "    <tr>\n",
       "      <th>3</th>\n",
       "      <td>56</td>\n",
       "      <td>admin.</td>\n",
       "      <td>high.school</td>\n",
       "      <td>telephone</td>\n",
       "      <td>may</td>\n",
       "      <td>49</td>\n",
       "      <td>1</td>\n",
       "      <td>0</td>\n",
       "      <td>nonexistent</td>\n",
       "      <td>93.994</td>\n",
       "      <td>-36.4</td>\n",
       "      <td>5191.0</td>\n",
       "      <td>belum pernah dihubungi</td>\n",
       "    </tr>\n",
       "    <tr>\n",
       "      <th>4</th>\n",
       "      <td>47</td>\n",
       "      <td>services</td>\n",
       "      <td>high.school</td>\n",
       "      <td>cellular</td>\n",
       "      <td>may</td>\n",
       "      <td>47</td>\n",
       "      <td>3</td>\n",
       "      <td>0</td>\n",
       "      <td>nonexistent</td>\n",
       "      <td>92.893</td>\n",
       "      <td>-46.2</td>\n",
       "      <td>5099.1</td>\n",
       "      <td>belum pernah dihubungi</td>\n",
       "    </tr>\n",
       "  </tbody>\n",
       "</table>\n",
       "</div>"
      ],
      "text/plain": [
       "   age         job            education    contact month  duration  campaign  \\\n",
       "0   35   housemaid              unknown  telephone   jun        66         1   \n",
       "1   38      admin.    university.degree  telephone   may       186         1   \n",
       "2   47  technician  professional.course  telephone   may       202         1   \n",
       "3   56      admin.          high.school  telephone   may        49         1   \n",
       "4   47    services          high.school   cellular   may        47         3   \n",
       "\n",
       "   previous     poutcome  cons.price.idx  cons.conf.idx  nr.employed  \\\n",
       "0         0  nonexistent          94.465          -41.8       5228.1   \n",
       "1         0  nonexistent          93.994          -36.4       5191.0   \n",
       "2         0  nonexistent          93.994          -36.4       5191.0   \n",
       "3         0  nonexistent          93.994          -36.4       5191.0   \n",
       "4         0  nonexistent          92.893          -46.2       5099.1   \n",
       "\n",
       "             pdays_groups  \n",
       "0  belum pernah dihubungi  \n",
       "1  belum pernah dihubungi  \n",
       "2  belum pernah dihubungi  \n",
       "3  belum pernah dihubungi  \n",
       "4  belum pernah dihubungi  "
      ]
     },
     "execution_count": 196,
     "metadata": {},
     "output_type": "execute_result"
    }
   ],
   "source": [
    "# Melihat data inference head\n",
    "X_inf.head()"
   ]
  },
  {
   "cell_type": "code",
   "execution_count": 193,
   "metadata": {},
   "outputs": [],
   "source": [
    "# Melakukan feature splitting pada data inf\n",
    "X_inf_cat = X_inf[cat_columns]\n",
    "X_inf_num = X_inf[num_columns]"
   ]
  },
  {
   "cell_type": "code",
   "execution_count": 197,
   "metadata": {},
   "outputs": [
    {
     "data": {
      "text/plain": [
       "{'job': {0: 'admin.'},\n",
       " 'education': {0: 'university.degree'},\n",
       " 'contact': {0: 'cellular'},\n",
       " 'month': {0: 'may'},\n",
       " 'poutcome': {0: 'nonexistent'},\n",
       " 'pdays_groups': {0: 'belum pernah dihubungi'}}"
      ]
     },
     "execution_count": 197,
     "metadata": {},
     "output_type": "execute_result"
    }
   ],
   "source": [
    "# Melihat modus dari kolom kategorical X_train untuk fill semua nilai unknown mode\n",
    "dict_mode = X_train_cat.mode().to_dict()\n",
    "dict_mode"
   ]
  },
  {
   "cell_type": "code",
   "execution_count": 198,
   "metadata": {},
   "outputs": [
    {
     "name": "stderr",
     "output_type": "stream",
     "text": [
      "C:\\Users\\Jimmy\\AppData\\Local\\Temp\\ipykernel_100540\\1519477566.py:3: SettingWithCopyWarning: \n",
      "A value is trying to be set on a copy of a slice from a DataFrame\n",
      "\n",
      "See the caveats in the documentation: https://pandas.pydata.org/pandas-docs/stable/user_guide/indexing.html#returning-a-view-versus-a-copy\n",
      "  X_inf_cat[i].replace('unknown',dict_mode[i][0], inplace=True)\n"
     ]
    }
   ],
   "source": [
    "# Melakukan replace 'unknown' pada kolom kategorical dengan modus\n",
    "for i in X_inf_cat.columns:\n",
    "    X_inf_cat[i].replace('unknown',dict_mode[i][0], inplace=True)"
   ]
  },
  {
   "cell_type": "code",
   "execution_count": 201,
   "metadata": {},
   "outputs": [
    {
     "data": {
      "text/plain": [
       "job             0\n",
       "education       0\n",
       "contact         0\n",
       "month           0\n",
       "poutcome        0\n",
       "pdays_groups    0\n",
       "dtype: int64"
      ]
     },
     "execution_count": 201,
     "metadata": {},
     "output_type": "execute_result"
    }
   ],
   "source": [
    "# Melihat unexpected missing value yang bertanda 'unknown'\n",
    "X_inf_cat[X_inf_cat=='unknown'].count()"
   ]
  },
  {
   "cell_type": "code",
   "execution_count": 202,
   "metadata": {},
   "outputs": [],
   "source": [
    "# Feature Scaling\n",
    "# Mendefinisikan Feature Scalling dengan StandardScaler\n",
    "scaler = MinMaxScaler()\n",
    "\n",
    "# Fit hanya kolom X_train_num\n",
    "scaler.fit(X_train_num)\n",
    "\n",
    "# Transform X_train dan X_inf\n",
    "X_train_num_scaled = scaler.transform(X_train_num)\n",
    "X_inf_num_scaled = scaler.transform(X_inf_num)"
   ]
  },
  {
   "cell_type": "code",
   "execution_count": 203,
   "metadata": {},
   "outputs": [],
   "source": [
    "# Feature Encoding\n",
    "# Mendefinsikan Feature Encoding dengan OneHotEncoder\n",
    "enc = OneHotEncoder(handle_unknown='ignore', sparse=False)\n",
    "\n",
    "# Fit hanya pada kolom X_train_cat\n",
    "enc.fit(X_train_cat)\n",
    "\n",
    "# Transform X_train_cat dan X_inf_cat\n",
    "X_train_cat_encoded = enc.transform(X_train_cat)\n",
    "X_inf_cat_encoded = enc.transform(X_inf_cat)"
   ]
  },
  {
   "cell_type": "code",
   "execution_count": 204,
   "metadata": {},
   "outputs": [],
   "source": [
    "# Concatenate data numerikal dan kategorical\n",
    "X_inf_final = np.concatenate((X_inf_num_scaled, X_inf_cat_encoded), axis=1)"
   ]
  },
  {
   "cell_type": "markdown",
   "metadata": {},
   "source": [
    "# 10. Pengambilan Keputusan"
   ]
  },
  {
   "cell_type": "code",
   "execution_count": 223,
   "metadata": {},
   "outputs": [],
   "source": [
    "# Uji model inf dengan logreg\n",
    "y_inf_pred_logreg = logreg_gridcv_best.predict(X_inf_final)"
   ]
  },
  {
   "cell_type": "code",
   "execution_count": 224,
   "metadata": {},
   "outputs": [
    {
     "data": {
      "text/html": [
       "<div>\n",
       "<style scoped>\n",
       "    .dataframe tbody tr th:only-of-type {\n",
       "        vertical-align: middle;\n",
       "    }\n",
       "\n",
       "    .dataframe tbody tr th {\n",
       "        vertical-align: top;\n",
       "    }\n",
       "\n",
       "    .dataframe thead th {\n",
       "        text-align: right;\n",
       "    }\n",
       "</style>\n",
       "<table border=\"1\" class=\"dataframe\">\n",
       "  <thead>\n",
       "    <tr style=\"text-align: right;\">\n",
       "      <th></th>\n",
       "      <th>y_inf_pred</th>\n",
       "      <th>y_inf</th>\n",
       "      <th>Kecocokan logreg</th>\n",
       "    </tr>\n",
       "  </thead>\n",
       "  <tbody>\n",
       "    <tr>\n",
       "      <th>0</th>\n",
       "      <td>0</td>\n",
       "      <td>0</td>\n",
       "      <td>True</td>\n",
       "    </tr>\n",
       "    <tr>\n",
       "      <th>1</th>\n",
       "      <td>0</td>\n",
       "      <td>0</td>\n",
       "      <td>True</td>\n",
       "    </tr>\n",
       "    <tr>\n",
       "      <th>2</th>\n",
       "      <td>0</td>\n",
       "      <td>0</td>\n",
       "      <td>True</td>\n",
       "    </tr>\n",
       "    <tr>\n",
       "      <th>3</th>\n",
       "      <td>0</td>\n",
       "      <td>0</td>\n",
       "      <td>True</td>\n",
       "    </tr>\n",
       "    <tr>\n",
       "      <th>4</th>\n",
       "      <td>0</td>\n",
       "      <td>0</td>\n",
       "      <td>True</td>\n",
       "    </tr>\n",
       "    <tr>\n",
       "      <th>5</th>\n",
       "      <td>0</td>\n",
       "      <td>0</td>\n",
       "      <td>True</td>\n",
       "    </tr>\n",
       "    <tr>\n",
       "      <th>6</th>\n",
       "      <td>0</td>\n",
       "      <td>0</td>\n",
       "      <td>True</td>\n",
       "    </tr>\n",
       "    <tr>\n",
       "      <th>7</th>\n",
       "      <td>0</td>\n",
       "      <td>0</td>\n",
       "      <td>True</td>\n",
       "    </tr>\n",
       "    <tr>\n",
       "      <th>8</th>\n",
       "      <td>0</td>\n",
       "      <td>0</td>\n",
       "      <td>True</td>\n",
       "    </tr>\n",
       "    <tr>\n",
       "      <th>9</th>\n",
       "      <td>1</td>\n",
       "      <td>0</td>\n",
       "      <td>False</td>\n",
       "    </tr>\n",
       "  </tbody>\n",
       "</table>\n",
       "</div>"
      ],
      "text/plain": [
       "   y_inf_pred  y_inf  Kecocokan logreg\n",
       "0           0      0              True\n",
       "1           0      0              True\n",
       "2           0      0              True\n",
       "3           0      0              True\n",
       "4           0      0              True\n",
       "5           0      0              True\n",
       "6           0      0              True\n",
       "7           0      0              True\n",
       "8           0      0              True\n",
       "9           1      0             False"
      ]
     },
     "execution_count": 224,
     "metadata": {},
     "output_type": "execute_result"
    }
   ],
   "source": [
    "# Membuat df dari yang dipredict\n",
    "compare_logreg_inf= pd.DataFrame(y_inf_pred_logreg, columns=['y_inf_pred'])\n",
    "# Melihat perbedaan dari y_inf_pred dan y_inf_test, true falsenya\n",
    "compare_logreg_inf['y_inf'] = y_inf\n",
    "compare_logreg_inf['Kecocokan logreg'] = compare_logreg_inf['y_inf_pred'] == compare_logreg_inf['y_inf']\n",
    "compare_logreg_inf"
   ]
  },
  {
   "cell_type": "markdown",
   "metadata": {},
   "source": [
    "- Tabel di atas menunjukkan bahwa model logreg yang sudah dituning dapat memprediksi 9 data inference dengan benar, dan 1 salah prediksi. \n",
    "- Dalam hal bisnis, mungkin model ini dapat digunakan untuk menyeleksi customer yang berpotensi tidak mau menerima tawaran campaign, sehingga dapat mengurangi biaya telekomunikasi dan juga segala biaya yang timbul dari proses follow up customer tersebut."
   ]
  },
  {
   "cell_type": "code",
   "execution_count": 208,
   "metadata": {},
   "outputs": [
    {
     "data": {
      "text/plain": [
       "<AxesSubplot:xlabel='y', ylabel='count'>"
      ]
     },
     "execution_count": 208,
     "metadata": {},
     "output_type": "execute_result"
    },
    {
     "data": {
      "image/png": "[encoded data removed]",
      "text/plain": [
       "<Figure size 432x288 with 1 Axes>"
      ]
     },
     "metadata": {
      "needs_background": "light"
     },
     "output_type": "display_data"
    }
   ],
   "source": [
    "# melihat sebaran y target pada data awal\n",
    "sns.countplot(data=df, x='y')"
   ]
  },
  {
   "cell_type": "markdown",
   "metadata": {},
   "source": [
    "> Terlihat dari sebaran data target yang sangat tidak imbang terutama untuk customer yang mau mengikuti campaign yang ditawarkan membuat model kurang baik dalam memprediksi customer tipe tersebut."
   ]
  },
  {
   "cell_type": "markdown",
   "metadata": {},
   "source": [
    "# 11. Kesimpulan dan Saran"
   ]
  },
  {
   "cell_type": "markdown",
   "metadata": {},
   "source": [
    "Kesimpulan dari Model yang dibuat:\n",
    "- Model yang dipilih dalam kasus ini adalah logistic regression dengan hyperparameter 'C': 760, 'penalty': 'l2', 'solver': 'lbfgs'\n",
    "- Model tersebut mampu menghasilkan akurasi 0.898 pada data test, dengan F1 score 0.94 dan 0.49.\n",
    "- Model logistic regression ini dapat memprediksi dengan baik, khususnya untuk konsumen yang berpotensi menolak tawaran campaign saat dihubungi.\n",
    "- Model ini bagus dipakai guna mengurangi cost yang timbul untuk menghubungi customer yang besar kemungkinan akan menolak tawaran.\n",
    "- Akan tetapi model lalai dalam menyeleksi yang customer yang mau mengikuti campaign yang ditawarkan sehingga dapat menimbulkan opportunity cost.\n",
    "- Sehingga perlu dipertimbangkan profit dan lossnya sebelum mengimplementasikan model.\n",
    "- Adapun langkah-langkah yang dapat memperbaiki performa model adalah memperbanyak data khususnya dari fitur-fitur yang tidak imbang seperti pekerjaan, dll"
   ]
  },
  {
   "cell_type": "markdown",
   "metadata": {},
   "source": [
    "Insight lainnya yang dapat diterapkan:\n",
    "- Berdasarkan data poutcome vs previous, semakin sering dihubungi maka persentase customer mau mengikuti campaign akan semakin tinggi. Maka bisa diperbanyak frekuensi menghubungi customernya.\n",
    "- Berdasarkan data month, pada bulan maret, september, october, dan december merupakan bulan dengan persentase penetrasi campaign yang cukup tinggi (> 43%) dari campaign sebelumnya. Sehingga dapat memperbanyak campaign pada bulan-bulan tersebut.\n",
    "- Akan lebih mudah menerapkan campaign ke customer yang pernah bersedia mengikuti campaign sebelumnya. jadi itu bisa tetap dibuatkan program loyalitas dan tetap harus dihubungi pada campaign selanjutnya.\n",
    "\n",
    "\n"
   ]
  }
 ],
 "metadata": {
  "interpreter": {
   "hash": "4ac40e191b903d9fa996975288cc2cbf07f670f07350deeee99f5b5f08b67b08"
  },
  "kernelspec": {
   "display_name": "Python 3.10.4 64-bit (windows store)",
   "language": "python",
   "name": "python3"
  },
  "language_info": {
   "codemirror_mode": {
    "name": "ipython",
    "version": 3
   },
   "file_extension": ".py",
   "mimetype": "text/x-python",
   "name": "python",
   "nbconvert_exporter": "python",
   "pygments_lexer": "ipython3",
   "version": "3.10.4"
  },
  "orig_nbformat": 4
 },
 "nbformat": 4,
 "nbformat_minor": 2
}
